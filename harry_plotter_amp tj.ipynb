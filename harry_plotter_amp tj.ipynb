{
 "cells": [
  {
   "cell_type": "code",
   "execution_count": 1,
   "metadata": {},
   "outputs": [],
   "source": [
    "from qutip import *\n",
    "import numpy as np\n",
    "import matplotlib.pyplot as plt\n",
    "import h5py\n",
    "from numpy import ma as ma\n",
    "from types import SimpleNamespace\n",
    "# from crewmate.utils import quick_wigner, find_highest_populated_state\n",
    "from scipy.optimize import curve_fit\n",
    "from helpers import *"
   ]
  },
  {
   "cell_type": "markdown",
   "metadata": {},
   "source": [
    "### Helpers"
   ]
  },
  {
   "cell_type": "code",
   "execution_count": 2,
   "metadata": {},
   "outputs": [],
   "source": [
    "def compute_max_Fq(alpha):\n",
    "    cdim = 30\n",
    "    psi = (coherent(cdim, 0) + coherent(cdim, alpha)).unit()\n",
    "    a = destroy(cdim)\n",
    "    return 4 * (\n",
    "        np.abs(np.array(psi.dag() * (a.dag()+a)*(a.dag()+a) * psi)[0][0]) -\n",
    "        np.abs(np.array(psi.dag() * (a.dag()+a) * psi)[0][0]) ** 2\n",
    "    )\n",
    "\n",
    "# Numerical solution without loss, ideal case\n",
    "\n",
    "def ideal_numerical(alpha, c=0.5, D=np.linspace(0, 2, 100)):\n",
    "    cdim = 30\n",
    "    cav_init = (\n",
    "        np.sqrt(c) * coherent(cdim, 0) +\n",
    "        np.sqrt(1-c) * coherent(cdim, alpha)\n",
    "    ).unit()\n",
    "\n",
    "    data = np.zeros(len(D))\n",
    "    for i in range(len(D)):\n",
    "        cav_final = displace(cdim, 1j*D[i]) * cav_init\n",
    "        data[i] = np.abs((cav_final.dag()*cav_init)[0, 0])**2\n",
    "\n",
    "    return data"
   ]
  },
  {
   "cell_type": "code",
   "execution_count": 3,
   "metadata": {},
   "outputs": [],
   "source": [
    "d_list = np.linspace(0, 2, 50)\n",
    "\n",
    "THRESHOLDS = {\n",
    "    '2023-09-25': -0.00014956578372339103,\n",
    "    '2023-09-26': -0.00014956578372339103,\n",
    "    '2023-09-27': -0.00014956578372339103,\n",
    "    '2023-09-28': -0.00014956578372339103,\n",
    "    # New\n",
    "    '2023-11-07': -3.8509558368547627e-05,\n",
    "    '2023-11-08': -3.8509558368547627e-05,\n",
    "    '2023-11-13': -3.4765634935704135e-05,\n",
    "    '2023-11-14': -3.4765634935704135e-05,\n",
    "    '2023-11-15': -3.4765634935704135e-05,\n",
    "    '2023-11-16': -3.4765634935704135e-05,\n",
    "    '2023-12-06': -3.9836266556996435e-05,\n",
    "}\n",
    "\n",
    "# Order of the polynomial fit for different alpha\n",
    "POLYFIT_ORDER = {\n",
    "    '0.5': 4,\n",
    "    '0.75': 4,\n",
    "    '1': 4,\n",
    "    '1.25': 5,#5,\n",
    "    '1.5': 5, #5,\n",
    "    '1.6': 5,\n",
    "    '1.75': 5,\n",
    "    '2': 12, #6,\n",
    "}\n",
    "\n",
    "POLYFIT_ORDER_h = {\n",
    "    '0.5': 4,\n",
    "    '0.75': 4,\n",
    "    '1': 4,\n",
    "    '1.25': 5,\n",
    "    '1.5': 5,\n",
    "    '1.6': 5,\n",
    "    '1.75': 5,\n",
    "    '2': 12, #6,\n",
    "    '2.1': 6,\n",
    "    '2.2': 6,\n",
    "    '2.3': 6,\n",
    "    '2.4': 6,\n",
    "    '2.5': 6\n",
    "}\n",
    "\n",
    "# MEASURED_SQL_v = {\n",
    "#     '0.5': 2.579,  # old: 3.45\n",
    "#     '0.75': 2.495,\n",
    "#     '1': 2.659,  # old: 3.21\n",
    "#     '1.25': 2.476,\n",
    "#     '1.5': 2.445,  # old: 3.392\n",
    "#     '1.6': 2.584,\n",
    "#     '1.75': 2.339,\n",
    "#     '2': 2.309,  # old: 3.309\n",
    "#     '2.1': 4,\n",
    "#     '2.2': 4,\n",
    "#     '2.3': 4,\n",
    "#     '2.4': 4,\n",
    "#     '2.5': 2.487,  # old: 3.209\n",
    "\n",
    "# }\n",
    "\n",
    "MEASURED_SQL_v = {\n",
    "    '0.5': 2.855115994725871,\n",
    "    '0.75': 2.5133305044873073,\n",
    "    '1': 2.604524115988589,\n",
    "    '1.25': 2.467927028719953,\n",
    "    '1.5': 2.6534278007991947,\n",
    "    '1.6': 2.5846578127331004,\n",
    "    '1.75': 2.3425355322141153,\n",
    "    '2': 2.5866561293879027,\n",
    "    # '2.1': \n",
    "    # '2.2': \n",
    "    # '2.3': \n",
    "    # '2.4': \n",
    "    # '2.5': \n",
    "}\n",
    "\n",
    "\n",
    "# MEASURED_SQL_v = np.mean([MEASURED_SQL_v[i] for i in MEASURED_SQL_v])"
   ]
  },
  {
   "cell_type": "markdown",
   "metadata": {},
   "source": [
    "# Amplitude estimation"
   ]
  },
  {
   "cell_type": "markdown",
   "metadata": {},
   "source": [
    "## Quantum vs classical"
   ]
  },
  {
   "cell_type": "code",
   "execution_count": 4,
   "metadata": {},
   "outputs": [
    {
     "data": {
      "application/vnd.jupyter.widget-view+json": {
       "model_id": "78f9ac90be564f12b1c40a150ac46393",
       "version_major": 2,
       "version_minor": 0
      },
      "text/plain": [
       "HBox(children=(HTML(value=''), FloatProgress(value=0.0, max=91.0), HTML(value='')))"
      ]
     },
     "metadata": {},
     "output_type": "display_data"
    },
    {
     "name": "stdout",
     "output_type": "stream",
     "text": [
      "\n",
      "2.347934574917125\n"
     ]
    },
    {
     "name": "stderr",
     "output_type": "stream",
     "text": [
      "/opt/anaconda3/lib/python3.8/site-packages/numpy/lib/function_base.py:1069: ComplexWarning: Casting complex values to real discards the imaginary part\n",
      "  out[tuple(slice1)] = (f[tuple(slice4)] - f[tuple(slice2)]) / (2. * ax_dx)\n",
      "/opt/anaconda3/lib/python3.8/site-packages/numpy/lib/function_base.py:1090: ComplexWarning: Casting complex values to real discards the imaginary part\n",
      "  out[tuple(slice1)] = (f[tuple(slice2)] - f[tuple(slice3)]) / dx_0\n",
      "/opt/anaconda3/lib/python3.8/site-packages/numpy/lib/function_base.py:1097: ComplexWarning: Casting complex values to real discards the imaginary part\n",
      "  out[tuple(slice1)] = (f[tuple(slice2)] - f[tuple(slice3)]) / dx_n\n"
     ]
    },
    {
     "data": {
      "application/vnd.jupyter.widget-view+json": {
       "model_id": "244293f1976b42959123444b46a3463f",
       "version_major": 2,
       "version_minor": 0
      },
      "text/plain": [
       "HBox(children=(HTML(value=''), FloatProgress(value=0.0, max=151.0), HTML(value='')))"
      ]
     },
     "metadata": {},
     "output_type": "display_data"
    },
    {
     "name": "stdout",
     "output_type": "stream",
     "text": [
      "\n",
      "0.7979396793269946\n"
     ]
    },
    {
     "name": "stderr",
     "output_type": "stream",
     "text": [
      "/opt/anaconda3/lib/python3.8/site-packages/numpy/core/_asarray.py:102: ComplexWarning: Casting complex values to real discards the imaginary part\n",
      "  return array(a, dtype, copy=False, order=order)\n"
     ]
    },
    {
     "data": {
      "application/vnd.jupyter.widget-view+json": {
       "model_id": "e0119302b6d74c8694d7fbba4e3b2874",
       "version_major": 2,
       "version_minor": 0
      },
      "text/plain": [
       "HBox(children=(HTML(value=''), FloatProgress(value=0.0, max=151.0), HTML(value='')))"
      ]
     },
     "metadata": {},
     "output_type": "display_data"
    },
    {
     "name": "stdout",
     "output_type": "stream",
     "text": [
      "\n",
      "10.416742711565057\n"
     ]
    },
    {
     "data": {
      "image/png": "[encoded data removed]",
      "text/plain": [
       "<Figure size 226.772x99.2127 with 1 Axes>"
      ]
     },
     "metadata": {
      "needs_background": "light"
     },
     "output_type": "display_data"
    }
   ],
   "source": [
    "data_list = {\n",
    "    'c2': load_experimental_data('ae/data/2023-11-13_c2.h5', THRESHOLDS['2023-11-13'], amplitude=True),\n",
    "    'h2': load_experimental_data('ae/data/2023-11-21_alpha2h.h5', THRESHOLDS['2023-11-13'], amplitude=True),\n",
    "    # '2': load_experimental_data('ae/data/2023-11-24_alpha2v.h5', THRESHOLDS['2023-11-13'], amplitude=True),\n",
    "    '2': load_experimental_data('ae/data/2023-12-09_alpha2_d0j.h5', THRESHOLDS['2023-12-06'], amplitude=True),\n",
    "}\n",
    "\n",
    "sim_list = {\n",
    "    '2': 'ae/sim/g_0_plus_alpha2_all.npz',\n",
    "    'c2': 'ae/sim/g_alpha1327_all.npz',\n",
    "    'h2': 'ae/sim/g_0_plus_alpha2_all_h.npz',\n",
    "}\n",
    "\n",
    "colors = {\n",
    "    # 'c2': ['tab:purple', 'tab:pink'],\n",
    "    # '2': ['tab:blue', 'tab:cyan'],\n",
    "    'c2': ['tab:purple', 'tab:purple'],\n",
    "    '2': ['tab:blue', 'tab:blue'],\n",
    "    'h2': ['tab:gray', 'tab:brown']\n",
    "}\n",
    "\n",
    "# fig = make_figure(width=4, height=4, font_size=8)\n",
    "# ax0 = fig.add_subplot(111)\n",
    "cm = 0.393701\n",
    "fig = plt.subplots(figsize =(8*cm, 3.5*cm))\n",
    "\n",
    "for name in list(data_list.keys()):\n",
    "    data = data_list[name]\n",
    "    pe = data.y\n",
    "    phase = data.x\n",
    "\n",
    "    up_lim = 1.6  # if float(alpha) > 1 else np.max(data.x) - 0.1\n",
    "    x = np.linspace(np.max([np.min(phase), 0.01]), up_lim, 2000)\n",
    "\n",
    "    if name[0] == 'c':\n",
    "        order = 5\n",
    "    elif name[0] == 'h':\n",
    "        order = 6\n",
    "    elif name == '2':\n",
    "        order = 11\n",
    "    else:\n",
    "        order = POLYFIT_ORDER[name]\n",
    "    # Data\n",
    "    data_fit = np.polyfit(phase[phase < up_lim], pe[phase < up_lim], order)\n",
    "    y_fit = np.poly1d(data_fit)(x)\n",
    "    FI_data = compute_FI(y_fit, x[1] - x[0])\n",
    "\n",
    "    # Simulation\n",
    "    if not (name in sim_list):\n",
    "        continue\n",
    "    sim = np.load(sim_list[name], 'r')\n",
    "    phase_sim = sim['x']\n",
    "    pe_sim = sim['probability_sim']\n",
    "    if name[0] == 'h': phase_sim = phase_sim* 1j*1j*1j\n",
    "    x_sim = phase_sim[phase_sim <= max(x)]\n",
    "    y_sim = pe_sim[phase_sim <= max(x)]\n",
    "    FI_sim = compute_FI(y_sim, x_sim[1]-x_sim[0])\n",
    "\n",
    "    mu, sigma = compute_many_FI_error(data, x, order, up_lim, 100)\n",
    "\n",
    "    # Add plots\n",
    "    if colors[name]:\n",
    "        col = colors[name]\n",
    "    else:\n",
    "        col = [None, None]\n",
    "\n",
    "    if name[0] == '2': lab = 'v ' + name_scs(2) #+ txt_ket(0) + '+' + txt_ket(r\"\\alpha = 2\")\n",
    "    elif name[0] == 'c': lab = txt_ket(r'\\alpha='+str(COH_MAP['2'])) #'classical'\n",
    "    elif name[0] == 'h': lab = 'h ' + name_scs(2) #+ txt_ket(0) + '+' + txt_ket(r\"\\alpha = 2\")\n",
    "    plt.plot(x_sim[x_sim<1.3], FI_sim[x_sim<1.3], '--', markersize=3, color=col[1])\n",
    "    plt.plot(x[x<1.3], FI_data[x<1.3], color=col[0], label=lab)\n",
    "    print(max(FI_data[x<0.6]))\n",
    "    plt.fill_between(x[x<1.3], mu[x<1.3]-sigma[x<1.3], mu[x<1.3]+sigma[x<1.3], color=col[0], alpha=0.3)\n",
    "\n",
    "plt.xlim([0, 1.2])\n",
    "plt.ylim([-1, 12.5])\n",
    "# ax0.set_ylim([0,2])\n",
    "# ax0.set_title(\"Fisher Information for $n = 1$\")\n",
    "# ax0.set_xlabel(\"Displacement\")\n",
    "# ax0.set_ylabel(\"Fisher Information\")\n",
    "# plt.legend(loc='upper right', fontsize=8)\n",
    "tick_start = 0\n",
    "tick_end = 1.5\n",
    "tick_step = 0.3\n",
    "plt.xticks(np.arange(tick_start, tick_end, tick_step))\n",
    "plt.tick_params(axis='both', which='major', labelsize=8)\n",
    "plt.savefig('fig4c.pdf')\n",
    "\n",
    "\n",
    "m, a, b, mx = extract_FI_params(x, y_fit, MEASURED_SQL_v['2'])"
   ]
  },
  {
   "cell_type": "markdown",
   "metadata": {},
   "source": [
    "### Offset"
   ]
  },
  {
   "cell_type": "code",
   "execution_count": 5,
   "metadata": {},
   "outputs": [
    {
     "data": {
      "application/vnd.jupyter.widget-view+json": {
       "model_id": "467b3282395647ed8ab2a90b2a0d4ea3",
       "version_major": 2,
       "version_minor": 0
      },
      "text/plain": [
       "HBox(children=(HTML(value=''), FloatProgress(value=0.0, max=151.0), HTML(value='')))"
      ]
     },
     "metadata": {},
     "output_type": "display_data"
    },
    {
     "name": "stdout",
     "output_type": "stream",
     "text": [
      "\n",
      "10.416742711565057\n"
     ]
    },
    {
     "data": {
      "application/vnd.jupyter.widget-view+json": {
       "model_id": "dad0a56d78114e61b939b6591b537192",
       "version_major": 2,
       "version_minor": 0
      },
      "text/plain": [
       "HBox(children=(HTML(value=''), FloatProgress(value=0.0, max=151.0), HTML(value='')))"
      ]
     },
     "metadata": {},
     "output_type": "display_data"
    },
    {
     "name": "stdout",
     "output_type": "stream",
     "text": [
      "\n",
      "9.356546017358859\n"
     ]
    },
    {
     "data": {
      "application/vnd.jupyter.widget-view+json": {
       "model_id": "42790e47da7f468bb22cffa8a347b2a3",
       "version_major": 2,
       "version_minor": 0
      },
      "text/plain": [
       "HBox(children=(HTML(value=''), FloatProgress(value=0.0, max=151.0), HTML(value='')))"
      ]
     },
     "metadata": {},
     "output_type": "display_data"
    },
    {
     "name": "stdout",
     "output_type": "stream",
     "text": [
      "\n",
      "10.071104688372914\n"
     ]
    },
    {
     "data": {
      "image/png": "[encoded data removed]",
      "text/plain": [
       "<Figure size 255.118x113.386 with 1 Axes>"
      ]
     },
     "metadata": {
      "needs_background": "light"
     },
     "output_type": "display_data"
    }
   ],
   "source": [
    "# alpha2_offsets = {\n",
    "#     '0': load_experimental_data('ae/data/2023-11-13_alpha2v.h5', THRESHOLDS['2023-11-13'], amplitude=True),\n",
    "#     # '0.2': load_experimental_data('ae/data/2023-11-16_alpha2_d0j.h5', THRESHOLDS['2023-11-16'], amplitude=True),\n",
    "#     '0.4': load_experimental_data('ae/data/2023-11-16_alpha2_d04j.h5', THRESHOLDS['2023-11-16'], amplitude=True),\n",
    "#     # '-0.15': load_experimental_data('ae/data/2023-11-16_alpha2_dm015j.h5', THRESHOLDS['2023-11-16'], amplitude=True),\n",
    "#     '-0.308': load_experimental_data('ae/data/2023-11-16_alpha2_dm0308j.h5', THRESHOLDS['2023-11-16'], amplitude=True),\n",
    "# }\n",
    "alpha2_offsets = {\n",
    "    # '0': load_experimental_data('ae/data/2023-11-13_alpha2v.h5', THRESHOLDS['2023-11-14'], amplitude=True),\n",
    "    # '-0.2': load_experimental_data('ae/data/2023-11-14_alpha2v_om02.h5', THRESHOLDS['2023-11-14'], amplitude=True),\n",
    "    # '-0.308': load_experimental_data('ae/data/2023-11-14_alpha2v_om0308.h5', THRESHOLDS['2023-11-14'], amplitude=True),\n",
    "    # '-0.4': load_experimental_data('ae/data/2023-11-14_alpha2v_om04.h5', THRESHOLDS['2023-11-14'], amplitude=True),\n",
    "    # '0': load_experimental_data('ae/data/2023-11-16_alpha2_d0j.h5', THRESHOLDS['2023-11-16'], amplitude=True),\n",
    "    # '0.2': load_experimental_data('ae/data/2023-11-16_alpha2_d02j.h5', THRESHOLDS['2023-11-16'], amplitude=True),\n",
    "    # '0.4': load_experimental_data('ae/data/2023-11-16_alpha2_d04j.h5', THRESHOLDS['2023-11-16'], amplitude=True),\n",
    "    '0.0': load_experimental_data('ae/data/2023-12-09_alpha2_d0j.h5', THRESHOLDS['2023-12-06'], amplitude=True),\n",
    "    # '-0.15': load_experimental_data('ae/data/2023-11-16_alpha2_dm015j.h5', THRESHOLDS['2023-11-16'], amplitude=True),\n",
    "    # '-0.308': load_experimental_data('ae/data/2023-11-16_alpha2_dm0308j.h5', THRESHOLDS['2023-11-16'], amplitude=True),\n",
    "    \n",
    "    # '0.0': load_experimental_data('ae/data/2023-11-24_alpha2v.h5', THRESHOLDS['2023-11-13'], amplitude=True),\n",
    "    # '-0.4': load_experimental_data('ae/data/2023-12-08_alpha2_dm04j.h5', THRESHOLDS['2023-12-06'], amplitude=True),\n",
    "    '-0.5': load_experimental_data('ae/data/2023-12-09_alpha2_dm05j.h5', THRESHOLDS['2023-12-06'], amplitude=True),\n",
    "    # '-0.6': load_experimental_data('ae/data/2023-12-08_alpha2_dm06j.h5', THRESHOLDS['2023-12-06'], amplitude=True),\n",
    "    # '-0.7': load_experimental_data('ae/data/2023-12-08_alpha2_dm07j.h5', THRESHOLDS['2023-12-06'], amplitude=True),\n",
    "    '0.4': load_experimental_data('ae/data/2023-12-10_alpha2_d04j.h5', THRESHOLDS['2023-12-06'], amplitude=True),\n",
    "}\n",
    "offset_data = alpha2_offsets\n",
    "# MEASURED_SQL = MEASURED_SQL_v['1.6']\n",
    "\n",
    "# alphas = list(offset_data.keys())\n",
    "# np_alphas = np.array(alphas, dtype='float')\n",
    "\n",
    "fig = make_figure()\n",
    "ax0 = fig.add_subplot(111)\n",
    "\n",
    "for offset in offset_data:\n",
    "    data = offset_data[offset]\n",
    "    pe = data.y\n",
    "    phase = data.x\n",
    "\n",
    "    up_lim = 1.6  # if float(alpha) > 1 else np.max(data.x) - 0.1\n",
    "    x = np.linspace(np.max([np.min(phase), 0.01]), up_lim, 2000)\n",
    "\n",
    "    if offset == '0.0': order = 11 #POLYFIT_ORDER['2']\n",
    "    elif offset == '0.2': order = 10 # 15\n",
    "    elif offset == '0.4': order = 10#15\n",
    "    elif offset == '-0.15': order = 10 #15\n",
    "    elif offset == '-0.308': order = 10# 15\n",
    "    elif offset == '-0.4': order = 10\n",
    "    elif offset == '-0.5': order = 11# 15\n",
    "    else: 4\n",
    "\n",
    "    # Data fit\n",
    "    data_fit = np.polyfit(phase[phase < up_lim], pe[phase < up_lim], order)\n",
    "    y_fit = np.poly1d(data_fit)(x)\n",
    "    FI_data = compute_FI(y_fit, x[1] - x[0])\n",
    "\n",
    "    mu, sigma = compute_many_FI_error(data, x, order, up_lim, 100)\n",
    "\n",
    "    ax0.plot(x, FI_data, label=f'offset {offset}')\n",
    "    ax0.fill_between(x, mu-sigma, mu+sigma, alpha=0.3)\n",
    "    print(max(FI_data[x<0.6]))\n",
    "\n",
    "ax0.set_xlabel('Displacement')\n",
    "ax0.set_ylabel('Fisher information')\n",
    "ax0.set_xlim([0,1.4])\n",
    "ax0.set_ylim([-1,15])\n",
    "# ax0.set_ylim([9,10])\n",
    "ax0.legend()\n",
    "plt.savefig('FI_vs_amp_offset.pdf')"
   ]
  },
  {
   "cell_type": "code",
   "execution_count": 6,
   "metadata": {},
   "outputs": [
    {
     "data": {
      "application/vnd.jupyter.widget-view+json": {
       "model_id": "01a0ca8823a44597b2227f721d7dde45",
       "version_major": 2,
       "version_minor": 0
      },
      "text/plain": [
       "HBox(children=(HTML(value=''), FloatProgress(value=0.0, max=151.0), HTML(value='')))"
      ]
     },
     "metadata": {},
     "output_type": "display_data"
    },
    {
     "name": "stdout",
     "output_type": "stream",
     "text": [
      "\n",
      "10.696361886704747\n"
     ]
    },
    {
     "data": {
      "application/vnd.jupyter.widget-view+json": {
       "model_id": "a31da9c8f2124ecc8cfa8f146b931318",
       "version_major": 2,
       "version_minor": 0
      },
      "text/plain": [
       "HBox(children=(HTML(value=''), FloatProgress(value=0.0, max=151.0), HTML(value='')))"
      ]
     },
     "metadata": {},
     "output_type": "display_data"
    },
    {
     "name": "stdout",
     "output_type": "stream",
     "text": [
      "\n",
      "9.340765061614423\n"
     ]
    },
    {
     "data": {
      "application/vnd.jupyter.widget-view+json": {
       "model_id": "abd81f2c9d49444491345f6fe4e62941",
       "version_major": 2,
       "version_minor": 0
      },
      "text/plain": [
       "HBox(children=(HTML(value=''), FloatProgress(value=0.0, max=151.0), HTML(value='')))"
      ]
     },
     "metadata": {},
     "output_type": "display_data"
    },
    {
     "name": "stdout",
     "output_type": "stream",
     "text": [
      "\n",
      "10.011516579370635\n"
     ]
    },
    {
     "data": {
      "image/png": "[encoded data removed]",
      "text/plain": [
       "<Figure size 226.772x99.2127 with 1 Axes>"
      ]
     },
     "metadata": {
      "needs_background": "light"
     },
     "output_type": "display_data"
    }
   ],
   "source": [
    "# alpha2_offsets = {\n",
    "#     '0': load_experimental_data('ae/data/2023-11-13_alpha2v.h5', THRESHOLDS['2023-11-13'], amplitude=True),\n",
    "#     # '0.2': load_experimental_data('ae/data/2023-11-16_alpha2_d0j.h5', THRESHOLDS['2023-11-16'], amplitude=True),\n",
    "#     '0.4': load_experimental_data('ae/data/2023-11-16_alpha2_d04j.h5', THRESHOLDS['2023-11-16'], amplitude=True),\n",
    "#     # '-0.15': load_experimental_data('ae/data/2023-11-16_alpha2_dm015j.h5', THRESHOLDS['2023-11-16'], amplitude=True),\n",
    "#     '-0.308': load_experimental_data('ae/data/2023-11-16_alpha2_dm0308j.h5', THRESHOLDS['2023-11-16'], amplitude=True),\n",
    "# }\n",
    "alpha2_offsets = {\n",
    "    # '0': load_experimental_data('ae/data/2023-11-13_alpha2v.h5', THRESHOLDS['2023-11-14'], amplitude=True),\n",
    "    # '-0.2': load_experimental_data('ae/data/2023-11-14_alpha2v_om02.h5', THRESHOLDS['2023-11-14'], amplitude=True),\n",
    "    # '-0.308': load_experimental_data('ae/data/2023-11-14_alpha2v_om0308.h5', THRESHOLDS['2023-11-14'], amplitude=True),\n",
    "    # '-0.4': load_experimental_data('ae/data/2023-11-14_alpha2v_om04.h5', THRESHOLDS['2023-11-14'], amplitude=True),\n",
    "    # '0': load_experimental_data('ae/data/2023-11-16_alpha2_d0j.h5', THRESHOLDS['2023-11-16'], amplitude=True),\n",
    "    # '0.2': load_experimental_data('ae/data/2023-11-16_alpha2_d02j.h5', THRESHOLDS['2023-11-16'], amplitude=True),\n",
    "    # '0.4': load_experimental_data('ae/data/2023-11-16_alpha2_d04j.h5', THRESHOLDS['2023-11-16'], amplitude=True),\n",
    "    '0.0': load_experimental_data('ae/data/2023-12-09_alpha2_d0j.h5', THRESHOLDS['2023-12-06'], amplitude=True),\n",
    "    # '-0.15': load_experimental_data('ae/data/2023-11-16_alpha2_dm015j.h5', THRESHOLDS['2023-11-16'], amplitude=True),\n",
    "    # '-0.308': load_experimental_data('ae/data/2023-11-16_alpha2_dm0308j.h5', THRESHOLDS['2023-11-16'], amplitude=True),\n",
    "    # '0.0': load_experimental_data('ae/data/2023-11-24_alpha2v.h5', THRESHOLDS['2023-11-13'], amplitude=True),\n",
    "    # '-0.4': load_experimental_data('ae/data/2023-12-08_alpha2_dm04j.h5', THRESHOLDS['2023-12-06'], amplitude=True),\n",
    "    '-0.5': load_experimental_data('ae/data/2023-12-09_alpha2_dm05j.h5', THRESHOLDS['2023-12-06'], amplitude=True),\n",
    "    # '-0.6': load_experimental_data('ae/data/2023-12-08_alpha2_dm06j.h5', THRESHOLDS['2023-12-06'], amplitude=True),\n",
    "    # '-0.7': load_experimental_data('ae/data/2023-12-08_alpha2_dm07j.h5', THRESHOLDS['2023-12-06'], amplitude=True),\n",
    "    '0.4': load_experimental_data('ae/data/2023-12-10_alpha2_d04j.h5', THRESHOLDS['2023-12-06'], amplitude=True),\n",
    "}\n",
    "offset_data = alpha2_offsets\n",
    "# MEASURED_SQL = MEASURED_SQL_v['1.6']\n",
    "# alphas = list(offset_data.keys())\n",
    "# np_alphas = np.array(alphas, dtype='float')\n",
    "cm = 0.393701\n",
    "# fig, ax0 = plt.subplots(figsize =(3.5*cm, 3.5*cm))\n",
    "\n",
    "colorset = {'0.0': 'tab:blue',\n",
    "            '-0.5': 'saddlebrown',\n",
    "            '0.4': 'teal'}\n",
    "fig, ax0 = plt.subplots(figsize =(8*cm, 3.5*cm))\n",
    "for offset in offset_data:\n",
    "    data = offset_data[offset]\n",
    "    pe = data.y\n",
    "    phase = data.x\n",
    "    up_lim = 1.6  # if float(alpha) > 1 else np.max(data.x) - 0.1\n",
    "    x_dense = np.linspace(np.max([np.min(phase), 0.01]), up_lim, 2000)\n",
    "    if offset == '0.0': order = 12 #POLYFIT_ORDER['2']\n",
    "    elif offset == '0.2': order = 10 # 15\n",
    "    elif offset == '0.4': order = 12#15\n",
    "    elif offset == '-0.15': order = 10 #15\n",
    "    elif offset == '-0.308': order = 10# 15\n",
    "    elif offset == '-0.4': order = 12\n",
    "    elif offset == '-0.5': order = 12# 15\n",
    "    else: 4\n",
    "    # Data fit\n",
    "    data_fit = np.polyfit(phase[phase <= up_lim], pe[phase <= up_lim], order)\n",
    "    x = x_dense[(x_dense <= up_lim)]\n",
    "    y_fit = np.poly1d(data_fit)(x)\n",
    "    FI_data = compute_FI(y_fit, x[1] - x[0])\n",
    "    mu, sigma = compute_many_FI_error(data, x, order, up_lim, 100)\n",
    "    # print(mu-sigma)\n",
    "    # print(mu+sigma)\n",
    "    # print((mu-sigma)-(mu+sigma))\n",
    "    ax0.plot(x[x<1.2], FI_data[x<1.2],color=colorset[offset], label=f'offset {offset}')\n",
    "    ax0.fill_between(x[x<1.2], mu[x<1.2]-sigma[x<1.2], mu[x<1.2]+sigma[x<1.2], color=colorset[offset],alpha=0.3)\n",
    "    print(max(FI_data[x<0.6]))\n",
    "# ax0.set_xlabel('Displacement')\n",
    "# ax0.set_ylabel('Fisher information')\n",
    "ax0.set_xlim([0,1.2])\n",
    "ax0.set_ylim([-1,16])\n",
    "# ax0.set_ylim([9,10])\n",
    "ax0.legend()\n",
    "tick_start = 0\n",
    "tick_end = 1.5\n",
    "tick_step = 0.3\n",
    "ax0.set_xticks(np.arange(tick_start, tick_end, tick_step))\n",
    "plt.savefig('sfig3b.pdf')"
   ]
  },
  {
   "cell_type": "markdown",
   "metadata": {},
   "source": [
    "### Different states"
   ]
  },
  {
   "cell_type": "markdown",
   "metadata": {},
   "source": [
    "## Photon number scaling"
   ]
  },
  {
   "cell_type": "markdown",
   "metadata": {},
   "source": [
    "### SCS vs n"
   ]
  },
  {
   "cell_type": "code",
   "execution_count": 7,
   "metadata": {},
   "outputs": [
    {
     "data": {
      "text/plain": [
       "(0.0, 12.5)"
      ]
     },
     "execution_count": 7,
     "metadata": {},
     "output_type": "execute_result"
    },
    {
     "data": {
      "image/png": "[encoded data removed]",
      "text/plain": [
       "<Figure size 255.118x113.386 with 1 Axes>"
      ]
     },
     "metadata": {
      "needs_background": "light"
     },
     "output_type": "display_data"
    }
   ],
   "source": [
    "alpha_data_h = {\n",
    "    '0.5': load_experimental_data('ae/data/2023-11-17_alpha05h.h5', THRESHOLDS['2023-11-16'], amplitude=True),\n",
    "    '0.75': load_experimental_data('ae/data/2023-11-17_alpha075h.h5', THRESHOLDS['2023-11-16'], amplitude=True),\n",
    "    '1': load_experimental_data('ae/data/2023-11-17_alpha1h.h5', THRESHOLDS['2023-11-16'], amplitude=True),\n",
    "    '1.25': load_experimental_data('ae/data/2023-11-17_alpha125h.h5', THRESHOLDS['2023-11-16'], amplitude=True),\n",
    "    '1.5': load_experimental_data('ae/data/2023-11-17_alpha15h.h5', THRESHOLDS['2023-11-16'], amplitude=True),\n",
    "    '1.6': load_experimental_data('ae/data/2023-11-17_alpha15h.h5', THRESHOLDS['2023-11-16'], amplitude=True),\n",
    "    '1.75': load_experimental_data('ae/data/2023-11-17_alpha175h.h5', THRESHOLDS['2023-11-16'], amplitude=True),\n",
    "    '2': load_experimental_data('ae/data/2023-11-17_alpha2h.h5', THRESHOLDS['2023-11-16'], amplitude=True),\n",
    "}\n",
    "\n",
    "alpha_sim = {\n",
    "    '0.5': 'ae/sim/g_0_plus_alpha05_all.npz',\n",
    "    '0.75': 'ae/sim/g_0_plus_alpha075_all.npz',\n",
    "    '1': 'ae/sim/g_0_plus_alpha1_all.npz',\n",
    "    '1.25': 'ae/sim/g_0_plus_alpha125_all.npz',\n",
    "    '1.5': 'ae/sim/g_0_plus_alpha15_all.npz',\n",
    "    '1.6': 'ae/sim/g_0_plus_alpha16_all.npz',\n",
    "    '1.75': 'ae/sim/g_0_plus_alpha175_all.npz',\n",
    "    '2': 'ae/sim/g_0_plus_alpha2_all.npz',\n",
    "    '2.1': 'ae/sim/g_0_plus_alpha2_all.npz',\n",
    "    '2.2': 'ae/sim/g_0_plus_alpha2_all.npz',\n",
    "    '2.3': 'ae/sim/g_0_plus_alpha2_all.npz',\n",
    "    '2.4': 'ae/sim/g_0_plus_alpha2_all.npz',\n",
    "    '2.5': 'ae/sim/g_0_plus_alpha2_all.npz',\n",
    "    # '2.25': 'ae/sim/g_0_plus_alpha225_pm.npz',\n",
    "    # '2.5': 'ae/sim/g_0_plus_alpha25_pm.npz',\n",
    "}\n",
    "\n",
    "fig = make_figure()\n",
    "ax0 = fig.add_subplot(111)\n",
    "\n",
    "alpha_data = alpha_data_h\n",
    "\n",
    "alphas = list(alpha_data.keys())\n",
    "np_alphas = np.array(alphas, dtype='float')\n",
    "\n",
    "\n",
    "result_max_h = []\n",
    "for offset in alpha_data_h:\n",
    "    data = alpha_data_h[offset]\n",
    "    up_lim = 1.6 #np.max(data.x) # 0.1 if (np.max(data.x) < 1.6) else 1.6\n",
    "    x_dense = np.linspace(np.max([np.min(data.x), 0.01]), up_lim, 2000) #np.linspace(min(d_list), up_lim, 2000)\n",
    "    # Data fit\n",
    "    data_fit = np.polyfit(data.x[data.x<=up_lim], data.y[data.x<=up_lim], POLYFIT_ORDER_h[offset])\n",
    "    # Experimental FI\n",
    "    x = x_dense[(x_dense <= up_lim) & (x_dense > 0.0)]\n",
    "    y_fit = np.poly1d(data_fit)(x)\n",
    "    plt.plot(data.x, data.y)\n",
    "    FI_data = compute_FI(y_fit, x[1] - x[0])\n",
    "    result_max_h.append(FI_data.max())\n",
    " \n",
    "\n",
    "\n",
    "n = [compute_photon_number(v) for v in np_alphas]\n",
    "\n",
    "\n",
    "# # Fisher information plot\n",
    "ax0.plot(n, result_max_h, '.-', label=\"Measured FI max\")\n",
    "ax0.set_ylim(0,12.5)\n",
    "\n"
   ]
  },
  {
   "cell_type": "code",
   "execution_count": 8,
   "metadata": {},
   "outputs": [],
   "source": [
    "def compute_many_FI_error_offset(data, x_fit, fit_order, up_lim, n_boot=100):\n",
    "    x_len = len(data.x)\n",
    "\n",
    "    mu_boot_g = np.zeros([n_boot, x_len])\n",
    "    mu_boot_gvac = np.zeros([n_boot, x_len])\n",
    "    \n",
    "    for i in tqdm(range(x_len)):\n",
    "        # First measurement, g\n",
    "        _, _, mu_boot_g[:, i] = bootstrap(data.m1[:, i], n_boot)\n",
    "\n",
    "        # Second measurement, g vac\n",
    "        _, _, mu_boot_gvac[:, i] = bootstrap(data.y_raw[:, i], n_boot)\n",
    "\n",
    "    # Compute Fisher information\n",
    "    idx = data.x < up_lim\n",
    "    x = x_fit\n",
    "    FIs = np.zeros([n_boot, len(x)])\n",
    "    offset_data_array =[]\n",
    "    for i in range(n_boot):\n",
    "        \n",
    "        mu = (1-mu_boot_g[i, :]) * mu_boot_gvac[i, :]\n",
    "\n",
    "        data_fit = np.polyfit(data.x[idx], mu[idx], fit_order)\n",
    "\n",
    "        # Fisher information\n",
    "        y_fit = np.poly1d(data_fit)(x)\n",
    "        FIs[i, :] = compute_FI(y_fit, x[1] - x[0])\n",
    "\n",
    "        # index = np.argmax(FIs[i,:])\n",
    "        index = np.argmax(FIs[i, x_fit<1])\n",
    "        # print(index)\n",
    "        index_offset = np.argmin(np.abs(data.x-x_fit[index]))\n",
    "        offset_data_array.append(data.x[index_offset])\n",
    "\n",
    "    print(offset_data_array)    \n",
    "    var_offset = np.var(offset_data_array)   \n",
    "  \n",
    "    # Observed FI\n",
    "    data_fit = np.polyfit(data.x[idx], data.y[idx], fit_order)\n",
    "    y_fit = np.poly1d(data_fit)(x)\n",
    "    FI_data = compute_FI(y_fit, x[1] - x[0])\n",
    "\n",
    "    # Account for std estimation bias by shifting the distribution to the observed mean\n",
    "    FI_mu = np.mean(FIs, axis=0)\n",
    "    FIs += FI_data - FI_mu\n",
    "    FI_sigma = np.std(FIs, axis=0)\n",
    "\n",
    "    return FI_mu, FI_sigma, np.sqrt(var_offset)"
   ]
  },
  {
   "cell_type": "code",
   "execution_count": 9,
   "metadata": {},
   "outputs": [
    {
     "data": {
      "application/vnd.jupyter.widget-view+json": {
       "model_id": "c0db935c9fb84acbb830a431d4d36ace",
       "version_major": 2,
       "version_minor": 0
      },
      "text/plain": [
       "HBox(children=(HTML(value=''), FloatProgress(value=0.0, max=91.0), HTML(value='')))"
      ]
     },
     "metadata": {},
     "output_type": "display_data"
    },
    {
     "name": "stdout",
     "output_type": "stream",
     "text": [
      "\n"
     ]
    },
    {
     "data": {
      "application/vnd.jupyter.widget-view+json": {
       "model_id": "4a0a1505ff2f4447a045b55c054166c7",
       "version_major": 2,
       "version_minor": 0
      },
      "text/plain": [
       "HBox(children=(HTML(value=''), FloatProgress(value=0.0, max=91.0), HTML(value='')))"
      ]
     },
     "metadata": {},
     "output_type": "display_data"
    },
    {
     "name": "stdout",
     "output_type": "stream",
     "text": [
      "\n",
      "[0.5199999883770943, 0.4999999888241291, 0.4399999901652336, 0.5199999883770943, 0.47999998927116394, 0.4999999888241291, 0.47999998927116394, 0.5199999883770943, 0.4599999897181988, 0.5199999883770943, 0.5199999883770943, 0.6199999861419201, 0.4999999888241291, 0.5199999883770943, 0.5399999879300594, 0.4999999888241291, 0.5199999883770943, 0.4999999888241291, 0.47999998927116394, 0.47999998927116394, 0.5199999883770943, 0.4999999888241291, 0.5199999883770943, 0.4999999888241291, 0.4999999888241291, 0.4999999888241291, 0.47999998927116394, 0.47999998927116394, 0.5199999883770943, 0.4599999897181988, 0.5199999883770943, 0.5199999883770943, 0.4999999888241291, 0.47999998927116394, 0.4999999888241291, 0.5399999879300594, 0.4999999888241291, 0.4999999888241291, 0.47999998927116394, 0.4999999888241291, 0.47999998927116394, 0.47999998927116394, 0.4999999888241291, 0.5199999883770943, 0.5199999883770943, 0.47999998927116394, 0.5399999879300594, 0.4999999888241291, 0.5399999879300594, 0.4599999897181988, 0.5399999879300594, 0.5199999883770943, 0.4999999888241291, 0.4999999888241291, 0.5199999883770943, 0.47999998927116394, 0.47999998927116394, 0.4999999888241291, 0.47999998927116394, 0.5199999883770943, 0.5399999879300594, 0.5399999879300594, 0.5599999874830246, 0.5199999883770943, 0.4999999888241291, 0.47999998927116394, 0.5199999883770943, 0.5199999883770943, 0.47999998927116394, 0.47999998927116394, 0.5199999883770943, 0.5199999883770943, 0.5199999883770943, 0.4999999888241291, 0.5399999879300594, 0.4999999888241291, 0.47999998927116394, 0.47999998927116394, 0.5399999879300594, 0.5199999883770943, 0.5199999883770943, 0.4999999888241291, 0.47999998927116394, 0.5199999883770943, 0.47999998927116394, 0.47999998927116394, 0.4599999897181988, 0.4599999897181988, 0.5199999883770943, 0.47999998927116394, 0.47999998927116394, 0.4999999888241291, 0.4999999888241291, 0.47999998927116394, 0.5199999883770943, 0.4999999888241291, 0.4999999888241291, 0.47999998927116394, 0.4999999888241291, 0.5399999879300594]\n"
     ]
    },
    {
     "data": {
      "application/vnd.jupyter.widget-view+json": {
       "model_id": "6b0e2d2866c0448f9655640aed3f6644",
       "version_major": 2,
       "version_minor": 0
      },
      "text/plain": [
       "HBox(children=(HTML(value=''), FloatProgress(value=0.0, max=91.0), HTML(value='')))"
      ]
     },
     "metadata": {},
     "output_type": "display_data"
    },
    {
     "name": "stdout",
     "output_type": "stream",
     "text": [
      "\n"
     ]
    },
    {
     "data": {
      "application/vnd.jupyter.widget-view+json": {
       "model_id": "09c16ed154df455fa027d7b4efa86105",
       "version_major": 2,
       "version_minor": 0
      },
      "text/plain": [
       "HBox(children=(HTML(value=''), FloatProgress(value=0.0, max=91.0), HTML(value='')))"
      ]
     },
     "metadata": {},
     "output_type": "display_data"
    },
    {
     "name": "stdout",
     "output_type": "stream",
     "text": [
      "\n"
     ]
    },
    {
     "data": {
      "application/vnd.jupyter.widget-view+json": {
       "model_id": "42c92b87ce414f3ba5cb86cf2989394a",
       "version_major": 2,
       "version_minor": 0
      },
      "text/plain": [
       "HBox(children=(HTML(value=''), FloatProgress(value=0.0, max=91.0), HTML(value='')))"
      ]
     },
     "metadata": {},
     "output_type": "display_data"
    },
    {
     "name": "stdout",
     "output_type": "stream",
     "text": [
      "\n",
      "[0.4999999888241291, 0.5599999874830246, 0.5199999883770943, 0.4999999888241291, 0.4999999888241291, 0.4999999888241291, 0.5399999879300594, 0.47999998927116394, 0.4999999888241291, 0.47999998927116394, 0.5199999883770943, 0.5199999883770943, 0.4999999888241291, 0.4999999888241291, 0.4999999888241291, 0.4999999888241291, 0.4999999888241291, 0.4999999888241291, 0.5199999883770943, 0.47999998927116394, 0.5199999883770943, 0.4999999888241291, 0.4999999888241291, 0.4999999888241291, 0.4999999888241291, 0.4999999888241291, 0.4999999888241291, 0.5199999883770943, 0.4999999888241291, 0.47999998927116394, 0.47999998927116394, 0.5199999883770943, 0.5199999883770943, 0.47999998927116394, 0.5399999879300594, 0.4999999888241291, 0.4999999888241291, 0.5199999883770943, 0.47999998927116394, 0.5199999883770943, 0.4999999888241291, 0.5399999879300594, 0.4999999888241291, 0.5199999883770943, 0.4999999888241291, 0.4999999888241291, 0.5199999883770943, 0.5199999883770943, 0.47999998927116394, 0.47999998927116394, 0.5399999879300594, 0.5199999883770943, 0.5399999879300594, 0.4999999888241291, 0.4599999897181988, 0.47999998927116394, 0.5199999883770943, 0.47999998927116394, 0.5199999883770943, 0.5199999883770943, 0.4999999888241291, 0.5199999883770943, 0.5199999883770943, 0.5399999879300594, 0.5399999879300594, 0.4999999888241291, 0.4999999888241291, 0.5199999883770943, 0.4999999888241291, 0.4999999888241291, 0.4999999888241291, 0.5199999883770943, 0.47999998927116394, 0.47999998927116394, 0.4999999888241291, 0.4999999888241291, 0.5199999883770943, 0.4999999888241291, 0.4999999888241291, 0.47999998927116394, 0.4999999888241291, 0.47999998927116394, 0.5199999883770943, 0.4999999888241291, 0.4999999888241291, 0.4999999888241291, 0.5399999879300594, 0.5199999883770943, 0.47999998927116394, 0.4999999888241291, 0.4999999888241291, 0.4999999888241291, 0.5199999883770943, 0.4999999888241291, 0.47999998927116394, 0.5399999879300594, 0.47999998927116394, 0.5199999883770943, 0.4999999888241291, 0.5199999883770943]\n"
     ]
    },
    {
     "data": {
      "application/vnd.jupyter.widget-view+json": {
       "model_id": "a823f2c55b624dfa8b57f4a4935c2463",
       "version_major": 2,
       "version_minor": 0
      },
      "text/plain": [
       "HBox(children=(HTML(value=''), FloatProgress(value=0.0, max=91.0), HTML(value='')))"
      ]
     },
     "metadata": {},
     "output_type": "display_data"
    },
    {
     "name": "stdout",
     "output_type": "stream",
     "text": [
      "\n"
     ]
    },
    {
     "data": {
      "application/vnd.jupyter.widget-view+json": {
       "model_id": "c0da8c54d897481ba41366daf40bf6ca",
       "version_major": 2,
       "version_minor": 0
      },
      "text/plain": [
       "HBox(children=(HTML(value=''), FloatProgress(value=0.0, max=91.0), HTML(value='')))"
      ]
     },
     "metadata": {},
     "output_type": "display_data"
    },
    {
     "name": "stdout",
     "output_type": "stream",
     "text": [
      "\n"
     ]
    },
    {
     "data": {
      "application/vnd.jupyter.widget-view+json": {
       "model_id": "de7df062b8ca40678ba1f58c7b676e44",
       "version_major": 2,
       "version_minor": 0
      },
      "text/plain": [
       "HBox(children=(HTML(value=''), FloatProgress(value=0.0, max=91.0), HTML(value='')))"
      ]
     },
     "metadata": {},
     "output_type": "display_data"
    },
    {
     "name": "stdout",
     "output_type": "stream",
     "text": [
      "\n",
      "[0.5199999883770943, 0.5199999883770943, 0.5399999879300594, 0.5199999883770943, 0.5199999883770943, 0.5399999879300594, 0.5199999883770943, 0.5199999883770943, 0.5399999879300594, 0.5399999879300594, 0.5399999879300594, 0.5199999883770943, 0.5399999879300594, 0.5199999883770943, 0.5199999883770943, 0.5599999874830246, 0.5399999879300594, 0.5399999879300594, 0.5399999879300594, 0.5199999883770943, 0.5599999874830246, 0.5399999879300594, 0.5199999883770943, 0.5199999883770943, 0.5599999874830246, 0.5199999883770943, 0.5399999879300594, 0.5399999879300594, 0.5199999883770943, 0.5199999883770943, 0.5399999879300594, 0.5199999883770943, 0.5199999883770943, 0.5399999879300594, 0.5399999879300594, 0.5399999879300594, 0.5399999879300594, 0.5199999883770943, 0.5399999879300594, 0.5199999883770943, 0.5199999883770943, 0.5399999879300594, 0.5199999883770943, 0.5199999883770943, 0.5199999883770943, 0.5399999879300594, 0.4999999888241291, 0.4999999888241291, 0.5199999883770943, 0.5399999879300594, 0.5199999883770943, 0.5399999879300594, 0.5399999879300594, 0.5199999883770943, 0.5599999874830246, 0.5399999879300594, 0.5199999883770943, 0.5399999879300594, 0.5399999879300594, 0.5399999879300594, 0.5399999879300594, 0.5199999883770943, 0.5199999883770943, 0.5199999883770943, 0.4999999888241291, 0.5199999883770943, 0.5399999879300594, 0.4999999888241291, 0.5399999879300594, 0.5199999883770943, 0.5599999874830246, 0.5399999879300594, 0.5199999883770943, 0.5199999883770943, 0.5399999879300594, 0.5199999883770943, 0.5399999879300594, 0.5599999874830246, 0.5399999879300594, 0.5199999883770943, 0.5199999883770943, 0.5199999883770943, 0.5199999883770943, 0.5199999883770943, 0.5399999879300594, 0.5399999879300594, 0.5199999883770943, 0.5399999879300594, 0.5399999879300594, 0.5399999879300594, 0.5399999879300594, 0.5399999879300594, 0.5199999883770943, 0.5399999879300594, 0.5599999874830246, 0.5399999879300594, 0.5399999879300594, 0.5199999883770943, 0.5399999879300594, 0.5199999883770943]\n"
     ]
    },
    {
     "name": "stderr",
     "output_type": "stream",
     "text": [
      "/Users/panxiaozhou/Documents/GitHub/Metrology_project/protocol_simulation/panda4/helpers.py:55: RuntimeWarning: divide by zero encountered in true_divide\n",
      "  return (dy**2 / (y) + dy**2 / (1-y))\n"
     ]
    },
    {
     "data": {
      "application/vnd.jupyter.widget-view+json": {
       "model_id": "05a5ed223e554d4a8e796a47e02439cf",
       "version_major": 2,
       "version_minor": 0
      },
      "text/plain": [
       "HBox(children=(HTML(value=''), FloatProgress(value=0.0, max=91.0), HTML(value='')))"
      ]
     },
     "metadata": {},
     "output_type": "display_data"
    },
    {
     "name": "stdout",
     "output_type": "stream",
     "text": [
      "\n"
     ]
    },
    {
     "data": {
      "application/vnd.jupyter.widget-view+json": {
       "model_id": "bb1e5cc9fc854a52aa5c4fd8dc547578",
       "version_major": 2,
       "version_minor": 0
      },
      "text/plain": [
       "HBox(children=(HTML(value=''), FloatProgress(value=0.0, max=91.0), HTML(value='')))"
      ]
     },
     "metadata": {},
     "output_type": "display_data"
    },
    {
     "name": "stdout",
     "output_type": "stream",
     "text": [
      "\n"
     ]
    },
    {
     "data": {
      "application/vnd.jupyter.widget-view+json": {
       "model_id": "f6da3604aa6b43c898ec3ba9a68bf178",
       "version_major": 2,
       "version_minor": 0
      },
      "text/plain": [
       "HBox(children=(HTML(value=''), FloatProgress(value=0.0, max=91.0), HTML(value='')))"
      ]
     },
     "metadata": {},
     "output_type": "display_data"
    },
    {
     "name": "stdout",
     "output_type": "stream",
     "text": [
      "\n",
      "[0.3999999910593033, 0.35999999195337296, 0.3399999924004078, 0.4399999901652336, 0.3799999915063381, 0.3999999910593033, 0.41999999061226845, 0.3799999915063381, 0.5399999879300594, 0.3999999910593033, 0.4399999901652336, 0.3799999915063381, 0.41999999061226845, 0.3999999910593033, 0.3799999915063381, 0.3799999915063381, 0.5199999883770943, 0.35999999195337296, 0.3999999910593033, 0.41999999061226845, 0.3799999915063381, 0.4599999897181988, 0.35999999195337296, 0.4399999901652336, 0.3999999910593033, 0.3999999910593033, 0.3799999915063381, 0.4599999897181988, 0.3999999910593033, 0.3799999915063381, 0.3999999910593033, 0.3999999910593033, 0.3999999910593033, 0.3799999915063381, 0.4399999901652336, 0.3999999910593033, 0.4599999897181988, 0.3799999915063381, 0.3799999915063381, 0.41999999061226845, 0.47999998927116394, 0.3999999910593033, 0.3999999910593033, 0.3999999910593033, 0.3999999910593033, 0.3799999915063381, 0.3799999915063381, 0.4399999901652336, 0.4599999897181988, 0.4599999897181988, 0.41999999061226845, 0.3799999915063381, 0.41999999061226845, 0.4399999901652336, 0.3799999915063381, 0.3799999915063381, 0.3999999910593033, 0.4399999901652336, 0.3999999910593033, 0.47999998927116394, 0.3999999910593033, 0.3799999915063381, 0.41999999061226845, 0.35999999195337296, 0.3999999910593033, 0.41999999061226845, 0.3999999910593033, 0.41999999061226845, 0.35999999195337296, 0.4999999888241291, 0.35999999195337296, 0.3799999915063381, 0.3799999915063381, 0.41999999061226845, 0.3999999910593033, 0.4399999901652336, 0.35999999195337296, 0.3799999915063381, 0.3799999915063381, 0.3799999915063381, 0.3999999910593033, 0.41999999061226845, 0.3999999910593033, 0.35999999195337296, 0.3999999910593033, 0.4999999888241291, 0.3999999910593033, 0.4599999897181988, 0.3999999910593033, 0.3799999915063381, 0.3999999910593033, 0.3999999910593033, 0.4599999897181988, 0.3999999910593033, 0.41999999061226845, 0.3999999910593033, 0.4399999901652336, 0.3799999915063381, 0.4399999901652336, 0.3799999915063381]\n"
     ]
    },
    {
     "data": {
      "application/vnd.jupyter.widget-view+json": {
       "model_id": "46b725331d7d450381ad61f311b795fa",
       "version_major": 2,
       "version_minor": 0
      },
      "text/plain": [
       "HBox(children=(HTML(value=''), FloatProgress(value=0.0, max=91.0), HTML(value='')))"
      ]
     },
     "metadata": {},
     "output_type": "display_data"
    },
    {
     "name": "stdout",
     "output_type": "stream",
     "text": [
      "\n"
     ]
    },
    {
     "data": {
      "application/vnd.jupyter.widget-view+json": {
       "model_id": "3baffe04ada5452e86fbb71d6424c2b9",
       "version_major": 2,
       "version_minor": 0
      },
      "text/plain": [
       "HBox(children=(HTML(value=''), FloatProgress(value=0.0, max=91.0), HTML(value='')))"
      ]
     },
     "metadata": {},
     "output_type": "display_data"
    },
    {
     "name": "stdout",
     "output_type": "stream",
     "text": [
      "\n"
     ]
    },
    {
     "data": {
      "application/vnd.jupyter.widget-view+json": {
       "model_id": "0f6c32ca22274882bbbed5d237e793b6",
       "version_major": 2,
       "version_minor": 0
      },
      "text/plain": [
       "HBox(children=(HTML(value=''), FloatProgress(value=0.0, max=91.0), HTML(value='')))"
      ]
     },
     "metadata": {},
     "output_type": "display_data"
    },
    {
     "name": "stdout",
     "output_type": "stream",
     "text": [
      "\n",
      "[0.35999999195337296, 0.3799999915063381, 0.35999999195337296, 0.3399999924004078, 0.35999999195337296, 0.3399999924004078, 0.3799999915063381, 0.3799999915063381, 0.35999999195337296, 0.3399999924004078, 0.35999999195337296, 0.35999999195337296, 0.3999999910593033, 0.35999999195337296, 0.35999999195337296, 0.35999999195337296, 0.35999999195337296, 0.3799999915063381, 0.3799999915063381, 0.3799999915063381, 0.3799999915063381, 0.3799999915063381, 0.3399999924004078, 0.35999999195337296, 0.35999999195337296, 0.3799999915063381, 0.35999999195337296, 0.3799999915063381, 0.3399999924004078, 0.35999999195337296, 0.35999999195337296, 0.3799999915063381, 0.3399999924004078, 0.35999999195337296, 0.35999999195337296, 0.3799999915063381, 0.3799999915063381, 0.3399999924004078, 0.35999999195337296, 0.3399999924004078, 0.3399999924004078, 0.3799999915063381, 0.3799999915063381, 0.35999999195337296, 0.3399999924004078, 0.3399999924004078, 0.35999999195337296, 0.35999999195337296, 0.35999999195337296, 0.3399999924004078, 0.3799999915063381, 0.3399999924004078, 0.35999999195337296, 0.35999999195337296, 0.3799999915063381, 0.35999999195337296, 0.35999999195337296, 0.35999999195337296, 0.35999999195337296, 0.3399999924004078, 0.3799999915063381, 0.3399999924004078, 0.35999999195337296, 0.3399999924004078, 0.3399999924004078, 0.35999999195337296, 0.35999999195337296, 0.35999999195337296, 0.35999999195337296, 0.35999999195337296, 0.35999999195337296, 0.35999999195337296, 0.3799999915063381, 0.3799999915063381, 0.35999999195337296, 0.35999999195337296, 0.3799999915063381, 0.35999999195337296, 0.35999999195337296, 0.35999999195337296, 0.3999999910593033, 0.35999999195337296, 0.35999999195337296, 0.3799999915063381, 0.35999999195337296, 0.35999999195337296, 0.3999999910593033, 0.3799999915063381, 0.3799999915063381, 0.35999999195337296, 0.35999999195337296, 0.35999999195337296, 0.35999999195337296, 0.35999999195337296, 0.3799999915063381, 0.3399999924004078, 0.3399999924004078, 0.3799999915063381, 0.35999999195337296, 0.3399999924004078]\n"
     ]
    },
    {
     "data": {
      "application/vnd.jupyter.widget-view+json": {
       "model_id": "0949ea9b7e984d83815235d4acb9665d",
       "version_major": 2,
       "version_minor": 0
      },
      "text/plain": [
       "HBox(children=(HTML(value=''), FloatProgress(value=0.0, max=91.0), HTML(value='')))"
      ]
     },
     "metadata": {},
     "output_type": "display_data"
    },
    {
     "name": "stdout",
     "output_type": "stream",
     "text": [
      "\n"
     ]
    },
    {
     "data": {
      "application/vnd.jupyter.widget-view+json": {
       "model_id": "e9ba0c1a5afe4dbba147da3f7a732aa3",
       "version_major": 2,
       "version_minor": 0
      },
      "text/plain": [
       "HBox(children=(HTML(value=''), FloatProgress(value=0.0, max=91.0), HTML(value='')))"
      ]
     },
     "metadata": {},
     "output_type": "display_data"
    },
    {
     "name": "stdout",
     "output_type": "stream",
     "text": [
      "\n"
     ]
    },
    {
     "data": {
      "application/vnd.jupyter.widget-view+json": {
       "model_id": "1bf1b85afe9a4afd8349380062ad64ca",
       "version_major": 2,
       "version_minor": 0
      },
      "text/plain": [
       "HBox(children=(HTML(value=''), FloatProgress(value=0.0, max=91.0), HTML(value='')))"
      ]
     },
     "metadata": {},
     "output_type": "display_data"
    },
    {
     "name": "stdout",
     "output_type": "stream",
     "text": [
      "\n",
      "[0.3399999924004078, 0.35999999195337296, 0.3399999924004078, 0.35999999195337296, 0.35999999195337296, 0.3399999924004078, 0.35999999195337296, 0.35999999195337296, 0.3399999924004078, 0.3399999924004078, 0.35999999195337296, 0.3399999924004078, 0.35999999195337296, 0.35999999195337296, 0.35999999195337296, 0.35999999195337296, 0.3399999924004078, 0.35999999195337296, 0.3399999924004078, 0.3399999924004078, 0.35999999195337296, 0.35999999195337296, 0.35999999195337296, 0.3399999924004078, 0.35999999195337296, 0.3399999924004078, 0.3399999924004078, 0.35999999195337296, 0.3799999915063381, 0.35999999195337296, 0.3399999924004078, 0.35999999195337296, 0.35999999195337296, 0.35999999195337296, 0.35999999195337296, 0.35999999195337296, 0.3399999924004078, 0.3399999924004078, 0.3399999924004078, 0.35999999195337296, 0.35999999195337296, 0.35999999195337296, 0.35999999195337296, 0.35999999195337296, 0.3399999924004078, 0.35999999195337296, 0.35999999195337296, 0.3199999928474426, 0.35999999195337296, 0.35999999195337296, 0.35999999195337296, 0.35999999195337296, 0.35999999195337296, 0.35999999195337296, 0.35999999195337296, 0.3399999924004078, 0.35999999195337296, 0.3399999924004078, 0.3399999924004078, 0.3399999924004078, 0.3399999924004078, 0.3799999915063381, 0.3199999928474426, 0.35999999195337296, 0.3799999915063381, 0.3799999915063381, 0.35999999195337296, 0.35999999195337296, 0.35999999195337296, 0.3399999924004078, 0.3399999924004078, 0.3399999924004078, 0.3399999924004078, 0.35999999195337296, 0.3399999924004078, 0.3799999915063381, 0.35999999195337296, 0.3399999924004078, 0.35999999195337296, 0.3399999924004078, 0.3399999924004078, 0.35999999195337296, 0.35999999195337296, 0.3799999915063381, 0.3399999924004078, 0.3399999924004078, 0.35999999195337296, 0.3399999924004078, 0.3399999924004078, 0.3399999924004078, 0.35999999195337296, 0.35999999195337296, 0.35999999195337296, 0.3399999924004078, 0.3399999924004078, 0.35999999195337296, 0.35999999195337296, 0.35999999195337296, 0.3399999924004078, 0.3399999924004078]\n"
     ]
    },
    {
     "data": {
      "application/vnd.jupyter.widget-view+json": {
       "model_id": "8153bdddf08246d4b5bbf973ff1e38d9",
       "version_major": 2,
       "version_minor": 0
      },
      "text/plain": [
       "HBox(children=(HTML(value=''), FloatProgress(value=0.0, max=91.0), HTML(value='')))"
      ]
     },
     "metadata": {},
     "output_type": "display_data"
    },
    {
     "name": "stdout",
     "output_type": "stream",
     "text": [
      "\n"
     ]
    },
    {
     "data": {
      "application/vnd.jupyter.widget-view+json": {
       "model_id": "7709cc64aafd4f39a559e2e0bd7fef64",
       "version_major": 2,
       "version_minor": 0
      },
      "text/plain": [
       "HBox(children=(HTML(value=''), FloatProgress(value=0.0, max=91.0), HTML(value='')))"
      ]
     },
     "metadata": {},
     "output_type": "display_data"
    },
    {
     "name": "stdout",
     "output_type": "stream",
     "text": [
      "\n"
     ]
    },
    {
     "data": {
      "application/vnd.jupyter.widget-view+json": {
       "model_id": "7f7a0aa1dab04aed8cc9e354b3c146e3",
       "version_major": 2,
       "version_minor": 0
      },
      "text/plain": [
       "HBox(children=(HTML(value=''), FloatProgress(value=0.0, max=91.0), HTML(value='')))"
      ]
     },
     "metadata": {},
     "output_type": "display_data"
    },
    {
     "name": "stdout",
     "output_type": "stream",
     "text": [
      "\n",
      "[0.29999999329447746, 0.29999999329447746, 0.2799999937415123, 0.29999999329447746, 0.29999999329447746, 0.29999999329447746, 0.29999999329447746, 0.2799999937415123, 0.29999999329447746, 0.2799999937415123, 0.2799999937415123, 0.29999999329447746, 0.29999999329447746, 0.2799999937415123, 0.29999999329447746, 0.29999999329447746, 0.29999999329447746, 0.3199999928474426, 0.29999999329447746, 0.2799999937415123, 0.2799999937415123, 0.2799999937415123, 0.2799999937415123, 0.29999999329447746, 0.2799999937415123, 0.29999999329447746, 0.29999999329447746, 0.29999999329447746, 0.29999999329447746, 0.29999999329447746, 0.29999999329447746, 0.2799999937415123, 0.29999999329447746, 0.29999999329447746, 0.29999999329447746, 0.2799999937415123, 0.2799999937415123, 0.29999999329447746, 0.2799999937415123, 0.2799999937415123, 0.2799999937415123, 0.2799999937415123, 0.29999999329447746, 0.2799999937415123, 0.2799999937415123, 0.29999999329447746, 0.29999999329447746, 0.29999999329447746, 0.2799999937415123, 0.2799999937415123, 0.2799999937415123, 0.2799999937415123, 0.29999999329447746, 0.29999999329447746, 0.29999999329447746, 0.2799999937415123, 0.2799999937415123, 0.2799999937415123, 0.29999999329447746, 0.2799999937415123, 0.29999999329447746, 0.29999999329447746, 0.2799999937415123, 0.2799999937415123, 0.29999999329447746, 0.29999999329447746, 0.29999999329447746, 0.2799999937415123, 0.2799999937415123, 0.29999999329447746, 0.29999999329447746, 0.29999999329447746, 0.29999999329447746, 0.29999999329447746, 0.2799999937415123, 0.2799999937415123, 0.2799999937415123, 0.29999999329447746, 0.2799999937415123, 0.29999999329447746, 0.29999999329447746, 0.29999999329447746, 0.29999999329447746, 0.29999999329447746, 0.2799999937415123, 0.2799999937415123, 0.2799999937415123, 0.29999999329447746, 0.29999999329447746, 0.29999999329447746, 0.2799999937415123, 0.29999999329447746, 0.29999999329447746, 0.2799999937415123, 0.29999999329447746, 0.2799999937415123, 0.29999999329447746, 0.29999999329447746, 0.29999999329447746, 0.2799999937415123]\n"
     ]
    },
    {
     "data": {
      "application/vnd.jupyter.widget-view+json": {
       "model_id": "85dd62be78934190b1b522c07b35e0f5",
       "version_major": 2,
       "version_minor": 0
      },
      "text/plain": [
       "HBox(children=(HTML(value=''), FloatProgress(value=0.0, max=91.0), HTML(value='')))"
      ]
     },
     "metadata": {},
     "output_type": "display_data"
    },
    {
     "name": "stdout",
     "output_type": "stream",
     "text": [
      "\n"
     ]
    },
    {
     "data": {
      "application/vnd.jupyter.widget-view+json": {
       "model_id": "79711508832e454eb1797db3d18aaf95",
       "version_major": 2,
       "version_minor": 0
      },
      "text/plain": [
       "HBox(children=(HTML(value=''), FloatProgress(value=0.0, max=91.0), HTML(value='')))"
      ]
     },
     "metadata": {},
     "output_type": "display_data"
    },
    {
     "name": "stdout",
     "output_type": "stream",
     "text": [
      "\n"
     ]
    },
    {
     "data": {
      "application/vnd.jupyter.widget-view+json": {
       "model_id": "12e98d7af45b4e048174932d9c468af4",
       "version_major": 2,
       "version_minor": 0
      },
      "text/plain": [
       "HBox(children=(HTML(value=''), FloatProgress(value=0.0, max=91.0), HTML(value='')))"
      ]
     },
     "metadata": {},
     "output_type": "display_data"
    },
    {
     "name": "stdout",
     "output_type": "stream",
     "text": [
      "\n",
      "[0.3799999915063381, 0.4399999901652336, 0.25999999418854713, 0.3999999910593033, 0.3799999915063381, 0.3399999924004078, 0.019999999552965164, 0.29999999329447746, 0.41999999061226845, 0.3799999915063381, 0.3999999910593033, 0.2199999950826168, 0.3999999910593033, 0.35999999195337296, 0.3799999915063381, 0.3999999910593033, 0.41999999061226845, 0.4399999901652336, 0.41999999061226845, 0.4999999888241291, 0.35999999195337296, 0.3999999910593033, 0.019999999552965164, 0.3999999910593033, 0.3799999915063381, 0.3999999910593033, 0.3799999915063381, 0.4599999897181988, 0.3999999910593033, 0.35999999195337296, 0.35999999195337296, 0.3799999915063381, 0.41999999061226845, 0.3399999924004078, 0.41999999061226845, 0.47999998927116394, 0.2799999937415123, 0.4399999901652336, 0.3999999910593033, 0.3999999910593033, 0.3999999910593033, 0.35999999195337296, 0.3999999910593033, 0.3999999910593033, 0.4399999901652336, 0.3799999915063381, 0.3799999915063381, 0.35999999195337296, 0.3999999910593033, 0.4599999897181988, 0.3799999915063381, 0.4399999901652336, 0.41999999061226845, 0.41999999061226845, 0.4399999901652336, 0.41999999061226845, 0.41999999061226845, 0.41999999061226845, 0.47999998927116394, 0.3799999915063381, 0.35999999195337296, 0.41999999061226845, 0.3999999910593033, 0.3999999910593033, 0.41999999061226845, 0.4599999897181988, 0.019999999552965164, 0.4399999901652336, 0.3799999915063381, 0.3799999915063381, 0.4599999897181988, 0.3799999915063381, 0.41999999061226845, 0.3799999915063381, 0.3399999924004078, 0.41999999061226845, 0.41999999061226845, 0.3799999915063381, 0.3999999910593033, 0.3799999915063381, 0.3399999924004078, 0.4399999901652336, 0.4599999897181988, 0.3199999928474426, 0.3399999924004078, 0.3799999915063381, 0.35999999195337296, 0.41999999061226845, 0.4399999901652336, 0.4399999901652336, 0.35999999195337296, 0.41999999061226845, 0.41999999061226845, 0.3399999924004078, 0.4399999901652336, 0.3399999924004078, 0.4599999897181988, 0.35999999195337296, 0.3799999915063381, 0.41999999061226845]\n"
     ]
    },
    {
     "data": {
      "application/vnd.jupyter.widget-view+json": {
       "model_id": "0c4b614c5572483bb01958dd85f18734",
       "version_major": 2,
       "version_minor": 0
      },
      "text/plain": [
       "HBox(children=(HTML(value=''), FloatProgress(value=0.0, max=91.0), HTML(value='')))"
      ]
     },
     "metadata": {},
     "output_type": "display_data"
    },
    {
     "name": "stdout",
     "output_type": "stream",
     "text": [
      "\n"
     ]
    },
    {
     "data": {
      "text/plain": [
       "Text(0.5, 0, 'Photon number $\\\\bar{N}$')"
      ]
     },
     "execution_count": 9,
     "metadata": {},
     "output_type": "execute_result"
    },
    {
     "data": {
      "image/png": "[encoded data removed]",
      "text/plain": [
       "<Figure size 255.118x113.386 with 1 Axes>"
      ]
     },
     "metadata": {
      "needs_background": "light"
     },
     "output_type": "display_data"
    }
   ],
   "source": [
    "alpha_data_v = {\n",
    "    '0.5': load_experimental_data('ae/data/2023-11-13_alpha05v.h5', THRESHOLDS['2023-11-13'], amplitude=True),\n",
    "    '0.75': load_experimental_data('ae/data/2023-11-14_alpha075v.h5', THRESHOLDS['2023-11-13'], amplitude=True),\n",
    "    '1': load_experimental_data('ae/data/2023-11-13_alpha1v.h5', THRESHOLDS['2023-11-13'], amplitude=True),\n",
    "    '1.25': load_experimental_data('ae/data/2023-11-15_alpha125v.h5', THRESHOLDS['2023-11-15'], amplitude=True),\n",
    "    '1.5': load_experimental_data('ae/data/2023-11-15_alpha15v.h5', THRESHOLDS['2023-11-15'], amplitude=True),\n",
    "    '1.6': load_experimental_data('ae/data/2023-11-14_alpha16.h5', THRESHOLDS['2023-11-14'], amplitude=True),\n",
    "    '1.75': load_experimental_data('ae/data/2023-11-15_alpha175v.h5', THRESHOLDS['2023-11-15'], amplitude=True),\n",
    "    '2': load_experimental_data('ae/data/2023-11-13_alpha2v.h5', THRESHOLDS['2023-11-13'], amplitude=True),\n",
    "\n",
    "        # '2': load_experimental_data('ae/data/2023-11-24_alpha2v.h5', THRESHOLDS['2023-11-13'], amplitude=True),\n",
    "    # '2.1': load_experimental_data('ae/data/2023-11-16_alpha21v.h5', THRESHOLDS['2023-11-13'], amplitude=True),\n",
    "    # '2.2': load_experimental_data('ae/data/2023-11-16_alpha22v.h5', THRESHOLDS['2023-11-13'], amplitude=True),\n",
    "    # '2.25': load_experimental_data('ae/data/2023-11-07_alpha225v.h5', THRESHOLDS['2023-11-07'], amplitude=True),\n",
    "    # '2.3': load_experimental_data('ae/data/2023-11-16_alpha23v.h5', THRESHOLDS['2023-11-13'], amplitude=True),\n",
    "    # '2.4': load_experimental_data('ae/data/2023-11-16_alpha24v.h5', THRESHOLDS['2023-11-13'], amplitude=True),\n",
    "    # '2.5': load_experimental_data('ae/data/2023-11-16_alpha25v.h5', THRESHOLDS['2023-11-13'], amplitude=True),\n",
    "}\n",
    "\n",
    "alpha_data_h = {\n",
    "    '0.5': load_experimental_data('ae/data/2023-11-07_alpha05h.h5', THRESHOLDS['2023-11-07'], amplitude=True),\n",
    "    '1': load_experimental_data('ae/data/2023-11-07_alpha1h.h5', THRESHOLDS['2023-11-07'], amplitude=True),\n",
    "    '1.5': load_experimental_data('ae/data/2023-11-07_alpha15h.h5', THRESHOLDS['2023-11-07'], amplitude=True),\n",
    "    '2': load_experimental_data('ae/data/2023-11-07_alpha2h.h5', THRESHOLDS['2023-11-07'], amplitude=True),\n",
    "    # '2.5': load_experimental_data('ae/data/2023-11-07_alpha25h.h5', THRESHOLDS['2023-11-07'], amplitude=True)\n",
    "}\n",
    "\n",
    "alpha_sim = {\n",
    "    '0.5': 'ae/sim/g_0_plus_alpha05_all.npz',\n",
    "    '0.75': 'ae/sim/g_0_plus_alpha075_all.npz',\n",
    "    '1': 'ae/sim/g_0_plus_alpha1_all.npz',\n",
    "    '1.25': 'ae/sim/g_0_plus_alpha125_all.npz',\n",
    "    '1.5': 'ae/sim/g_0_plus_alpha15_all.npz',\n",
    "    '1.6': 'ae/sim/g_0_plus_alpha16_all.npz',\n",
    "    '1.75': 'ae/sim/g_0_plus_alpha175_all.npz',\n",
    "    '2': 'ae/sim/g_0_plus_alpha2_all.npz',\n",
    "    '2.1': 'ae/sim/g_0_plus_alpha2_all.npz',\n",
    "    '2.2': 'ae/sim/g_0_plus_alpha2_all.npz',\n",
    "    '2.3': 'ae/sim/g_0_plus_alpha2_all.npz',\n",
    "    '2.4': 'ae/sim/g_0_plus_alpha2_all.npz',\n",
    "    '2.5': 'ae/sim/g_0_plus_alpha2_all.npz',\n",
    "    # '2.25': 'ae/sim/g_0_plus_alpha225_pm.npz',\n",
    "    # '2.5': 'ae/sim/g_0_plus_alpha25_pm.npz',\n",
    "}\n",
    "\n",
    "# coherent_data = {\n",
    "#     '0.5': load_experimental_data('ae/data/2023-11-07_c05.h5', THRESHOLDS['2023-11-07'], amplitude=True),\n",
    "#     '0.75': load_experimental_data('ae/data/2023-11-14_c075.h5', THRESHOLDS['2023-11-14'], amplitude=True),\n",
    "#     '1': load_experimental_data('ae/data/2023-11-07_c1.h5', THRESHOLDS['2023-11-07'], amplitude=True),\n",
    "#     '1.25': load_experimental_data('ae/data/2023-11-14_c125.h5', THRESHOLDS['2023-11-14'], amplitude=True),\n",
    "#     '1.5': load_experimental_data('ae/data/2023-11-07_c15.h5', THRESHOLDS['2023-11-07'], amplitude=True),\n",
    "#     '1.6': load_experimental_data('ae/data/2023-11-15_c16.h5', THRESHOLDS['2023-11-15'], amplitude=True),\n",
    "#     '1.75': load_experimental_data('ae/data/2023-11-14_c175.h5', THRESHOLDS['2023-11-14'], amplitude=True),\n",
    "#     '2': load_experimental_data('ae/data/2023-11-07_c2.h5', THRESHOLDS['2023-11-07'], amplitude=True),\n",
    "# }\n",
    "\n",
    "coherent_data = {\n",
    "    '0.5': load_experimental_data('ae/data/2023-11-07_c05.h5', THRESHOLDS['2023-11-07'], amplitude=True),\n",
    "    '0.75': load_experimental_data('ae/data/2023-11-14_c075.h5', THRESHOLDS['2023-11-14'], amplitude=True),\n",
    "    '1': load_experimental_data('ae/data/2023-11-13_c1.h5', THRESHOLDS['2023-11-13'], amplitude=True),\n",
    "    '1.25': load_experimental_data('ae/data/2023-11-14_c125.h5', THRESHOLDS['2023-11-14'], amplitude=True),\n",
    "    '1.5': load_experimental_data('ae/data/2023-11-07_c15.h5', THRESHOLDS['2023-11-07'], amplitude=True),\n",
    "    '1.6': load_experimental_data('ae/data/2023-11-15_c16.h5', THRESHOLDS['2023-11-15'], amplitude=True),\n",
    "    '1.75': load_experimental_data('ae/data/2023-11-14_c175.h5', THRESHOLDS['2023-11-14'], amplitude=True),\n",
    "    '2': load_experimental_data('ae/data/2023-11-07_c2.h5', THRESHOLDS['2023-11-07'], amplitude=True),\n",
    "}\n",
    "\n",
    "coherent_sim = {\n",
    "    '0.5': 'ae/sim/g_alpha0258_all.npz',\n",
    "    '0.75': 'ae/sim/g_alpha04_all.npz',\n",
    "    '1': 'ae/sim/g_alpha0558_all.npz',\n",
    "    '1.25': 'ae/sim/g_alpha0732_all.npz',\n",
    "    '1.5': 'ae/sim/g_alpha0921_all.npz',\n",
    "    '1.6': 'ae/sim/g_alpha1_all.npz',\n",
    "    '1.75': 'ae/sim/g_alpha1122_all.npz',\n",
    "    '2': 'ae/sim/g_alpha1327_all.npz',\n",
    "}\n",
    "\n",
    "fig = make_figure()\n",
    "ax0 = fig.add_subplot(111)\n",
    "\n",
    "alpha_data = alpha_data_v\n",
    "MEASURED_SQL = MEASURED_SQL_v\n",
    "\n",
    "alphas = list(alpha_data.keys())\n",
    "np_alphas = np.array(alphas, dtype='float')\n",
    "\n",
    "result_max = []\n",
    "result_avg = []\n",
    "result_bandwidth = []\n",
    "result_th_max = []\n",
    "# Experimental variance\n",
    "result_max_var = []\n",
    "# Bootstrapped sigma\n",
    "result_sigma = []\n",
    "\n",
    "result_max_2 = []\n",
    "result_max_3 = []\n",
    "\n",
    "result_sim_max = []\n",
    "result_sim_avg = []\n",
    "result_sim_bandwidth = []\n",
    "sim_th_max = []\n",
    "\n",
    "result_ideal_max = []\n",
    "result_ideal_bandwidth = []\n",
    "offset_error_array = []\n",
    "\n",
    "# Experimental variance\n",
    "coh_max_var = []\n",
    "coh_max=[]\n",
    "# Bootstrapped sigma\n",
    "coh_sigma = []\n",
    "coh_sim_max = []\n",
    "coh_sim_bandwidth = []\n",
    "\n",
    "for offset in alpha_data:\n",
    "    data = alpha_data[offset]\n",
    "    up_lim = 1.6 #np.max(data.x) # 0.1 if (np.max(data.x) < 1.6) else 1.6\n",
    "    x_dense = np.linspace(np.max([np.min(data.x), 0.01]), up_lim, 2000) #np.linspace(min(d_list), up_lim, 2000)\n",
    "    # Data fit\n",
    "    data_fit = np.polyfit(data.x[data.x<=up_lim], data.y[data.x<=up_lim], POLYFIT_ORDER[offset])\n",
    "    # Experimental FI\n",
    "    x = x_dense[(x_dense <= up_lim) & (x_dense > 0.0)]\n",
    "    y_fit = np.poly1d(data_fit)(x)\n",
    "    # if offset == '2':\n",
    "    #     idx = x < 1.5\n",
    "    #     x = x[idx]\n",
    "    #     y_fit = y_fit[idx]\n",
    "    m, a, b, mx = extract_FI_params(x, y_fit, MEASURED_SQL[offset])\n",
    "    dth, _, _ = estimate_delta_theta(data, y_fit, x)\n",
    "    mu, sigma = compute_many_FI_error(data, x, POLYFIT_ORDER[offset], up_lim, 100)\n",
    "    _, _, offset_error = compute_many_FI_error_offset(data, x, POLYFIT_ORDER[offset], up_lim, 100)\n",
    "    result_max.append(m)\n",
    "    result_avg.append(a)\n",
    "    offset_error_array.append(offset_error)\n",
    "\n",
    "\n",
    "    result_bandwidth.append(b)\n",
    "    result_th_max.append(mx)\n",
    "    result_max_var.append(1/dth)\n",
    "    result_sigma.append(sigma[np.argmax(compute_FI(y_fit, x[1]-x[0]))])\n",
    "\n",
    "\n",
    "    # Simulation FI\n",
    "    sim = np.load(alpha_sim[offset], 'r')\n",
    "    d_sim = sim['x']\n",
    "    p_sim = sim['probability_sim']\n",
    "    x_sim = d_sim[d_sim <= max(x_dense)]\n",
    "    y_sim = p_sim[d_sim <= max(x_dense)]\n",
    "    m, a, b, mx = extract_FI_params(x_sim, y_sim, MEASURED_SQL[offset])\n",
    "    result_sim_max.append(m)\n",
    "    result_sim_avg.append(a)\n",
    "    result_sim_bandwidth.append(b)\n",
    "    sim_th_max.append(mx)\n",
    "\n",
    "    # Ideal FI\n",
    "    x = np.linspace(0,2,500) #d_list\n",
    "    y = ideal_numerical(float(offset), 0.5, x)\n",
    "    m, a, b, _ = extract_FI_params(x, y, MEASURED_SQL[offset])\n",
    "    result_ideal_max.append(compute_max_Fq(float(offset)))\n",
    "    result_ideal_bandwidth.append(b)\n",
    "\n",
    "    # Classical\n",
    "    data_c = coherent_data[offset]\n",
    "    pe_c = data_c.y\n",
    "    phase_c = data_c.x\n",
    "    up_lim = np.max(data_c.x)\n",
    "    data_fit_c = np.polyfit(phase_c[phase_c < up_lim], pe_c[phase_c < up_lim], 5)\n",
    "    x_dense = np.linspace(min(d_list), up_lim, 2000)\n",
    "    x = x_dense[(x_dense > 0.05)]\n",
    "    y_fit_c = np.poly1d(data_fit_c)(x)\n",
    "    dth, _, _ = estimate_delta_theta(data_c, y_fit_c, x)\n",
    "    mu, sigma = compute_many_FI_error(data_c, x, 5, up_lim, 100)\n",
    "    coh_max_var.append(1/dth)\n",
    "    coh_sigma.append(sigma[np.argmax(compute_FI(y_fit_c, x[1]-x[0])[x<1.7])])\n",
    "    m, a, b, mx = extract_FI_params(x, y_fit_c, MEASURED_SQL[offset])\n",
    "    coh_max.append(m)\n",
    "\n",
    "    # Classical simulation\n",
    "    sim = np.load(coherent_sim[offset], 'r')\n",
    "    d_sim = sim['x']\n",
    "    p_sim = sim['probability_sim']\n",
    "    x_sim = d_sim[d_sim <= max(x_dense)]\n",
    "    y_sim = p_sim[d_sim <= max(x_dense)]\n",
    "    m, a, b, mx = extract_FI_params(x_sim, y_sim, MEASURED_SQL[offset])\n",
    "    coh_sim_max.append(m)\n",
    "    coh_sim_bandwidth.append(b)\n",
    "\n",
    "\n",
    "\n",
    "n = [compute_photon_number(v) for v in np_alphas]\n",
    "\n",
    "# Fisher information plot\n",
    "ax0.plot(n, result_max, '.-', label=\"Measured FI max\")\n",
    "ax0.plot(n, result_avg, '.-', label=\"Measured FI avg\")\n",
    "ax0.axhline(y=4, color='red', label='Ideal SQL')\n",
    "ax0.plot(n, result_sim_max, '.-', label=\"Simulation max\")\n",
    "ax0.plot(n, [MEASURED_SQL_v[alpha] for alpha in alphas], '.-', label=\"Measured SQL\")\n",
    "ax0.plot(n, [compute_max_Fq(float(alpha)) for alpha in alphas], '.-', label=\"Ideal Max\")\n",
    "ax0.legend()\n",
    "# plt.title('Amplitude estimation with balanced cat states') # r'$|0\\rangle+|\\alpha\\rangle$'\n",
    "ax0.set_xlabel(r\"Photon number $\\bar{N}$\")\n"
   ]
  },
  {
   "cell_type": "code",
   "execution_count": 10,
   "metadata": {},
   "outputs": [
    {
     "data": {
      "text/plain": [
       "[0.02567177380974319,\n",
       " 0.018564481802447158,\n",
       " 0.013674794025521872,\n",
       " 0.03644173350204096,\n",
       " 0.015041276205371804,\n",
       " 0.012539537191253286,\n",
       " 0.010235233036763897,\n",
       " 0.07818541888823898]"
      ]
     },
     "execution_count": 10,
     "metadata": {},
     "output_type": "execute_result"
    }
   ],
   "source": [
    "offset_error_array"
   ]
  },
  {
   "cell_type": "code",
   "execution_count": 21,
   "metadata": {},
   "outputs": [
    {
     "name": "stdout",
     "output_type": "stream",
     "text": [
      "Variances: var_k = 0.21466511533468222, var_a = 0.015417698347996113, var_c = 0.1281875838506184\n",
      "Variances: var_k1 = 0.0014159167858983114, var_a1 = 0.020841827670647878, var_c1 = 0.0014159167858983097\n",
      "Optimized Parameters:\n",
      "k: 4.959655207348742\n",
      "a: 1.060104485359565\n",
      "c: 2.197470765265646\n",
      "--------------\n",
      "k1: 0.41116762670899343\n",
      "a1: 1.8261074812193428e-16\n",
      "c1: 2.16485423817301\n"
     ]
    },
    {
     "data": {
      "image/png": "[encoded data removed]",
      "text/plain": [
       "<Figure size 226.772x99.2127 with 1 Axes>"
      ]
     },
     "metadata": {
      "needs_background": "light"
     },
     "output_type": "display_data"
    }
   ],
   "source": [
    "from scipy.optimize import curve_fit\n",
    "import numpy as np\n",
    "import matplotlib.pyplot as plt\n",
    "\n",
    "\n",
    "# def fit(avg_num, k, a, c1):\n",
    "#     return k * avg_num*a + c1\n",
    "\n",
    "# Define the custom function\n",
    "def fit(avg_num, k, a, c1):\n",
    "    return k * avg_num**a + c1\n",
    "\n",
    "\n",
    "# fig = make_figure()\n",
    "# ax0 = fig.add_subplot(111)\n",
    "cm = 0.393701\n",
    "# fig = plt.subplots(figsize =(3.5*cm, 3.5*cm))\n",
    "fig = plt.subplots(figsize =(8*cm, 3.5*cm))\n",
    "\n",
    "# Assuming n and result_max are defined somewhere in your code\n",
    "x_data = np.array(n)\n",
    "y_data = np.array(result_max)\n",
    "y_sql = np.array([MEASURED_SQL[alpha] for alpha in alphas])\n",
    "\n",
    "# # Use curve_fit to find the parameters that minimize the difference\n",
    "p0 = [2, 1, 0]\n",
    "p0_sql = [0.5, 1, 0]\n",
    "bounds_sql = ([0, 0, 0], [10, 3, 3])\n",
    "\n",
    "params, covariance = curve_fit(fit, x_data, y_data, p0=p0)\n",
    "params_sql, covariance_sql = curve_fit(fit, x_data, y_sql, p0=p0_sql, bounds=bounds_sql)\n",
    "\n",
    "\n",
    "# Params now contains the optimized values for A, B, power1, power2, and c\n",
    "op_k, op_a, op_c = params\n",
    "op_k1, op_a1, op_c1 = params_sql\n",
    "\n",
    "# Create a fitted curve using the optimized parameters\n",
    "v = np.linspace(0, 1.8, 200)\n",
    "y_fit = fit(v, op_k, op_a, op_c)\n",
    "y_sql_fit = fit(v, op_k1, op_a1, op_c1)\n",
    "\n",
    "# Extract the diagonal elements of the covariance matrix as variances\n",
    "var_k, var_a, var_c = np.diag(covariance)\n",
    "print(f\"Variances: var_k = {var_k}, var_a = {var_a}, var_c = {var_c}\")\n",
    "var_k1, var_a1, var_c1 = np.diag(covariance_sql)\n",
    "print(f\"Variances: var_k1 = {var_k1}, var_a1 = {var_a1}, var_c1 = {var_c1}\")\n",
    "\n",
    "# Plot the original data and the fitted curve\n",
    "# ax0.scatter(x_data, y_data, color='tab:blue', marker='*', s=20, label=' SCS')\n",
    "plt.plot(v, y_fit,  ':', color='tab:blue')\n",
    "plt.errorbar(x_data, y_data, yerr=result_sigma,  linestyle='', color='tab:blue',  fmt='o', markersize=4, capsize=4, label='SCS')\n",
    "\n",
    "# ax0.scatter(x_data, y_sql,  color='tab:purple', marker='d'z, s=15, label='classical')\n",
    "plt.plot(v, y_sql_fit, ':', color='tab:purple')\n",
    "plt.errorbar(x_data, y_sql, yerr=coh_sigma,  linestyle='', color='tab:purple', fmt='d', markersize=4, capsize=4, label='classical')\n",
    "\n",
    "\n",
    "plt.plot(n, result_sim_max, '--', color='tab:blue', label='simulation')\n",
    "\n",
    "plt.plot(n, coh_sim_max, '--', color='tab:purple', label='simulation')\n",
    "\n",
    "v = np.linspace(0, 2, 200)\n",
    "plt.plot([compute_photon_number(w) for w in v], [compute_max_Fq(w)\n",
    "         for w in v], color='tab:pink', label=\"QFI\")\n",
    "\n",
    "\n",
    "# ax0.legend()\n",
    "# plt.xlabel(r'Average photon number $\\bar{N}$')\n",
    "# plt.ylabel('Fisher information')\n",
    "# plt.legend(loc='upper left', fontsize=8)\n",
    "plt.ylim(-1,16)\n",
    "tick_start = 0\n",
    "tick_end = 1.8\n",
    "tick_step = 0.4\n",
    "plt.xticks(np.arange(tick_start, tick_end, tick_step))\n",
    "\n",
    "print(\"Optimized Parameters:\")\n",
    "print(\"k:\", op_k)\n",
    "print(\"a:\", op_a)\n",
    "print(\"c:\", op_c)\n",
    "print('--------------')\n",
    "print(\"k1:\", op_k1)\n",
    "print(\"a1:\", op_a1)\n",
    "print(\"c1:\", op_c1)\n",
    "plt.tick_params(axis='both', which='major', labelsize=8)\n",
    "plt.savefig('fig4d.pdf') "
   ]
  },
  {
   "cell_type": "code",
   "execution_count": 12,
   "metadata": {},
   "outputs": [
    {
     "data": {
      "image/png": "[encoded data removed]",
      "text/plain": [
       "<Figure size 432x288 with 1 Axes>"
      ]
     },
     "metadata": {
      "needs_background": "light"
     },
     "output_type": "display_data"
    },
    {
     "name": "stdout",
     "output_type": "stream",
     "text": [
      "Fitted parameters: k = 4.959655207348742, a = 1.060104485359565, c1 = 2.197470765265646\n",
      "Variances: var_k = 0.21466511533468222, var_a = 0.015417698347996113, var_c1 = 0.1281875838506184\n"
     ]
    }
   ],
   "source": [
    "import numpy as np\n",
    "from scipy.optimize import curve_fit\n",
    "import matplotlib.pyplot as plt\n",
    "\n",
    "# Sample data\n",
    "x_data = np.array(n)\n",
    "y_data = np.array(result_max)\n",
    "\n",
    "# Define the custom function\n",
    "def fit(avg_num, k, a, c1):\n",
    "    return k * avg_num**a + c1\n",
    "\n",
    "# def fit(avg_num, k, a, c1):\n",
    "#     return k * avg_num*a + c1\n",
    "\n",
    "# Use curve_fit to fit the data\n",
    "params, covariance = curve_fit(fit, x_data, y_data, p0=[2, 1, 0])\n",
    "\n",
    "# Extract the fitted parameters\n",
    "k_fit, a_fit, c1_fit = params\n",
    "\n",
    "# Extract the diagonal elements of the covariance matrix as variances\n",
    "var_k, var_a, var_c1 = np.diag(covariance)\n",
    "\n",
    "\n",
    "# Generate fitted y values\n",
    "y_fit = fit(x_data, k_fit, a_fit, c1_fit)\n",
    "\n",
    "# Plot the original data and the fitted curve\n",
    "plt.scatter(x_data, y_data, label='Original Data')\n",
    "plt.plot(x_data, y_fit, label=f'Fit: {k_fit:.2f} * avg_num^{a_fit:.2f} + {c1_fit:.2f}', color='red')\n",
    "plt.legend()\n",
    "plt.xlabel('avg_num')\n",
    "plt.ylabel('y')\n",
    "plt.title('Custom Fit')\n",
    "plt.show()\n",
    "\n",
    "# Print the fitted parameters and their variances\n",
    "print(f\"Fitted parameters: k = {k_fit}, a = {a_fit}, c1 = {c1_fit}\")\n",
    "print(f\"Variances: var_k = {var_k}, var_a = {var_a}, var_c1 = {var_c1}\")\n"
   ]
  },
  {
   "cell_type": "code",
   "execution_count": 13,
   "metadata": {},
   "outputs": [
    {
     "data": {
      "image/png": "[encoded data removed]",
      "text/plain": [
       "<Figure size 432x288 with 1 Axes>"
      ]
     },
     "metadata": {
      "needs_background": "light"
     },
     "output_type": "display_data"
    },
    {
     "name": "stdout",
     "output_type": "stream",
     "text": [
      "Fitted parameters: k = 0.06335155384149328, a = 5.717002857549937e-16, c1 = 2.512670310748892\n",
      "Variances: var_k = 262128863123077.7, var_a = 0.9137034520845293, var_c1 = 262128862069396.1\n"
     ]
    }
   ],
   "source": [
    "import numpy as np\n",
    "from scipy.optimize import curve_fit\n",
    "import matplotlib.pyplot as plt\n",
    "\n",
    "# Sample data\n",
    "x_data = np.array(n)\n",
    "y_data = np.array(y_sql)\n",
    "\n",
    "# Define the custom function\n",
    "def fit(avg_num, k, a, c1):\n",
    "    return k * avg_num**a + c1\n",
    "\n",
    "\n",
    "\n",
    "# def fit(avg_num, k, a, c1):\n",
    "#     return k * avg_num*a + c1\n",
    "\n",
    "# Use curve_fit to fit the data\n",
    "params, covariance = curve_fit(fit, x_data, y_data, p0=[0, 0, 2.5], bounds =([0, 0, 0], [1, 3, 2.7]))\n",
    "\n",
    "# params, covariance = curve_fit(fit, x_data, y_data, p0=[0, 0, 2.5])\n",
    "\n",
    "# Extract the fitted parameters\n",
    "k_fit, a_fit, c1_fit = params\n",
    "\n",
    "# Extract the diagonal elements of the covariance matrix as variances\n",
    "var_k, var_a, var_c1 = np.diag(covariance)\n",
    "\n",
    "\n",
    "# Generate fitted y values\n",
    "y_fit = fit(x_data, k_fit, a_fit, c1_fit)\n",
    "\n",
    "# Plot the original data and the fitted curve\n",
    "plt.scatter(x_data, y_data, label='Original Data')\n",
    "plt.plot(x_data, y_fit, label=f'Fit: {k_fit:.2f} * avg_num^{a_fit:.2f} + {c1_fit:.2f}', color='red')\n",
    "plt.legend()\n",
    "plt.xlabel('avg_num')\n",
    "plt.ylabel('y')\n",
    "plt.title('Custom Fit')\n",
    "plt.show()\n",
    "\n",
    "# Print the fitted parameters and their variances\n",
    "print(f\"Fitted parameters: k = {k_fit}, a = {a_fit}, c1 = {c1_fit}\")\n",
    "print(f\"Variances: var_k = {var_k}, var_a = {var_a}, var_c1 = {var_c1}\")\n"
   ]
  },
  {
   "cell_type": "code",
   "execution_count": 14,
   "metadata": {},
   "outputs": [
    {
     "data": {
      "image/png": "[encoded data removed]",
      "text/plain": [
       "<Figure size 432x288 with 1 Axes>"
      ]
     },
     "metadata": {
      "needs_background": "light"
     },
     "output_type": "display_data"
    },
    {
     "name": "stdout",
     "output_type": "stream",
     "text": [
      "Fitted parameters: k = 2.520775048551401, a = -0.029732177793957162\n",
      "Variances: var_k = 0.0031522377964908433, var_a = 0.00028349512524002146\n"
     ]
    }
   ],
   "source": [
    "import numpy as np\n",
    "from scipy.optimize import curve_fit\n",
    "import matplotlib.pyplot as plt\n",
    "\n",
    "# Sample data\n",
    "x_data = np.array(n)\n",
    "y_data = np.array(y_sql)\n",
    "\n",
    "# Define the custom function\n",
    "def fit(avg_num, k, a):\n",
    "    return k * avg_num**a\n",
    "\n",
    "# Use curve_fit to fit the data\n",
    "params, covariance = curve_fit(fit, x_data, y_data, p0=[2.2, 0])\n",
    "\n",
    "# Extract the fitted parameters\n",
    "k_fit, a_fit = params\n",
    "\n",
    "# Extract the diagonal elements of the covariance matrix as variances\n",
    "var_k, var_a = np.diag(covariance)\n",
    "\n",
    "# Generate fitted y values\n",
    "y_fit = fit(x_data, k_fit, a_fit)\n",
    "\n",
    "# Plot the original data and the fitted curve\n",
    "plt.scatter(x_data, y_data, label='Original Data')\n",
    "plt.plot(x_data, y_fit, label=f'Fit: {k_fit:.2f} * avg_num^{a_fit:.2f}', color='red')\n",
    "plt.legend()\n",
    "plt.xlabel('avg_num')\n",
    "plt.ylabel('y')\n",
    "plt.title('Custom Fit')\n",
    "plt.show()\n",
    "\n",
    "# Print the fitted parameters and their variances\n",
    "print(f\"Fitted parameters: k = {k_fit}, a = {a_fit}\")\n",
    "print(f\"Variances: var_k = {var_k}, var_a = {var_a}\")\n"
   ]
  },
  {
   "cell_type": "code",
   "execution_count": 15,
   "metadata": {},
   "outputs": [
    {
     "name": "stdout",
     "output_type": "stream",
     "text": [
      "Optimized Parameters:\n",
      "b: 5.088814903979891\n",
      "a: -0.021515358814149357\n",
      "c: -4.999999999999998\n"
     ]
    },
    {
     "data": {
      "image/png": "[encoded data removed]",
      "text/plain": [
       "<Figure size 504x216 with 1 Axes>"
      ]
     },
     "metadata": {
      "needs_background": "light"
     },
     "output_type": "display_data"
    }
   ],
   "source": [
    "from scipy.optimize import curve_fit\n",
    "\n",
    "\n",
    "def fit(avg_num, b, a, c):\n",
    "    return b * avg_num**a + c\n",
    "\n",
    "\n",
    "params, covariance = curve_fit(\n",
    "    fit, n, 1/np.array(result_max_var), p0=[1, 0, 0], bounds=([0, -3, -5],[10, 0, 5]))\n",
    "op_b1, op_a1, op_c1 = params\n",
    "\n",
    "\n",
    "plt.figure(figsize=(7, 3))\n",
    "plt.scatter(n, 1/np.array(result_max_var), color='tab:blue',\n",
    "            marker='*', s=20, label='data')\n",
    "v = np.linspace(0.05, 1.75, 100)\n",
    "plt.plot(v, fit(v, op_b1, op_a1, op_c1), color='tab:blue', label='fit')\n",
    "# plt.plot(v, 1/v, label=r'$\\frac{1}{n}$')\n",
    "plt.xlabel(r'n')\n",
    "plt.ylabel(r'$\\Delta D$')\n",
    "plt.title('Amplitude estimation error scaling')\n",
    "# plt.ylabel(r'$\\Delta\\theta$')\n",
    "plt.legend()\n",
    "\n",
    "print(\"Optimized Parameters:\")\n",
    "print(\"b:\", op_b1)\n",
    "print(\"a:\", op_a1)\n",
    "print(\"c:\", op_c1)"
   ]
  },
  {
   "cell_type": "code",
   "execution_count": 16,
   "metadata": {},
   "outputs": [
    {
     "name": "stderr",
     "output_type": "stream",
     "text": [
      "/opt/anaconda3/lib/python3.8/site-packages/scipy/optimize/_minpack_py.py:906: OptimizeWarning: Covariance of the parameters could not be estimated\n",
      "  warnings.warn('Covariance of the parameters could not be estimated',\n"
     ]
    },
    {
     "name": "stdout",
     "output_type": "stream",
     "text": [
      "var_op_b1: inf\n",
      "var_op_a1: inf\n",
      "var_op_c1: inf\n",
      "var_op_b2: inf\n",
      "var_op_a2: inf\n",
      "var_op_c2: inf\n",
      "Optimized Parameters:\n",
      "b: -1.310698448420439\n",
      "a: -0.457899217271606\n",
      "c: 0.0\n",
      "---------------\n",
      "Optimized Parameters:\n",
      "b: -0.48042643477406727\n",
      "a: -0.010510104335102655\n",
      "c: 0.0\n"
     ]
    },
    {
     "data": {
      "image/png": "[encoded data removed]",
      "text/plain": [
       "<Figure size 212.599x85.0394 with 1 Axes>"
      ]
     },
     "metadata": {
      "needs_background": "light"
     },
     "output_type": "display_data"
    }
   ],
   "source": [
    "from scipy.optimize import curve_fit\n",
    "\n",
    "\n",
    "def fit(avg_num, b, a, c):\n",
    "    return b + avg_num*a\n",
    "\n",
    "# fig = make_figure(width=8.4, height=4, font_size=8)\n",
    "# ax0 = fig.add_subplot(111)\n",
    "cm = 0.393701\n",
    "fig = plt.subplots(figsize =(7.5*cm, 3*cm))\n",
    "\n",
    "# Assuming n and result_max are defined somewhere in your code\n",
    "x_data = np.log(n)[1:]\n",
    "y_data = np.log(result_max)[1:]\n",
    "y_sql = np.log([MEASURED_SQL[alpha] for alpha in alphas])[1:]\n",
    "\n",
    "# # Use curve_fit to find the parameters that minimize the difference\n",
    "params, covariance = curve_fit(fit, x_data, y_data, p0=[4, 2, 0])\n",
    "params_sql, covariance_sql = curve_fit(fit, x_data, y_sql, p0=[0.5, 1, 0])\n",
    "\n",
    "# Params now contains the optimized values for A, B, power1, power2, and c\n",
    "op_b1, op_a1, op_c1 = params\n",
    "op_b2, op_a2, op_c2 = params_sql\n",
    "\n",
    "# Create a fitted curve using the optimized parameters\n",
    "v = np.linspace(-3, 1.8, 200)\n",
    "y_fit = fit(v, op_b1, op_a1, op_c1)\n",
    "y_sql_fit = fit(v, op_b2, op_a2, op_c2)\n",
    "\n",
    "# ax0.scatter(x_data, -0.5*y_data, color='tab:cyan', marker='*', s=20, label='SCS FI')\n",
    "# ax0.plot(v, -0.5*y_fit,  color='tab:cyan')\n",
    "\n",
    "# ax0.scatter(x_data, -0.5*y_sql,  color='tab:pink', marker='d', s=15, label='classical FI')\n",
    "# ax0.plot(v, -0.5*y_sql_fit, color='tab:pink')\n",
    "\n",
    "\n",
    "# def fit(avg_num, b, a, c):\n",
    "#     return b * avg_num + a\n",
    "\n",
    "\n",
    "log_x = np.log(n)[1:]\n",
    "# log_x = np.log(n)[1:]\n",
    "# log_y = np.log(np.sqrt(np.array(1/np.array(result_max_var))))[1:]\n",
    "log_y = np.log(np.sqrt(np.array(1/np.array(result_max_var))))[1:]\n",
    "params, covariance = curve_fit(fit, log_x, log_y, p0=[1, -1, 0])\n",
    "op_b1, op_a1, op_c1 = params\n",
    "\n",
    "var_op_b1,  var_op_a1, var_op_c1 = np.diag(covariance) \n",
    "print('var_op_b1:',var_op_b1)\n",
    "print('var_op_a1:',var_op_a1)\n",
    "print('var_op_c1:',var_op_c1)\n",
    "\n",
    "log_y2 = np.log(np.sqrt(np.array(1/np.array(coh_max_var))))[1:]\n",
    "params, covariance = curve_fit(fit, log_x, log_y2, p0=[1, -1, 0])\n",
    "# og_y2 = np.log(np.sqrt(np.array(1/np.array(coh_max_var))))[1:]\n",
    "op_b2, op_a2, op_c2 = params\n",
    "var_op_b2,  var_op_a2, var_op_c2 = np.diag(covariance) \n",
    "print('var_op_b2:', var_op_b2)\n",
    "print('var_op_a2:', var_op_a2)\n",
    "print('var_op_c2:', var_op_c2)\n",
    "\n",
    "plt.plot(log_x, log_y, color='tab:blue', linestyle='', marker='o', markersize=4, label='scs direct')\n",
    "v = np.linspace(-3, 0.6, 100)\n",
    "plt.plot(v, fit(v, op_b1, op_a1, op_c1), ':', color='tab:blue')\n",
    "\n",
    "plt.plot(log_x, log_y2, color='tab:purple', linestyle='', marker='d', markersize=4, label='classical direct')\n",
    "plt.plot(v, fit(v, op_b2, op_a2, op_c2), ':', color='tab:purple')\n",
    "\n",
    "# ax0.set_xlabel(r'n')\n",
    "# ax0.set_ylabel(r'amp')\n",
    "# ax0.set_title('Amplitude estimation error scaling')\n",
    "plt.xlim([-2, 0.52])\n",
    "# plt.yscale('log')\n",
    "# plt.xscale('log')\n",
    "# plt.ylabel(r'$\\Delta\\theta$')\n",
    "plt.legend()\n",
    "print(\"Optimized Parameters:\")\n",
    "print(\"b:\", op_b1)\n",
    "print(\"a:\", op_a1)\n",
    "print(\"c:\", op_c1)\n",
    "print('---------------')\n",
    "print(\"Optimized Parameters:\")\n",
    "print(\"b:\", op_b2)\n",
    "print(\"a:\", op_a2)\n",
    "print(\"c:\", op_c2)\n",
    "plt.savefig('amp_direct_measurement.pdf')"
   ]
  },
  {
   "cell_type": "code",
   "execution_count": 17,
   "metadata": {},
   "outputs": [
    {
     "name": "stdout",
     "output_type": "stream",
     "text": [
      "[0.0010494282549553893, 0.0054696226652627454, 0.012676003252203779, 0.020882386284900786, 0.015908451465581744, 0.017935747673494214, 0.013081572714001745, 0.012931103896350283]\n",
      "[0.004310433047938366, 0.0011966354099718778, 0.0023186526725506953, 0.0011014315386359249, 0.0021499058110520885, 0.0015720965309451622, 0.0011882916428273304, 0.002435428387966696]\n"
     ]
    }
   ],
   "source": [
    "alpha_data_v = {\n",
    "    '0.5': load_experimental_data('ae/data/2023-11-13_alpha05v.h5', THRESHOLDS['2023-11-13'], amplitude=True),\n",
    "    '0.75': load_experimental_data('ae/data/2023-11-14_alpha075v.h5', THRESHOLDS['2023-11-13'], amplitude=True),\n",
    "    '1': load_experimental_data('ae/data/2023-11-13_alpha1v.h5', THRESHOLDS['2023-11-13'], amplitude=True),\n",
    "    '1.25': load_experimental_data('ae/data/2023-11-15_alpha125v.h5', THRESHOLDS['2023-11-15'], amplitude=True),\n",
    "    '1.5': load_experimental_data('ae/data/2023-11-15_alpha15v.h5', THRESHOLDS['2023-11-15'], amplitude=True),\n",
    "    '1.6': load_experimental_data('ae/data/2023-11-14_alpha16.h5', THRESHOLDS['2023-11-14'], amplitude=True),\n",
    "    '1.75': load_experimental_data('ae/data/2023-11-15_alpha175v.h5', THRESHOLDS['2023-11-15'], amplitude=True),\n",
    "    # '2': load_experimental_data('ae/data/2023-11-24_alpha2v.h5', THRESHOLDS['2023-11-13'], amplitude=True),\n",
    "    '2': load_experimental_data('ae/data/2023-11-13_alpha2v.h5', THRESHOLDS['2023-11-13'], amplitude=True),\n",
    "}\n",
    "\n",
    "# cm = 0.393701\n",
    "# fig = plt.subplots(figsize =(8*cm, 5.5*cm))\n",
    "# ax0 = fig.add_subplot(111)\n",
    "n_boot = 100\n",
    "# colors = {\n",
    "#     'SCS': ['tab:blue', 'o'],\n",
    "#     'SQL': ['tab:purple', 'd'],\n",
    "# }\n",
    "difference_SCS=[]\n",
    "for name in alpha_data_v:\n",
    "    data = alpha_data_v[name]\n",
    "    x_len = len(data.x)\n",
    "    mu_boot_g = np.zeros([n_boot, x_len])\n",
    "    mu_boot_g_dp = np.zeros([n_boot, x_len])\n",
    "    mu_boot_gvac = np.zeros([n_boot, x_len])\n",
    "    mu_boot_gvac_dp = np.zeros([n_boot, x_len])\n",
    "    sigma_tot = np.zeros(x_len)\n",
    "\n",
    "    # scs \n",
    "    up_lim = 1.3\n",
    "    x_dense = np.linspace(0, up_lim, 2000)\n",
    "    # data fit\n",
    "    data_fit = np.polyfit(data.x[data.x < up_lim], data.y[data.x < up_lim], POLYFIT_ORDER[name])\n",
    "    y_fit = np.poly1d(data_fit)(x_dense)\n",
    "    FI = compute_FI(y_fit, x_dense[1]-x_dense[0])\n",
    "    # print(len(FI))\n",
    "    # print(max(FI))\n",
    "    # Get the optimal point from fitting data\n",
    "    idx = np.argmax(FI)\n",
    "    # print(idx)\n",
    "    # print(x_dense[idx])\n",
    "    # Index for experimental data\n",
    "    idx_data = np.argmin(np.abs(data.x[data.x < up_lim] - x_dense[idx]))\n",
    "    # print(idx_data)\n",
    "    opt_slope = np.gradient(y_fit, x_dense[1]-x_dense[0])[idx]\n",
    "    \n",
    "    # # Get optimal data\n",
    "    m1 = data.m1\n",
    "    mx_g = data.y_raw\n",
    "    opt_p_g = 1 - m1[:, idx_data]\n",
    "    opt_p_gvac = mx_g[:, idx_data]\n",
    "    var_opt_p = np.var(opt_p_g * opt_p_gvac)\n",
    "\n",
    "    for i in range(x_len):\n",
    "        # First measurement, g\n",
    "        # _, _, mu_boot_g[:,i] = bootstrap(data.m1[:, i], n_boot)\n",
    "        _, _, mu_boot_g[:,i], mu_boot_g_dp[:,i] = bootstrap_dp(data.m1[:, i], n_boot)\n",
    "\n",
    "        # Second measurement, g vac\n",
    "        _, _, mu_boot_gvac[:, i], mu_boot_gvac_dp[:,i] = bootstrap_dp(data.y_raw[:, i], n_boot)\n",
    "        \n",
    "    # mu_g_g_vac_boot = (1-mu_boot_g) * (mu_boot_gvac)\n",
    "    mu_g_g_vac_boot_dp = mu_boot_g_dp * mu_boot_gvac_dp\n",
    "\n",
    "    # opt_p = mu_g_g_vac_boot[idx_data]\n",
    "    # var_p = np.var(opt_p)\n",
    "    # print(var_p)\n",
    "    var_mu_g_g_vac_boot_dp  = np.var( mu_g_g_vac_boot_dp[idx_data] )\n",
    "    \n",
    "   \n",
    "    # # theta difference with and without boostraping \n",
    "\n",
    "    # difference_SCS.append(  np.sqrt(abs(var_p / opt_slope**2 - var_opt_p / opt_slope**2)) )\n",
    "    # difference_SCS.append(  np.sqrt(abs(var_p / opt_slope**2)) )\n",
    "    difference_SCS.append( np.sqrt(var_mu_g_g_vac_boot_dp) )\n",
    " \n",
    "\n",
    "print(difference_SCS)\n",
    "\n",
    "\n",
    "##################################### coherent state ################################\n",
    "\n",
    "coherent_data = {\n",
    "    '0.5': load_experimental_data('ae/data/2023-11-07_c05.h5', THRESHOLDS['2023-11-07'], amplitude=True),\n",
    "    '0.75': load_experimental_data('ae/data/2023-11-14_c075.h5', THRESHOLDS['2023-11-14'], amplitude=True),\n",
    "    '1': load_experimental_data('ae/data/2023-11-13_c1.h5', THRESHOLDS['2023-11-13'], amplitude=True),\n",
    "    '1.25': load_experimental_data('ae/data/2023-11-14_c125.h5', THRESHOLDS['2023-11-14'], amplitude=True),\n",
    "    '1.5': load_experimental_data('ae/data/2023-11-07_c15.h5', THRESHOLDS['2023-11-07'], amplitude=True),\n",
    "    '1.6': load_experimental_data('ae/data/2023-11-15_c16.h5', THRESHOLDS['2023-11-15'], amplitude=True),\n",
    "    '1.75': load_experimental_data('ae/data/2023-11-14_c175.h5', THRESHOLDS['2023-11-14'], amplitude=True),\n",
    "    '2': load_experimental_data('ae/data/2023-11-07_c2.h5', THRESHOLDS['2023-11-07'], amplitude=True),\n",
    "}\n",
    "\n",
    "n_boot = 100\n",
    "difference_coh=[]\n",
    "for name in coherent_data:\n",
    "    data = coherent_data[name]\n",
    "    x_len = len(data.x)\n",
    "    mu_boot_g = np.zeros([n_boot, x_len])\n",
    "    mu_boot_g_dp = np.zeros([n_boot, x_len])\n",
    "    mu_boot_gvac = np.zeros([n_boot, x_len])\n",
    "    mu_boot_gvac_dp = np.zeros([n_boot, x_len])\n",
    "    sigma_tot = np.zeros(x_len)\n",
    "\n",
    "    # scs \n",
    "    up_lim = 1.6\n",
    "    x_dense = np.linspace(0, up_lim, 2000)\n",
    "    # data fit\n",
    "    data_fit = np.polyfit(data.x[data.x < up_lim], data.y[data.x < up_lim], POLYFIT_ORDER[name])\n",
    "    y_fit = np.poly1d(data_fit)(x_dense)\n",
    "    FI = compute_FI(y_fit, x_dense[1]-x_dense[0])\n",
    "    # print(len(FI))\n",
    "    # Get the optimal point from fitting data\n",
    "    idx = np.argmax(FI)\n",
    "    # Index for experimental data\n",
    "    idx_data = np.argmin(np.abs(data.x - x_dense[idx]))\n",
    "    opt_slope = np.gradient(y_fit, x_dense[1]-x_dense[0])[idx]\n",
    "    \n",
    "    # # Get optimal data\n",
    "    m1 = data.m1\n",
    "    mx_g = data.y_raw\n",
    "    opt_p_g = 1 - m1[:, idx_data]\n",
    "    opt_p_gvac = mx_g[:, idx_data]\n",
    "    var_opt_p = np.var(opt_p_g * opt_p_gvac)\n",
    "\n",
    "    for i in range(x_len):\n",
    "        # First measurement, g\n",
    "        # _, _, mu_boot_g[:,i] = bootstrap(data.m1[:, i], n_boot)\n",
    "        _, _, mu_boot_g[:,i], mu_boot_g_dp[:,i] = bootstrap_dp(data.m1[:, i], n_boot)\n",
    "\n",
    "        # Second measurement, g vac\n",
    "        _, _, mu_boot_gvac[:, i], mu_boot_gvac_dp[:,i] = bootstrap_dp(data.y_raw[:, i], n_boot)\n",
    "        \n",
    "    # mu_g_g_vac_boot = (1-mu_boot_g) * (mu_boot_gvac)\n",
    "    mu_g_g_vac_boot_dp = mu_boot_g_dp * mu_boot_gvac_dp\n",
    "\n",
    "    # opt_p = mu_g_g_vac_boot[idx_data]\n",
    "    # var_p = np.var(opt_p)\n",
    "    # print(var_p)\n",
    "    var_mu_g_g_vac_boot_dp  = np.var( mu_g_g_vac_boot_dp[idx_data] )\n",
    "    \n",
    "   \n",
    "    # # theta difference with and without boostraping \n",
    "\n",
    "    # difference_SCS.append(  np.sqrt(abs(var_p / opt_slope**2 - var_opt_p / opt_slope**2)) )\n",
    "    # difference_SCS.append(  np.sqrt(abs(var_p / opt_slope**2)) )\n",
    "    difference_coh.append( np.sqrt(var_mu_g_g_vac_boot_dp) )\n",
    " \n",
    "\n",
    "print(difference_coh)\n",
    "\n"
   ]
  },
  {
   "cell_type": "code",
   "execution_count": 18,
   "metadata": {},
   "outputs": [
    {
     "name": "stdout",
     "output_type": "stream",
     "text": [
      "[[1.45694245e-04 7.90734438e-05]\n",
      " [7.90734438e-05 1.85292933e-04]]\n",
      "Optimized Parameters:\n",
      "b1: -1.310698448420439\n",
      "a1: -0.457899217271606\n",
      "---------------\n",
      "Optimized Parameters:\n",
      "b2: -0.48042643477406727\n",
      "a2: -0.010510104335102655\n"
     ]
    },
    {
     "data": {
      "image/png": "[encoded data removed]",
      "text/plain": [
       "<Figure size 226.772x170.079 with 1 Axes>"
      ]
     },
     "metadata": {
      "needs_background": "light"
     },
     "output_type": "display_data"
    }
   ],
   "source": [
    "from scipy.optimize import curve_fit\n",
    "\n",
    "\n",
    "def fit(avg_num, b, a):\n",
    "    return b + avg_num*a\n",
    "\n",
    "# fig = make_figure(width=8.4, height=4, font_size=8)\n",
    "# ax0 = fig.add_subplot(111)\n",
    "cm = 0.393701\n",
    "fig = plt.subplots(figsize =(8*cm, 6*cm))\n",
    "# fig = plt.subplots(figsize =(8*cm, 3.5*cm))\n",
    "\n",
    "# Assuming n and result_max are defined somewhere in your code\n",
    "x_data = np.log(n)[1:]\n",
    "y_data = np.log(result_max)[1:]\n",
    "y_sql = np.log([MEASURED_SQL[alpha] for alpha in alphas])[1:]\n",
    "\n",
    "# # Use curve_fit to find the parameters that minimize the difference\n",
    "params, covariance = curve_fit(fit, x_data, y_data, p0=[4, 2])\n",
    "params_sql, covariance_sql = curve_fit(fit, x_data, y_sql, p0=[0.5, 1])\n",
    "\n",
    "# Params now contains the optimized values for A, B, power1, power2, and c\n",
    "op_b1, op_a1 = params\n",
    "op_b2, op_a2 = params_sql\n",
    "\n",
    "# Create a fitted curve using the optimized parameters\n",
    "v = np.linspace(-3, 2, 200)\n",
    "y_fit = fit(v, op_b1, op_a1)\n",
    "y_sql_fit = fit(v, op_b2, op_a2)\n",
    "\n",
    "\n",
    "\n",
    "log_x = np.log(n)[1:]\n",
    "log_y = np.log(np.sqrt(np.array(1/np.array(result_max_var))))[1:]\n",
    "params, covariance = curve_fit(fit, log_x, log_y, p0=[1, -1])\n",
    "op_b1, op_a1 = params\n",
    "error_SCS = np.array(difference_SCS)[1:]\n",
    "log_error_SCS = np.log(error_SCS)\n",
    "\n",
    "log_y2 = np.log(np.sqrt(np.array(1/np.array(coh_max_var))))[1:]\n",
    "params, covariance_sql = curve_fit(fit, log_x, log_y2, p0=[1, -1])\n",
    "op_b2, op_a2 = params\n",
    "error_coh = np.array(difference_coh)[1:]\n",
    "log_error_coh = np.log(error_coh)\n",
    "print(covariance_sql)\n",
    "\n",
    "################ plot ####################\n",
    "\n",
    "plt.errorbar(np.exp(log_x), np.exp(log_y), yerr=np.exp(log_error_SCS),color='tab:blue', linestyle='', marker='o', markersize=4, capsize =4, label='scs direct')\n",
    "# plt.plot(np.exp(log_x), np.exp(log_y), color='tab:blue', linestyle='', marker='o', markersize=4, label='scs direct')\n",
    "v = np.linspace(-3, 1, 100)\n",
    "plt.plot(np.exp(v), np.exp(fit(v, op_b1, op_a1)), ':', color='tab:blue')\n",
    "\n",
    "plt.errorbar(np.exp(log_x), np.exp(log_y2), yerr=np.exp(log_error_coh), color='tab:purple', linestyle='', marker='d', markersize=4,capsize=4, label='classical direct')\n",
    "# plt.plot(np.exp(log_x), np.exp(log_y2), color='tab:purple', linestyle='', marker='d', markersize=4, label='classical direct')\n",
    "plt.plot(np.exp(v), np.exp(fit(v, op_b2, op_a2)), ':', color='tab:purple')\n",
    "\n",
    "\n",
    "plt.xlim([0.15, 2])\n",
    "plt.ylim([1e-1, 1])\n",
    "plt.yscale('log')\n",
    "plt.xscale('log')\n",
    "# plt.ylabel(r'$\\Delta\\theta$')\n",
    "plt.legend()\n",
    "print(\"Optimized Parameters:\")\n",
    "print(\"b1:\", op_b1)\n",
    "print(\"a1:\", op_a1)\n",
    "# print(\"c:\", op_c1)\n",
    "print('---------------')\n",
    "print(\"Optimized Parameters:\")\n",
    "print(\"b2:\", op_b2)\n",
    "print(\"a2:\", op_a2)\n",
    "# print(\"c:\", op_c2)\n",
    "plt.tick_params(axis='both', which='major', labelsize=8)\n",
    "plt.savefig('sfig3c.pdf')"
   ]
  },
  {
   "cell_type": "code",
   "execution_count": 19,
   "metadata": {},
   "outputs": [
    {
     "name": "stdout",
     "output_type": "stream",
     "text": [
      "Variances: var_op_b1 = 0.002265997023227606, var_op_a1 = 0.002881879390968173\n",
      "Variances: var_op_b2 = 0.0001456942451185394, var_op_a2 = 0.00018529293342388142\n"
     ]
    }
   ],
   "source": [
    "\n",
    "# Extract the diagonal elements of the covariance matrix as variances\n",
    "var_op_b1, var_op_a1 = np.diag(covariance)\n",
    "print(f\"Variances: var_op_b1 = {var_op_b1}, var_op_a1 = {var_op_a1}\")\n",
    "var_op_b2, var_op_a2 = np.diag(covariance_sql)\n",
    "print(f\"Variances: var_op_b2 = {var_op_b2}, var_op_a2 = {var_op_a2}\")"
   ]
  },
  {
   "cell_type": "code",
   "execution_count": 20,
   "metadata": {},
   "outputs": [
    {
     "ename": "ValueError",
     "evalue": "not enough values to unpack (expected 3, got 2)",
     "output_type": "error",
     "traceback": [
      "\u001b[0;31m---------------------------------------------------------------------------\u001b[0m",
      "\u001b[0;31mValueError\u001b[0m                                Traceback (most recent call last)",
      "\u001b[0;32m<ipython-input-20-be368d0208e1>\u001b[0m in \u001b[0;36m<module>\u001b[0;34m\u001b[0m\n\u001b[0;32m----> 1\u001b[0;31m \u001b[0mvar_b\u001b[0m\u001b[0;34m,\u001b[0m \u001b[0mvar_a\u001b[0m\u001b[0;34m,\u001b[0m \u001b[0mvar_c\u001b[0m \u001b[0;34m=\u001b[0m \u001b[0mnp\u001b[0m\u001b[0;34m.\u001b[0m\u001b[0mdiag\u001b[0m\u001b[0;34m(\u001b[0m\u001b[0mcovariance\u001b[0m\u001b[0;34m)\u001b[0m\u001b[0;34m\u001b[0m\u001b[0;34m\u001b[0m\u001b[0m\n\u001b[0m\u001b[1;32m      2\u001b[0m \u001b[0mvar_b_sql\u001b[0m\u001b[0;34m,\u001b[0m \u001b[0mvar_a_sql\u001b[0m\u001b[0;34m,\u001b[0m \u001b[0mvar_c_sql\u001b[0m \u001b[0;34m=\u001b[0m \u001b[0mnp\u001b[0m\u001b[0;34m.\u001b[0m\u001b[0mdiag\u001b[0m\u001b[0;34m(\u001b[0m\u001b[0mcovariance_sql\u001b[0m\u001b[0;34m)\u001b[0m\u001b[0;34m\u001b[0m\u001b[0;34m\u001b[0m\u001b[0m\n\u001b[1;32m      3\u001b[0m \u001b[0;34m\u001b[0m\u001b[0m\n\u001b[1;32m      4\u001b[0m \u001b[0mprint\u001b[0m\u001b[0;34m(\u001b[0m\u001b[0;34m'var_b, var_a, var_c:'\u001b[0m\u001b[0;34m,\u001b[0m \u001b[0mnp\u001b[0m\u001b[0;34m.\u001b[0m\u001b[0maround\u001b[0m\u001b[0;34m(\u001b[0m\u001b[0mvar_b\u001b[0m\u001b[0;34m,\u001b[0m\u001b[0;36m2\u001b[0m\u001b[0;34m)\u001b[0m\u001b[0;34m,\u001b[0m \u001b[0mnp\u001b[0m\u001b[0;34m.\u001b[0m\u001b[0maround\u001b[0m\u001b[0;34m(\u001b[0m\u001b[0mvar_a\u001b[0m\u001b[0;34m,\u001b[0m\u001b[0;36m2\u001b[0m\u001b[0;34m)\u001b[0m\u001b[0;34m,\u001b[0m \u001b[0mnp\u001b[0m\u001b[0;34m.\u001b[0m\u001b[0maround\u001b[0m\u001b[0;34m(\u001b[0m\u001b[0mvar_c\u001b[0m\u001b[0;34m,\u001b[0m\u001b[0;36m2\u001b[0m\u001b[0;34m)\u001b[0m\u001b[0;34m)\u001b[0m\u001b[0;34m\u001b[0m\u001b[0;34m\u001b[0m\u001b[0m\n\u001b[1;32m      5\u001b[0m \u001b[0mprint\u001b[0m\u001b[0;34m(\u001b[0m\u001b[0;34m'var_b_sql, var_a_sql, var_c_sql:'\u001b[0m\u001b[0;34m,\u001b[0m \u001b[0mnp\u001b[0m\u001b[0;34m.\u001b[0m\u001b[0maround\u001b[0m\u001b[0;34m(\u001b[0m\u001b[0mvar_b_sql\u001b[0m\u001b[0;34m,\u001b[0m\u001b[0;36m2\u001b[0m\u001b[0;34m)\u001b[0m\u001b[0;34m,\u001b[0m \u001b[0mnp\u001b[0m\u001b[0;34m.\u001b[0m\u001b[0maround\u001b[0m\u001b[0;34m(\u001b[0m\u001b[0mvar_a_sql\u001b[0m\u001b[0;34m,\u001b[0m\u001b[0;36m2\u001b[0m\u001b[0;34m)\u001b[0m\u001b[0;34m,\u001b[0m \u001b[0mnp\u001b[0m\u001b[0;34m.\u001b[0m\u001b[0maround\u001b[0m\u001b[0;34m(\u001b[0m\u001b[0mvar_c_sql\u001b[0m\u001b[0;34m,\u001b[0m\u001b[0;36m2\u001b[0m\u001b[0;34m)\u001b[0m\u001b[0;34m)\u001b[0m\u001b[0;34m\u001b[0m\u001b[0;34m\u001b[0m\u001b[0m\n",
      "\u001b[0;31mValueError\u001b[0m: not enough values to unpack (expected 3, got 2)"
     ]
    }
   ],
   "source": [
    "var_b, var_a, var_c = np.diag(covariance)\n",
    "var_b_sql, var_a_sql, var_c_sql = np.diag(covariance_sql)\n",
    "\n",
    "print('var_b, var_a, var_c:', np.around(var_b,2), np.around(var_a,2), np.around(var_c,2))\n",
    "print('var_b_sql, var_a_sql, var_c_sql:', np.around(var_b_sql,2), np.around(var_a_sql,2), np.around(var_c_sql,2))\n"
   ]
  },
  {
   "cell_type": "markdown",
   "metadata": {},
   "source": [
    "### gain"
   ]
  },
  {
   "cell_type": "code",
   "execution_count": null,
   "metadata": {},
   "outputs": [
    {
     "name": "stdout",
     "output_type": "stream",
     "text": [
      "9.370136568540845\n"
     ]
    }
   ],
   "source": [
    "A =  np.sqrt(1 / coh_max_var[-2])\n",
    "B = np.sqrt(1 / result_max_var[-2])\n",
    "ratio = 20 * np.log10(A / B)\n",
    "print(ratio)"
   ]
  },
  {
   "cell_type": "markdown",
   "metadata": {},
   "source": [
    "### Error gain propragation $\\\\$\n",
    "$gain=20log(\\Delta\\theta_{SQL}/\\Delta\\theta_{SCS})-> y=20[log10(a)-log10(b)]$ $\\\\$\n",
    "error propragation equation: $\\\\$\n",
    "$\\Delta y = \\sqrt{(\\frac{\\partial y}{\\partial a})^2\\Delta a^2 + (\\frac{\\partial y}{\\partial b})^2\\Delta b^2}$, therefore, we can get: $\\\\$\n",
    "$\\frac{\\partial y}{\\partial a}=20\\frac{\\partial log10(a)}{\\partial a}=\\frac{20}{ln(10)a}$, $\\frac{\\partial y}{\\partial b}=20\\frac{\\partial -log10(b)}{\\partial b}=-\\frac{20}{ln(10)b}$ $\\\\$\n",
    "$\\Delta y = \\sqrt{(\\frac{20}{ln(10)a})^2\\Delta a^2 +(\\frac{20}{ln(10)b})^2\\Delta b^2}$"
   ]
  },
  {
   "cell_type": "code",
   "execution_count": null,
   "metadata": {},
   "outputs": [
    {
     "name": "stdout",
     "output_type": "stream",
     "text": [
      "0.5017551194937099\n"
     ]
    }
   ],
   "source": [
    "d_y = np.sqrt( (20/np.log(10)/np.exp(log_y2[-2]))**2 * difference_coh[-1]**2 + (20/np.log(10)/np.exp(log_y[-2]))**2 * difference_SCS[-1]**2)\n",
    "print(d_y)"
   ]
  },
  {
   "cell_type": "code",
   "execution_count": null,
   "metadata": {},
   "outputs": [
    {
     "name": "stdout",
     "output_type": "stream",
     "text": [
      "Optimized Parameters:\n",
      "b: -1.310698448420439\n",
      "a: -0.457899217271606\n",
      "c: 0.0\n",
      "---------------\n",
      "Optimized Parameters:\n",
      "b: -0.48042643477406727\n",
      "a: -0.010510104335102655\n",
      "c: 0.0\n"
     ]
    },
    {
     "name": "stderr",
     "output_type": "stream",
     "text": [
      "/opt/anaconda3/lib/python3.8/site-packages/scipy/optimize/_minpack_py.py:906: OptimizeWarning: Covariance of the parameters could not be estimated\n",
      "  warnings.warn('Covariance of the parameters could not be estimated',\n",
      "/opt/anaconda3/lib/python3.8/site-packages/scipy/optimize/_minpack_py.py:906: OptimizeWarning: Covariance of the parameters could not be estimated\n",
      "  warnings.warn('Covariance of the parameters could not be estimated',\n"
     ]
    },
    {
     "data": {
      "image/png": "[encoded data removed]",
      "text/plain": [
       "<Figure size 453.543x170.079 with 1 Axes>"
      ]
     },
     "metadata": {
      "needs_background": "light"
     },
     "output_type": "display_data"
    }
   ],
   "source": [
    "from scipy.optimize import curve_fit\n",
    "def fit(avg_num, b, a, c):\n",
    "    return b + avg_num*a\n",
    "fig = make_figure(16, 6)\n",
    "ax0 = fig.add_subplot(111)\n",
    "# Assuming n and result_max are defined somewhere in your code\n",
    "x_data = np.log(n)[1:]\n",
    "y_data = np.log(result_max)[1:]\n",
    "y_sql = np.log([MEASURED_SQL[alpha] for alpha in alphas])[1:]\n",
    "# # Use curve_fit to find the parameters that minimize the difference\n",
    "params, covariance = curve_fit(fit, x_data, y_data, p0=[4, 2, 0])\n",
    "params_sql, covariance_sql = curve_fit(fit, x_data, y_sql, p0=[0.5, 1, 0])\n",
    "# Params now contains the optimized values for A, B, power1, power2, and c\n",
    "op_b1, op_a1, op_c1 = params\n",
    "op_b2, op_a2, op_c2 = params_sql\n",
    "# Create a fitted curve using the optimized parameters\n",
    "v = np.linspace(-3, 1.8, 200)\n",
    "y_fit = fit(v, op_b1, op_a1, op_c1)\n",
    "y_sql_fit = fit(v, op_b2, op_a2, op_c2)\n",
    "ax0.scatter(x_data, -0.5*y_data, color='tab:cyan', marker='*', s=20, label='SCS FI')\n",
    "ax0.plot(v, -0.5*y_fit,  color='tab:cyan')\n",
    "ax0.scatter(x_data, -0.5*y_sql,  color='tab:pink', marker='d', s=15, label='classical FI')\n",
    "ax0.plot(v, -0.5*y_sql_fit, color='tab:pink')\n",
    "# def fit(avg_num, b, a, c):\n",
    "#     return b * avg_num + a\n",
    "log_x = np.log(n)[1:]\n",
    "log_y = np.log(np.sqrt(np.array(1/np.array(result_max_var))))[1:]\n",
    "params, covariance = curve_fit(fit, log_x, log_y, p0=[1, -1, 0])\n",
    "op_b1, op_a1, op_c1 = params\n",
    "log_y2 = np.log(np.sqrt(np.array(1/np.array(coh_max_var))))[1:]\n",
    "params, covariance = curve_fit(fit, log_x, log_y2, p0=[1, -1, 0])\n",
    "op_b2, op_a2, op_c2 = params\n",
    "ax0.scatter(log_x, log_y, color='tab:blue', marker='*', s=20, label='scs direct')\n",
    "v = np.linspace(-3, 0.6, 100)\n",
    "ax0.plot(v, fit(v, op_b1, op_a1, op_c1), color='tab:blue')\n",
    "ax0.scatter(log_x, log_y2, color='tab:purple', marker='d', s=15, label='classical direct')\n",
    "ax0.plot(v, fit(v, op_b2, op_a2, op_c2), color='tab:purple')\n",
    "ax0.set_xlabel(r'n')\n",
    "ax0.set_ylabel(r'$\\Delta\\theta$')\n",
    "ax0.set_title('Amplitude estimation error scaling')\n",
    "ax0.set_xlim([-2, 0.52])\n",
    "# plt.yscale('log')\n",
    "# plt.xscale('log')\n",
    "# plt.ylabel(r'$\\Delta\\theta$')\n",
    "ax0.legend()\n",
    "print(\"Optimized Parameters:\")\n",
    "print(\"b:\", op_b1)\n",
    "print(\"a:\", op_a1)\n",
    "print(\"c:\", op_c1)\n",
    "print('---------------')\n",
    "print(\"Optimized Parameters:\")\n",
    "print(\"b:\", op_b2)\n",
    "print(\"a:\", op_a2)\n",
    "print(\"c:\", op_c2)"
   ]
  },
  {
   "cell_type": "markdown",
   "metadata": {},
   "source": [
    "### Bandwidth and average"
   ]
  },
  {
   "cell_type": "code",
   "execution_count": null,
   "metadata": {},
   "outputs": [
    {
     "name": "stdout",
     "output_type": "stream",
     "text": [
      "Optimized Parameters:\n",
      "k: 1.4248175505336493\n",
      "k: 3.8425758735910307\n",
      "c: 0.0\n"
     ]
    },
    {
     "name": "stderr",
     "output_type": "stream",
     "text": [
      "/opt/anaconda3/lib/python3.8/site-packages/scipy/optimize/_minpack_py.py:906: OptimizeWarning: Covariance of the parameters could not be estimated\n",
      "  warnings.warn('Covariance of the parameters could not be estimated',\n"
     ]
    },
    {
     "data": {
      "text/plain": [
       "<matplotlib.legend.Legend at 0x7f9a57e662e0>"
      ]
     },
     "execution_count": 20,
     "metadata": {},
     "output_type": "execute_result"
    },
    {
     "data": {
      "image/png": "[encoded data removed]",
      "text/plain": [
       "<Figure size 255.118x113.386 with 2 Axes>"
      ]
     },
     "metadata": {
      "needs_background": "light"
     },
     "output_type": "display_data"
    }
   ],
   "source": [
    "fig = make_figure()\n",
    "ax0 = fig.add_subplot(111)\n",
    "ax1 = ax0.twinx()\n",
    "\n",
    "# ** Average\n",
    "# # Use curve_fit to find the parameters that minimize the difference\n",
    "params, covariance = curve_fit(fit, n, result_avg, p0=[2, 1, 0])\n",
    "# Params now contains the optimized values for A, B, power1, power2, and c\n",
    "op_k, op_a, op_c = params\n",
    "# Create a fitted curve using the optimized parameters\n",
    "v = np.linspace(0, 1.8, 200)\n",
    "y_fit = fit(v, op_k, op_a, op_c)\n",
    "print(\"Optimized Parameters:\")\n",
    "print(\"k:\", op_k)\n",
    "print(\"k:\", op_a)\n",
    "print(\"c:\", op_c)\n",
    "\n",
    "ax1.scatter(n, result_avg, color='tab:cyan', marker='h', s=15, label=\"Measured FI avg\")\n",
    "ax1.plot(v, y_fit,  color='tab:cyan')\n",
    "\n",
    "ax1.plot(n, result_sim_avg, '--', color='tab:cyan', label='simulation')\n",
    "\n",
    "ax1.set_ylabel('Average FI')\n",
    "\n",
    "# ** Bandwidth\n",
    "ax0.plot(n, result_bandwidth, '*-', color='tab:blue', label=\"Measured\")\n",
    "ax0.plot(n, result_ideal_bandwidth, '.-', color='tab:pink', label=\"Ideal\")\n",
    "\n",
    "ax0.plot(n, result_sim_bandwidth, '--', color='tab:blue', label='simulation')\n",
    "\n",
    "# ax0.title('Phase estimation with balanced cat states')\n",
    "ax0.set_xlabel(r\"Average photon number $\\bar{N}$\")\n",
    "ax0.set_ylabel(\"Bandwidth\")\n",
    "\n",
    "ax0.legend(loc='center right')\n",
    "ax1.legend(loc='lower right')"
   ]
  },
  {
   "cell_type": "code",
   "execution_count": null,
   "metadata": {},
   "outputs": [
    {
     "name": "stdout",
     "output_type": "stream",
     "text": [
      "[0.28658747 0.04981167 0.05710216 0.19161387 0.13727683 0.08666552\n",
      " 0.11772738 0.2444219 ]\n",
      "[0.08213238029899475, 0.002481202577035197, 0.0032606571353841584, 0.03671587698250543, 0.018844928604177892, 0.007510913158101679, 0.013859736778864777, 0.059742063913792845]\n"
     ]
    }
   ],
   "source": [
    "alpha_data_v = {\n",
    "    '0.5': load_experimental_data('ae/data/2023-11-13_alpha05v.h5', THRESHOLDS['2023-11-13'], amplitude=True),\n",
    "    '0.75': load_experimental_data('ae/data/2023-11-14_alpha075v.h5', THRESHOLDS['2023-11-13'], amplitude=True),\n",
    "    '1': load_experimental_data('ae/data/2023-11-13_alpha1v.h5', THRESHOLDS['2023-11-13'], amplitude=True),\n",
    "    '1.25': load_experimental_data('ae/data/2023-11-15_alpha125v.h5', THRESHOLDS['2023-11-15'], amplitude=True),\n",
    "    '1.5': load_experimental_data('ae/data/2023-11-15_alpha15v.h5', THRESHOLDS['2023-11-15'], amplitude=True),\n",
    "    '1.6': load_experimental_data('ae/data/2023-11-14_alpha16.h5', THRESHOLDS['2023-11-14'], amplitude=True),\n",
    "    '1.75': load_experimental_data('ae/data/2023-11-15_alpha175v.h5', THRESHOLDS['2023-11-15'], amplitude=True),\n",
    "    # '2': load_experimental_data('ae/data/2023-11-24_alpha2v.h5', THRESHOLDS['2023-11-13'], amplitude=True),\n",
    "    '2': load_experimental_data('ae/data/2023-11-13_alpha2v.h5', THRESHOLDS['2023-11-13'], amplitude=True),\n",
    "}\n",
    "\n",
    "# cm = 0.393701\n",
    "# fig = plt.subplots(figsize =(8*cm, 5.5*cm))\n",
    "# ax0 = fig.add_subplot(111)\n",
    "n_boot = 100\n",
    "# colors = {\n",
    "#     'SCS': ['tab:blue', 'o'],\n",
    "#     'SQL': ['tab:purple', 'd'],\n",
    "# }\n",
    "F_avg_error_SCS=[]\n",
    "var_F_avg_list = []\n",
    "for name in alpha_data:\n",
    "    F_avg_array = []\n",
    "    F_max_array = []\n",
    "    data = alpha_data[name]\n",
    "    x_len = len(data.x)\n",
    "    mu_boot_g = np.zeros([n_boot, x_len])\n",
    "    mu_boot_g_dp = np.zeros([n_boot, x_len])\n",
    "    mu_boot_gvac = np.zeros([n_boot, x_len])\n",
    "    mu_boot_gvac_dp = np.zeros([n_boot, x_len])\n",
    "    sigma_tot = np.zeros(x_len)\n",
    "    for i in range(x_len):\n",
    "        # First measurement, g\n",
    "        _, _, mu_boot_g[:,i] = bootstrap(data.m1[:, i], n_boot)\n",
    "\n",
    "        # Second measurement, g vac\n",
    "        _, _, mu_boot_gvac[:, i] = bootstrap(data.y_raw[:, i], n_boot)\n",
    "    mu_g_g_vac_boot = (1-mu_boot_g) * (mu_boot_gvac) # shape = (100, 149)\n",
    "\n",
    "    # scs \n",
    "    up_lim = 1.6\n",
    "    x_dense = np.linspace(0, up_lim, 2000)\n",
    "    # data fit\n",
    "    for k in range(shape(mu_g_g_vac_boot)[0]):\n",
    "        data_x = data.x\n",
    "        data_y = mu_g_g_vac_boot[k,:]\n",
    "        # fit\n",
    "        data_fit = np.polyfit(data_x[data_x< up_lim], data_y[data_x < up_lim], POLYFIT_ORDER[name])\n",
    "        y_fit = np.poly1d(data_fit)(x_dense)    \n",
    "        m, a, _, _ = extract_FI_params(x_dense, y_fit, MEASURED_SQL[name])\n",
    "        # print(MEASURED_SQL[name])\n",
    "        # plt.plot(x_dense, y_fit)\n",
    "        F_avg_array.append(a)\n",
    "        F_max_array.append(m)\n",
    "    # print(F_max_array)\n",
    "    # print(F_avg_array)\n",
    "    var_F_avg_list.append(np.var(np.array(F_avg_array)))\n",
    "    # print\n",
    "F_avg_list_error = np.sqrt(np.array(var_F_avg_list))\n",
    "print(F_avg_list_error)\n",
    "print(var_F_avg_list)\n",
    "\n"
   ]
  },
  {
   "cell_type": "code",
   "execution_count": null,
   "metadata": {},
   "outputs": [
    {
     "name": "stdout",
     "output_type": "stream",
     "text": [
      "3.1533361141855853\n",
      "1.0000000000000002\n",
      "2.243654905354927\n"
     ]
    },
    {
     "data": {
      "image/png": "[encoded data removed]",
      "text/plain": [
       "<Figure size 226.772x99.2127 with 2 Axes>"
      ]
     },
     "metadata": {
      "needs_background": "light"
     },
     "output_type": "display_data"
    }
   ],
   "source": [
    "# cm = 0.393701\n",
    "# fig = make_figure(width=8*cm, height=8*cm, font_size=8)\n",
    "# fig = make_figure(width=8, height=8, font_size=8)\n",
    "cm = 0.393701\n",
    "fig, ax0 = plt.subplots(figsize =(8*cm, 3.5*cm))\n",
    "# fig, ax0 = plt.subplots(figsize =(3.5*cm, 3.5*cm))\n",
    "# ax0 = fig.add_subplot(111)\n",
    "ax1 = ax0.twinx()\n",
    "\n",
    "\n",
    "# FI avg\n",
    "ax0.errorbar(n, result_avg,yerr=F_avg_list_error, linestyle='', color='tab:blue', marker='s', markersize=4, capsize=4,label=\"FI avg\")\n",
    "ax0.plot(n, result_sim_avg, '--', color='tab:blue')\n",
    "ax0.legend()\n",
    "ax0.set_xlim(0, 1.8)\n",
    "ax0.set_ylim(-2,12)\n",
    "tick_start = 0\n",
    "tick_end = 1.8\n",
    "tick_step = 0.4\n",
    "ax0.set_xticks(np.arange(tick_start, tick_end, tick_step))\n",
    "\n",
    "# Define the custom function\n",
    "def fit_f_avg(avg_num, b, a, c):\n",
    "    return b * avg_num**a + c\n",
    "\n",
    "# def fit_f_avg(avg_num, b, a, c):\n",
    "#     return b * avg_num + c\n",
    "\n",
    "# Sample data\n",
    "x_data = np.array(n[1:])\n",
    "y_data = np.array(result_avg[1:])\n",
    "\n",
    "# Use curve_fit to fit the data\n",
    "lower_bounds = [1, 1, 1.5]\n",
    "upper_bounds = [5, 1.1, 2.5]\n",
    "params, covariance = curve_fit(fit_f_avg, x_data, y_data, bounds=(lower_bounds, upper_bounds))\n",
    "b_fit, a_fit, c_fit = params\n",
    "y_fit = fit_f_avg(n, b_fit, a_fit, c_fit)\n",
    "\n",
    "var_b, var_a, var_c = np.diag(covariance)\n",
    "\n",
    "\n",
    "# Plot the original data and the fitted curve\n",
    "ax0.plot(n, y_fit, ':',label=f'Fit: {b_fit:.2f} * avg_num^{a_fit:.2f} + {c_fit:.2f}', color='tab:blue')\n",
    "ax0.legend()\n",
    "\n",
    "print(b_fit)\n",
    "print(a_fit)\n",
    "print(c_fit)\n",
    "\n",
    "\n",
    "#  offset\n",
    "ax1.errorbar(n, result_th_max, offset_error_array, linestyle = '',marker='^', markersize=4, color='tab:purple',capsize=4, label=\"offset\")\n",
    "ax1.plot(n, sim_th_max, '--', color='tab:purple')\n",
    "ax1.legend()\n",
    "tick_start = -0.2\n",
    "tick_end = 1.2\n",
    "tick_step = 0.4\n",
    "ax1.set_yticks(np.arange(tick_start, tick_end, tick_step))\n",
    "plt.savefig('sfig3a.pdf')"
   ]
  },
  {
   "cell_type": "code",
   "execution_count": null,
   "metadata": {},
   "outputs": [
    {
     "name": "stdout",
     "output_type": "stream",
     "text": [
      "0.21017801423093863 0.027973959043301397 0.14681640586740635\n"
     ]
    }
   ],
   "source": [
    "print(var_b, var_a, var_c)"
   ]
  },
  {
   "cell_type": "markdown",
   "metadata": {},
   "source": [
    "## bandwitdth and FI_avg_above"
   ]
  },
  {
   "cell_type": "code",
   "execution_count": null,
   "metadata": {},
   "outputs": [
    {
     "name": "stdout",
     "output_type": "stream",
     "text": [
      "[0, 0.5209854927463733, 0.6752926463231615, 0.7747173586793397, 0.8009654827413707, 0.839144572286143, 0.7723311655827915, 0.6912006003001502]\n"
     ]
    },
    {
     "data": {
      "image/png": "[encoded data removed]",
      "text/plain": [
       "<Figure size 255.118x113.386 with 1 Axes>"
      ]
     },
     "metadata": {
      "needs_background": "light"
     },
     "output_type": "display_data"
    }
   ],
   "source": [
    "fig = make_figure()\n",
    "ax0 = fig.add_subplot(111)\n",
    "print(result_bandwidth)\n",
    "ax0.plot(result_bandwidth, result_avg, '*-',  color='tab:blue', label='')\n",
    "ax0.set_xlabel(r\"Bandwidth\")\n",
    "ax0.set_ylabel(\"Fisher inforamtion\")\n",
    "plt.savefig('FI_avg vs bandwidh.pdf')\n",
    "# ax0.legend(loc='center right')\n",
    "# ax1.legend(loc='lower right')"
   ]
  },
  {
   "cell_type": "code",
   "execution_count": null,
   "metadata": {},
   "outputs": [
    {
     "data": {
      "image/png": "[encoded data removed]",
      "text/plain": [
       "<Figure size 113.386x113.386 with 1 Axes>"
      ]
     },
     "metadata": {
      "needs_background": "light"
     },
     "output_type": "display_data"
    }
   ],
   "source": [
    "fig = make_figure(width=4, height=4, font_size=8)\n",
    "ax0 = fig.add_subplot(111)\n",
    "\n",
    "\n",
    "ax0.scatter(result_bandwidth, result_avg, color='tab:blue', marker='*', label=\"Measured FI avg\")\n",
    "\n",
    "ax0.plot(result_sim_bandwidth, result_sim_avg, '--', color='tab:purple', label='simulation')\n",
    "# ax0.plot(result_ideal_bandwidth, result_ideal_avg, '.-', color='tab:pink', label='Ideal')\n",
    "ax0.set_ylim(0,15)\n",
    "# ax0.set_ylabel('Average FI')\n",
    "# ax0.set_xlabel(r'Bandwidth')\n",
    "plt.legend()\n",
    "plt.savefig('amp_FI_avg_bandwidth.pdf')"
   ]
  },
  {
   "cell_type": "markdown",
   "metadata": {},
   "source": [
    "### $\\theta$ offset vs $n$"
   ]
  },
  {
   "cell_type": "code",
   "execution_count": null,
   "metadata": {},
   "outputs": [
    {
     "data": {
      "image/png": "[encoded data removed]",
      "text/plain": [
       "<Figure size 113.386x113.386 with 1 Axes>"
      ]
     },
     "metadata": {
      "needs_background": "light"
     },
     "output_type": "display_data"
    }
   ],
   "source": [
    "# n vs theta_max\n",
    "fig = make_figure(width=4, height=4, font_size=8)\n",
    "ax0 = fig.add_subplot(111)\n",
    "ax0.plot(n, result_th_max, '*', color='tab:blue', label='data')\n",
    "ax0.plot(n, sim_th_max, '--', color='tab:purple', label='simulation')\n",
    "# ax0.set_xlabel(r'Average photon number $\\bar{N}$')\n",
    "# ax0.set_ylabel(r'Amplitude offset') \n",
    "ax0.legend()\n",
    "\n",
    "tick_start = 0\n",
    "tick_end = 1.8\n",
    "tick_step = 0.4\n",
    "ax0.set_xticks(np.arange(tick_start, tick_end, tick_step))\n",
    "ax0.set_xlim(0,1.8)\n",
    "ax0.set_ylim(0.1,0.9)\n",
    "plt.savefig('ampoffset vs N.pdf')"
   ]
  },
  {
   "cell_type": "markdown",
   "metadata": {},
   "source": [
    "## Unbalanced"
   ]
  },
  {
   "cell_type": "markdown",
   "metadata": {},
   "source": [
    "### Same n"
   ]
  },
  {
   "cell_type": "code",
   "execution_count": null,
   "metadata": {},
   "outputs": [
    {
     "data": {
      "application/vnd.jupyter.widget-view+json": {
       "model_id": "146a9c3339d34d0fb9bef18033733a94",
       "version_major": 2,
       "version_minor": 0
      },
      "text/plain": [
       "HBox(children=(HTML(value=''), FloatProgress(value=0.0, max=91.0), HTML(value='')))"
      ]
     },
     "metadata": {},
     "output_type": "display_data"
    },
    {
     "name": "stdout",
     "output_type": "stream",
     "text": [
      "\n"
     ]
    },
    {
     "data": {
      "application/vnd.jupyter.widget-view+json": {
       "model_id": "91da8e4915f444c6bdd7303f8c7722ec",
       "version_major": 2,
       "version_minor": 0
      },
      "text/plain": [
       "HBox(children=(HTML(value=''), FloatProgress(value=0.0, max=91.0), HTML(value='')))"
      ]
     },
     "metadata": {},
     "output_type": "display_data"
    },
    {
     "name": "stdout",
     "output_type": "stream",
     "text": [
      "\n"
     ]
    },
    {
     "data": {
      "application/vnd.jupyter.widget-view+json": {
       "model_id": "92c791f285e8467a905d79813e485bec",
       "version_major": 2,
       "version_minor": 0
      },
      "text/plain": [
       "HBox(children=(HTML(value=''), FloatProgress(value=0.0, max=91.0), HTML(value='')))"
      ]
     },
     "metadata": {},
     "output_type": "display_data"
    },
    {
     "name": "stdout",
     "output_type": "stream",
     "text": [
      "\n"
     ]
    },
    {
     "data": {
      "image/png": "[encoded data removed]",
      "text/plain": [
       "<Figure size 226.772x99.2127 with 1 Axes>"
      ]
     },
     "metadata": {
      "needs_background": "light"
     },
     "output_type": "display_data"
    }
   ],
   "source": [
    "n1_cat_data = {\n",
    "    # '0.25': load_experimental_data('pe/data/2023-11-07_025alpha21.h5', THRESHOLDS['2023-11-07']),\n",
    "    '0.3': load_experimental_data('ae/data/2023-11-14_03alpha195.h5', THRESHOLDS['2023-11-14'], amplitude=True),\n",
    "    # '0.4': load_experimental_data('ae/data/2023-11-14_04alpha1745.h5', THRESHOLDS['2023-11-14'], amplitude=True),\n",
    "    '0.5': load_experimental_data('ae/data/2023-11-14_alpha16.h5', THRESHOLDS['2023-11-14'], amplitude=True),\n",
    "    # '0.6': load_experimental_data('ae/data/2023-11-14_06alpha149.h5', THRESHOLDS['2023-11-14'], amplitude=True),\n",
    "    '0.7': load_experimental_data('ae/data/2023-11-14_07alpha139.h5', THRESHOLDS['2023-11-14'], amplitude=True),\n",
    "\n",
    "    # '0.8': load_experimental_data('pe/data/2023-11-14_08alpha13.h5', THRESHOLDS['2023-11-14'])\n",
    "}\n",
    "\n",
    "SQL_ideal = 4*compute_photon_number(1.6)\n",
    "SQL_measured = MEASURED_SQL_v['1.6']\n",
    "\n",
    "\n",
    "# fig = make_figure(width=4, height=4, font_size=8)\n",
    "# ax0 = fig.add_subplot(111)\n",
    "fig, ax0 = plt.subplots(figsize =(8*cm, 3.5*cm))\n",
    "\n",
    "\n",
    "for alpha_coeff in list(n1_cat_data.keys()):\n",
    "    data = n1_cat_data[alpha_coeff]\n",
    "    pe = data.y\n",
    "    phase = data.x\n",
    "\n",
    "    up_lim = np.max(phase) if (np.max(phase) < 3) else 3\n",
    "    x = np.linspace(np.max([np.min(phase), 0.01]), up_lim, 2000)\n",
    "\n",
    "    # if alpha_coeff == '0.3': order = 5\n",
    "    # elif  alpha_coeff == '0.25': order = 6\n",
    "    # else: order = 5\n",
    "    if alpha_coeff == '0.25':\n",
    "        order = 6\n",
    "    elif alpha_coeff == '0.3':\n",
    "        order = 7\n",
    "        col = 'teal'#'tab:green'\n",
    "    elif alpha_coeff == '0.4':\n",
    "        order = 6\n",
    "    elif alpha_coeff == '0.5':\n",
    "        order = 6\n",
    "        col= 'tab:blue'\n",
    "    elif alpha_coeff == '0.6':\n",
    "        order = 5\n",
    "    elif alpha_coeff == '0.7':\n",
    "        order = 5\n",
    "        col = 'saddlebrown'#'tab:orange'\n",
    "    elif alpha_coeff == '0.8':\n",
    "        order = 5\n",
    "    else:\n",
    "        order = 6\n",
    "\n",
    "    data_fit = np.polyfit(phase[phase < up_lim], pe[phase < up_lim], order)\n",
    "    y_fit = np.poly1d(data_fit)(x)\n",
    "    FI_data = compute_FI(y_fit, x[1] - x[0])\n",
    "    mu, sigma = compute_many_FI_error(data, x, order, up_lim, 100)\n",
    "\n",
    "    # Label state (1-x)|0> + x|alpha>\n",
    "    # state_label = (\n",
    "    #     txt_sqrt(np.round(1-float(alpha_coeff), 3)) + txt_ket(0) + '+'\n",
    "    #     + txt_sqrt(alpha_coeff) + txt_ket('\\\\alpha_{'+alpha_coeff+'}')\n",
    "    # )\n",
    "    state_label = name_scs(N1_ALPHA_MAP[alpha_coeff], alpha_coeff, omit05=False)\n",
    "    # Add to plot\n",
    "    ax0.plot(x, FI_data, color=col, label=state_label)\n",
    "    ax0.fill_between(x, mu-sigma, mu+sigma, color=col, alpha=0.3)\n",
    "\n",
    "# plt.axhline(y=2.48575, color='r', linestyle='--')\n",
    "\n",
    "# ax0.axhline(y=SQL_measured, color='orange', label='Measured SQL')\n",
    "# ax0.axhline(y=SQL_ideal, color='red', label='Ideal SQL')\n",
    "# ax0.set_title(\"Fisher Information for $n = 1$\")\n",
    "ax0.set_xlim([0, 1.2])\n",
    "ax0.set_ylim([-1, 12.5])\n",
    "# ax0.set_ylim([0,2])\n",
    "# ax0.set_title(\"Fisher Information for $n = 1$\")\n",
    "# ax0.set_xlabel(\"Displacement\")\n",
    "# ax0.set_ylabel(\"Fisher Information\")\n",
    "ax0.legend()\n",
    "tick_start = 0\n",
    "tick_end = 1.5\n",
    "tick_step = 0.3\n",
    "ax0.set_xticks(np.arange(tick_start, tick_end, tick_step))\n",
    "\n",
    "plt.savefig('sfig4a.pdf')"
   ]
  },
  {
   "cell_type": "markdown",
   "metadata": {},
   "source": [
    "### Same $\\alpha$"
   ]
  },
  {
   "cell_type": "code",
   "execution_count": null,
   "metadata": {},
   "outputs": [
    {
     "data": {
      "application/vnd.jupyter.widget-view+json": {
       "model_id": "9fe903b8b9bb44e291fb46663d7fa0eb",
       "version_major": 2,
       "version_minor": 0
      },
      "text/plain": [
       "HBox(children=(HTML(value=''), FloatProgress(value=0.0, max=91.0), HTML(value='')))"
      ]
     },
     "metadata": {},
     "output_type": "display_data"
    },
    {
     "name": "stdout",
     "output_type": "stream",
     "text": [
      "\n"
     ]
    },
    {
     "data": {
      "application/vnd.jupyter.widget-view+json": {
       "model_id": "36a1ddfe3e80429cbe9c86b5030ea55f",
       "version_major": 2,
       "version_minor": 0
      },
      "text/plain": [
       "HBox(children=(HTML(value=''), FloatProgress(value=0.0, max=91.0), HTML(value='')))"
      ]
     },
     "metadata": {},
     "output_type": "display_data"
    },
    {
     "name": "stdout",
     "output_type": "stream",
     "text": [
      "\n"
     ]
    },
    {
     "data": {
      "application/vnd.jupyter.widget-view+json": {
       "model_id": "11d0df809c1d4dc39dbb098d6888d80e",
       "version_major": 2,
       "version_minor": 0
      },
      "text/plain": [
       "HBox(children=(HTML(value=''), FloatProgress(value=0.0, max=91.0), HTML(value='')))"
      ]
     },
     "metadata": {},
     "output_type": "display_data"
    },
    {
     "name": "stdout",
     "output_type": "stream",
     "text": [
      "\n"
     ]
    },
    {
     "data": {
      "image/png": "[encoded data removed]",
      "text/plain": [
       "<Figure size 226.772x99.2127 with 1 Axes>"
      ]
     },
     "metadata": {
      "needs_background": "light"
     },
     "output_type": "display_data"
    }
   ],
   "source": [
    "n1_cat_data = {\n",
    "    # '0.119': load_experimental_data('ae/data/2023-11-14_0119alpha16.h5', THRESHOLDS['2023-11-14'], amplitude=True),\n",
    "    '0.272': load_experimental_data('ae/data/2023-11-14_0272alpha16.h5', THRESHOLDS['2023-11-14'], amplitude=True),\n",
    "    '0.5': load_experimental_data('ae/data/2023-11-14_alpha16.h5', THRESHOLDS['2023-11-14'], amplitude=True),\n",
    "    # '0.655': load_experimental_data('ae/data/2023-11-14_0655alpha16.h5', THRESHOLDS['2023-11-14'], amplitude=True),\n",
    "    '0.82': load_experimental_data('ae/data/2023-11-14_082alpha16.h5', THRESHOLDS['2023-11-14'], amplitude=True),\n",
    "}\n",
    "\n",
    "SQL_ideal = 4*compute_photon_number(1.6)\n",
    "SQL_measured = MEASURED_SQL_v['1.6']\n",
    "# fig = make_figure(width=4, height=4, font_size=8)\n",
    "# ax0 = fig.add_subplot(111)\n",
    "fig, ax0 = plt.subplots(figsize =(8*cm, 3.5*cm))\n",
    "\n",
    "\n",
    "for alpha_coeff in list(n1_cat_data.keys()):\n",
    "    data = n1_cat_data[alpha_coeff]\n",
    "    pe = data.y\n",
    "    phase = data.x\n",
    "\n",
    "    up_lim = np.max(phase) if (np.max(phase) < 3) else 3\n",
    "    x = np.linspace(np.max([np.min(phase), 0.01]), up_lim, 2000)\n",
    "\n",
    "    if alpha_coeff == '0.119':\n",
    "        order = 5\n",
    "        col = 'saddlebrown'# 'tab:orange'\n",
    "    elif alpha_coeff == '0.272':\n",
    "        order = 7\n",
    "        col = 'saddlebrown'# 'tab:orange'\n",
    "    elif alpha_coeff == '0.5':\n",
    "        order = 5 #POLYFIT_ORDER['1.6']\n",
    "        col = 'tab:blue'\n",
    "    elif alpha_coeff == '0.655':\n",
    "        order = 6\n",
    "    elif alpha_coeff == '0.82':\n",
    "        col = 'teal'#'tab:green'\n",
    "        order = 6\n",
    "    else:\n",
    "        order = 4\n",
    "\n",
    "    data_fit = np.polyfit(phase[phase < up_lim], pe[phase < up_lim], order)\n",
    "    y_fit = np.poly1d(data_fit)(x)\n",
    "    FI_data = compute_FI(y_fit, x[1] - x[0])\n",
    "    mu, sigma = compute_many_FI_error(data, x, order, up_lim, 100)\n",
    "\n",
    "    # Label state (1-x)|0> + x|alpha>\n",
    "    # state_label = (\n",
    "    #     txt_sqrt(np.round(1-float(alpha_coeff), 3)) + txt_ket(0) + '+'\n",
    "    #     + txt_sqrt(alpha_coeff) + txt_ket('\\\\alpha = 1.6')\n",
    "    # )\n",
    "    state_label = name_scs(1.6, alpha_coeff, omit05=False)\n",
    "    # Add to plot\n",
    "    ax0.plot(x, FI_data, color=col, label=state_label)\n",
    "    ax0.fill_between(x, mu-sigma, mu+sigma, color=col, alpha=0.3)\n",
    "plt.axhline(y=2.48575, color='r', linestyle='--')\n",
    "# ax0.set_title(r\"Fisher Information for $\\alpha = 1.6$\")\n",
    "# ax0.set_xlabel(\"Displacement\")\n",
    "# ax0.set_ylabel(\"Fisher information\")\n",
    "ax0.set_xlim([0,1.2])\n",
    "ax0.set_ylim([-1,12.5])\n",
    "tick_start = 0\n",
    "tick_end = 1.5\n",
    "tick_step = 0.3\n",
    "ax0.set_xticks(np.arange(tick_start, tick_end, tick_step))\n",
    "ax0.legend()\n",
    "plt.savefig('sfig4b.pdf')"
   ]
  },
  {
   "cell_type": "markdown",
   "metadata": {},
   "source": [
    "# Bootstrapping"
   ]
  },
  {
   "cell_type": "markdown",
   "metadata": {},
   "source": [
    "IMPORTANT: Bootrapped std is sistematically underestimated. A straight forward way to correct for this is called \"balanced bootstrap\" and consists of shifting the sampled distribution so that its mean coincides with the observed mean."
   ]
  },
  {
   "cell_type": "code",
   "execution_count": null,
   "metadata": {},
   "outputs": [],
   "source": [
    "from numpy import sum\n",
    "from numpy.random import choice\n",
    "\n",
    "\n",
    "def bootstrap(arr: np.array, n_boot: int = 1000) -> np.array:\n",
    "    length = len(arr)\n",
    "    # Mean of the observed data\n",
    "    mu_obs = np.mean(arr)\n",
    "    # Mean of the boostrapped samples\n",
    "    mu_boot = np.zeros(n_boot)\n",
    "    for i in range(n_boot):\n",
    "        # Choose random indexes and sample arr\n",
    "        idx = choice(length, size=length, replace=True)\n",
    "        samples = arr[idx]\n",
    "        # Estimate mean\n",
    "        mu_boot[i] = np.mean(samples)\n",
    "    # Account for std estimation bias by shifting the distribution to the observed mean\n",
    "    mu = np.mean(mu_boot)\n",
    "    mu_boot += mu_obs - mu\n",
    "    # Estimate std\n",
    "    sigma = np.std(mu_boot)\n",
    "    return mu, sigma, mu_boot"
   ]
  },
  {
   "cell_type": "code",
   "execution_count": null,
   "metadata": {},
   "outputs": [
    {
     "data": {
      "application/vnd.jupyter.widget-view+json": {
       "model_id": "cfafdc6682c54163915b0349d3c7f35d",
       "version_major": 2,
       "version_minor": 0
      },
      "text/plain": [
       "HBox(children=(HTML(value=''), FloatProgress(value=0.0, max=151.0), HTML(value='')))"
      ]
     },
     "metadata": {},
     "output_type": "display_data"
    },
    {
     "name": "stdout",
     "output_type": "stream",
     "text": [
      "\n"
     ]
    },
    {
     "ename": "ValueError",
     "evalue": "too many values to unpack (expected 2)",
     "output_type": "error",
     "traceback": [
      "\u001b[0;31m---------------------------------------------------------------------------\u001b[0m",
      "\u001b[0;31mValueError\u001b[0m                                Traceback (most recent call last)",
      "\u001b[0;32m<ipython-input-30-8c70fabcb104>\u001b[0m in \u001b[0;36m<module>\u001b[0;34m\u001b[0m\n\u001b[1;32m      7\u001b[0m \u001b[0;32mfor\u001b[0m \u001b[0mi\u001b[0m \u001b[0;32min\u001b[0m \u001b[0mtqdm\u001b[0m\u001b[0;34m(\u001b[0m\u001b[0mrange\u001b[0m\u001b[0;34m(\u001b[0m\u001b[0mdata\u001b[0m\u001b[0;34m.\u001b[0m\u001b[0mm1\u001b[0m\u001b[0;34m.\u001b[0m\u001b[0mshape\u001b[0m\u001b[0;34m[\u001b[0m\u001b[0;36m1\u001b[0m\u001b[0;34m]\u001b[0m\u001b[0;34m)\u001b[0m\u001b[0;34m)\u001b[0m\u001b[0;34m:\u001b[0m\u001b[0;34m\u001b[0m\u001b[0;34m\u001b[0m\u001b[0m\n\u001b[1;32m      8\u001b[0m     \u001b[0md\u001b[0m \u001b[0;34m=\u001b[0m \u001b[0mnp\u001b[0m\u001b[0;34m.\u001b[0m\u001b[0marray\u001b[0m\u001b[0;34m(\u001b[0m\u001b[0mdata\u001b[0m\u001b[0;34m.\u001b[0m\u001b[0mm1\u001b[0m\u001b[0;34m[\u001b[0m\u001b[0;34m:\u001b[0m\u001b[0;34m,\u001b[0m\u001b[0mi\u001b[0m\u001b[0;34m]\u001b[0m\u001b[0;34m,\u001b[0m \u001b[0mdtype\u001b[0m\u001b[0;34m=\u001b[0m\u001b[0mfloat\u001b[0m\u001b[0;34m)\u001b[0m\u001b[0;34m\u001b[0m\u001b[0;34m\u001b[0m\u001b[0m\n\u001b[0;32m----> 9\u001b[0;31m     \u001b[0mmu\u001b[0m\u001b[0;34m[\u001b[0m\u001b[0mi\u001b[0m\u001b[0;34m]\u001b[0m\u001b[0;34m,\u001b[0m \u001b[0msigma\u001b[0m\u001b[0;34m[\u001b[0m\u001b[0mi\u001b[0m\u001b[0;34m]\u001b[0m \u001b[0;34m=\u001b[0m \u001b[0mbootstrap\u001b[0m\u001b[0;34m(\u001b[0m\u001b[0md\u001b[0m\u001b[0;34m,\u001b[0m \u001b[0;36m100\u001b[0m\u001b[0;34m)\u001b[0m\u001b[0;34m\u001b[0m\u001b[0;34m\u001b[0m\u001b[0m\n\u001b[0m\u001b[1;32m     10\u001b[0m \u001b[0;34m\u001b[0m\u001b[0m\n\u001b[1;32m     11\u001b[0m \u001b[0mplt\u001b[0m\u001b[0;34m.\u001b[0m\u001b[0merrorbar\u001b[0m\u001b[0;34m(\u001b[0m\u001b[0mdata\u001b[0m\u001b[0;34m.\u001b[0m\u001b[0mx\u001b[0m\u001b[0;34m,\u001b[0m \u001b[0mmu\u001b[0m\u001b[0;34m,\u001b[0m \u001b[0myerr\u001b[0m\u001b[0;34m=\u001b[0m\u001b[0msigma\u001b[0m\u001b[0;34m,\u001b[0m \u001b[0mfmt\u001b[0m\u001b[0;34m=\u001b[0m\u001b[0;34m'o'\u001b[0m\u001b[0;34m,\u001b[0m \u001b[0mcapsize\u001b[0m\u001b[0;34m=\u001b[0m\u001b[0;36m5\u001b[0m\u001b[0;34m,\u001b[0m \u001b[0mlabel\u001b[0m\u001b[0;34m=\u001b[0m\u001b[0;34m'Data with Error Bars'\u001b[0m\u001b[0;34m)\u001b[0m\u001b[0;34m\u001b[0m\u001b[0;34m\u001b[0m\u001b[0m\n",
      "\u001b[0;31mValueError\u001b[0m: too many values to unpack (expected 2)"
     ]
    }
   ],
   "source": [
    "data = load_experimental_data('ae/data/2023-11-16_alpha2_d0j.h5', THRESHOLDS['2023-11-13'], amplitude=True)\n",
    "\n",
    "# repetitions: shape[0]\n",
    "# x-axis: shape[1]\n",
    "mu = np.zeros(data.m1.shape[1])\n",
    "sigma = np.zeros(data.m1.shape[1])\n",
    "for i in tqdm(range(data.m1.shape[1])):\n",
    "    d = np.array(data.m1[:,i], dtype=float)\n",
    "    mu[i], sigma[i] = bootstrap(d, 100)\n",
    "\n",
    "plt.errorbar(data.x, mu, yerr=sigma, fmt='o', capsize=5, label='Data with Error Bars')"
   ]
  },
  {
   "cell_type": "code",
   "execution_count": null,
   "metadata": {},
   "outputs": [
    {
     "data": {
      "application/vnd.jupyter.widget-view+json": {
       "model_id": "cbdef342f6284618b2444fd56ae6765d",
       "version_major": 2,
       "version_minor": 0
      },
      "text/plain": [
       "  0%|          | 0/151 [00:00<?, ?it/s]"
      ]
     },
     "metadata": {},
     "output_type": "display_data"
    },
    {
     "data": {
      "text/plain": [
       "<ErrorbarContainer object of 3 artists>"
      ]
     },
     "execution_count": 107,
     "metadata": {},
     "output_type": "execute_result"
    },
    {
     "data": {
      "image/png": "[encoded data removed]",
      "text/plain": [
       "<Figure size 640x480 with 1 Axes>"
      ]
     },
     "metadata": {},
     "output_type": "display_data"
    }
   ],
   "source": [
    "data = load_experimental_data(\n",
    "    'ae/data/2023-11-16_alpha2_d0j.h5', THRESHOLDS['2023-11-13'], amplitude=True)\n",
    "\n",
    "n_boot = 100\n",
    "x_len = len(data.x)\n",
    "# repetitions: shape[0]\n",
    "# x-axis: shape[1]\n",
    "mu_g = np.zeros(x_len)\n",
    "mu_gvac = np.zeros(x_len)\n",
    "sigma_tot = np.zeros(x_len)\n",
    "for i in tqdm(range(x_len)):\n",
    "    # First measurement, g\n",
    "    nan_mask_g = np.isnan(data.m1[:,i])\n",
    "    mu_g[i], _, mu_boot_g = bootstrap(data.m1[~nan_mask_g, i], 100)\n",
    "\n",
    "    # Second measurement, g vac\n",
    "    nan_mask_gvac = np.isnan(data.y_raw[:, i])\n",
    "    mu_gvac[i], _, mu_boot_gvac = bootstrap(data.y_raw[~nan_mask_gvac, i], 100)\n",
    "\n",
    "    # Find variance\n",
    "    cov1 = np.cov(mu_boot_g, mu_boot_gvac)[0, 1]\n",
    "    cov2 = np.cov(mu_boot_g**2, mu_boot_gvac**2)[0, 1]\n",
    "    sigma_tot[i] = (\n",
    "        cov2 + np.mean(mu_boot_g**2)*np.mean(mu_boot_gvac**2) -\n",
    "        (cov1+np.mean(mu_boot_g)*np.mean(mu_boot_gvac))**2\n",
    "    )\n",
    "\n",
    "plt.errorbar(data.x, mu_g*mu_gvac, yerr=sigma_tot, fmt='o',\n",
    "             capsize=5, label='Data with Error Bars')"
   ]
  },
  {
   "cell_type": "markdown",
   "metadata": {},
   "source": [
    "Error bar for probability"
   ]
  },
  {
   "cell_type": "code",
   "execution_count": null,
   "metadata": {},
   "outputs": [
    {
     "data": {
      "application/vnd.jupyter.widget-view+json": {
       "model_id": "33fae43f00c34c3bb59476289213be92",
       "version_major": 2,
       "version_minor": 0
      },
      "text/plain": [
       "  0%|          | 0/91 [00:00<?, ?it/s]"
      ]
     },
     "metadata": {},
     "output_type": "display_data"
    },
    {
     "data": {
      "text/plain": [
       "[<matplotlib.lines.Line2D at 0x1a866414520>]"
      ]
     },
     "execution_count": 149,
     "metadata": {},
     "output_type": "execute_result"
    },
    {
     "data": {
      "image/png": "[encoded data removed]",
      "text/plain": [
       "<Figure size 1000x300 with 1 Axes>"
      ]
     },
     "metadata": {},
     "output_type": "display_data"
    }
   ],
   "source": [
    "data = load_experimental_data('ae/data/2023-11-13_alpha15v.h5', THRESHOLDS['2023-11-13'], amplitude=True)\n",
    "\n",
    "n_boot = 100\n",
    "x_len = len(data.x)\n",
    "# repetitions: shape[0]\n",
    "# x-axis: shape[1]\n",
    "mu_boot_g = np.zeros([n_boot, x_len])\n",
    "mu_boot_gvac = np.zeros([n_boot, x_len])\n",
    "sigma_tot = np.zeros(x_len)\n",
    "for i in tqdm(range(x_len)):\n",
    "    # First measurement, g\n",
    "    _, _, mu_boot_g[:,i] = bootstrap(data.m1[:, i], n_boot)\n",
    "\n",
    "    # Second measurement, g vac\n",
    "    _, _, mu_boot_gvac[:, i] = bootstrap(data.y_raw[:, i], n_boot)\n",
    "\n",
    "    # Find variance\n",
    "    mu_boot_e = 1-mu_boot_g[:, i]\n",
    "    cov1 = np.cov(mu_boot_e, mu_boot_gvac[:, i])[0, 1]\n",
    "    cov2 = np.cov(mu_boot_e**2, mu_boot_gvac[:, i]**2)[0, 1]\n",
    "    sigma_tot[i] = np.sqrt(\n",
    "        cov2 + np.mean(mu_boot_e**2)*np.mean(mu_boot_gvac[:, i]**2) -\n",
    "        (cov1+np.mean(mu_boot_e)*np.mean(mu_boot_gvac[:, i]))**2\n",
    "    )\n",
    "\n",
    "mu = np.mean(1-mu_boot_g, 0) * np.mean(mu_boot_gvac, 0)\n",
    "plt.figure(figsize=(10,3))\n",
    "plt.errorbar(data.x, mu, yerr=sigma_tot, fmt='.', capsize=3, ecolor='black')\n",
    "plt.plot(data.x, data.y)"
   ]
  },
  {
   "cell_type": "markdown",
   "metadata": {},
   "source": [
    "Error bar for FI computing many FIs"
   ]
  },
  {
   "cell_type": "code",
   "execution_count": null,
   "metadata": {},
   "outputs": [
    {
     "data": {
      "application/vnd.jupyter.widget-view+json": {
       "model_id": "60e00acdc3564077bec76775df9c4e23",
       "version_major": 2,
       "version_minor": 0
      },
      "text/plain": [
       "  0%|          | 0/91 [00:00<?, ?it/s]"
      ]
     },
     "metadata": {},
     "output_type": "display_data"
    },
    {
     "data": {
      "application/vnd.jupyter.widget-view+json": {
       "model_id": "5a084fa711714470b89fc2853556bab7",
       "version_major": 2,
       "version_minor": 0
      },
      "text/plain": [
       "  0%|          | 0/1000 [00:00<?, ?it/s]"
      ]
     },
     "metadata": {},
     "output_type": "display_data"
    },
    {
     "data": {
      "text/plain": [
       "[<matplotlib.lines.Line2D at 0x1a871c64460>]"
      ]
     },
     "execution_count": 193,
     "metadata": {},
     "output_type": "execute_result"
    },
    {
     "data": {
      "image/png": "[encoded data removed]",
      "text/plain": [
       "<Figure size 1000x300 with 1 Axes>"
      ]
     },
     "metadata": {},
     "output_type": "display_data"
    },
    {
     "data": {
      "image/png": "[encoded data removed]",
      "text/plain": [
       "<Figure size 1000x300 with 1 Axes>"
      ]
     },
     "metadata": {},
     "output_type": "display_data"
    }
   ],
   "source": [
    "alpha = 2\n",
    "data = load_experimental_data('ae/data/2023-11-13_alpha2v.h5', THRESHOLDS['2023-11-13'], amplitude=True)\n",
    "\n",
    "n_boot = 1000\n",
    "x_len = len(data.x)\n",
    "# repetitions: shape[0]\n",
    "# x-axis: shape[1]\n",
    "mu_boot_g = np.zeros([n_boot, x_len])\n",
    "mu_boot_gvac = np.zeros([n_boot, x_len])\n",
    "sigma_tot = np.zeros(x_len)\n",
    "for i in tqdm(range(x_len)):\n",
    "    # First measurement, g\n",
    "    _, _, mu_boot_g[:,i] = bootstrap(data.m1[:, i], n_boot)\n",
    "\n",
    "    # Second measurement, g vac\n",
    "    _, _, mu_boot_gvac[:, i] = bootstrap(data.y_raw[:, i], n_boot)\n",
    "\n",
    "\n",
    "up_lim_v = np.max(data.x)\n",
    "x_dense = np.linspace(min(d_list), up_lim_v, 2000)\n",
    "x = x_dense[(x_dense > 0.02)]\n",
    "FIs = np.zeros([n_boot, len(x)])\n",
    "for i in tqdm(range(n_boot)):\n",
    "    mu = (1-mu_boot_g[i,:]) * mu_boot_gvac[i,:]\n",
    "\n",
    "    data_fit_v = np.polyfit(data.x, mu, POLYFIT_ORDER[str(alpha)])\n",
    "\n",
    "    # Fisher information\n",
    "    y_fit = np.poly1d(data_fit_v)(x)\n",
    "    FIs[i,:] = compute_FI(y_fit, x[1] - x[0])\n",
    "\n",
    "plt.figure(figsize=(10,3))\n",
    "plt.errorbar(x, np.mean(FIs, axis=0), yerr=np.std(FIs, axis=0), fmt='-', capsize=3, ecolor='black')\n",
    "\n",
    "plt.figure(figsize=(10,3))\n",
    "FI = np.mean(FIs, axis=0)\n",
    "sFI = np.std(FIs, axis=0)\n",
    "plt.fill_between(x, FI-sFI, FI+sFI, alpha=0.4)\n",
    "plt.plot(x, FI)"
   ]
  },
  {
   "cell_type": "code",
   "execution_count": null,
   "metadata": {},
   "outputs": [
    {
     "data": {
      "text/plain": [
       "[<matplotlib.lines.Line2D at 0x1a86e844e80>]"
      ]
     },
     "execution_count": 180,
     "metadata": {},
     "output_type": "execute_result"
    },
    {
     "data": {
      "image/png": "[encoded data removed]",
      "text/plain": [
       "<Figure size 640x480 with 1 Axes>"
      ]
     },
     "metadata": {},
     "output_type": "display_data"
    }
   ],
   "source": [
    "FI = np.mean(FIs, axis=0)\n",
    "sFI = np.std(FIs, axis=0)\n",
    "plt.fill_between(x, FI-sFI, FI+sFI, alpha = 0.4)\n",
    "plt.plot(x,FI)"
   ]
  },
  {
   "cell_type": "code",
   "execution_count": null,
   "metadata": {},
   "outputs": [
    {
     "data": {
      "application/vnd.jupyter.widget-view+json": {
       "model_id": "87cb6b4cfd634b90a2345c75c2621fc6",
       "version_major": 2,
       "version_minor": 0
      },
      "text/plain": [
       "  0%|          | 0/181 [00:00<?, ?it/s]"
      ]
     },
     "metadata": {},
     "output_type": "display_data"
    },
    {
     "data": {
      "text/plain": [
       "1.599799899949975"
      ]
     },
     "execution_count": 27,
     "metadata": {},
     "output_type": "execute_result"
    },
    {
     "data": {
      "image/png": "[encoded data removed]",
      "text/plain": [
       "<Figure size 708.661x314.961 with 1 Axes>"
      ]
     },
     "metadata": {},
     "output_type": "display_data"
    }
   ],
   "source": [
    "data_list = {\n",
    "    # 'c2': load_experimental_data('ae/data/2023-11-13_c2.h5', THRESHOLDS['2023-11-13'], amplitude=True),\n",
    "    # 'h2': load_experimental_data('ae/data/2023-11-21_alpha2h.h5', THRESHOLDS['2023-11-13'], amplitude=True),\n",
    "    '2': load_experimental_data('ae/data/2023-11-24_alpha2v.h5', THRESHOLDS['2023-11-13'], amplitude=True),\n",
    "}\n",
    "\n",
    "sim_list = {\n",
    "    '2': 'ae/sim/g_0_plus_alpha2_all.npz',\n",
    "    'c2': 'ae/sim/g_alpha1327_all.npz',\n",
    "    'h2': 'ae/sim/g_0_plus_alpha2_all_h.npz',\n",
    "}\n",
    "\n",
    "colors = {\n",
    "    # 'c2': ['tab:purple', 'tab:pink'],\n",
    "    # '2': ['tab:blue', 'tab:cyan'],\n",
    "    'c2': ['tab:purple', 'tab:purple'],\n",
    "    '2': ['tab:blue', 'tab:blue'],\n",
    "    'h2': ['tab:gray', 'tab:brown']\n",
    "}\n",
    "\n",
    "fig = make_figure()\n",
    "ax0 = fig.add_subplot(111)\n",
    "\n",
    "for name in list(data_list.keys()):\n",
    "    data = data_list[name]\n",
    "    pe = data.y\n",
    "    phase = data.x\n",
    "\n",
    "    up_lim = 1.6  # if float(alpha) > 1 else np.max(data.x) - 0.1\n",
    "    x = np.linspace(-1, up_lim, 2000)\n",
    "\n",
    "    if name[0] == 'c':\n",
    "        order = 5\n",
    "    elif name[0] == 'h':\n",
    "        order = 6\n",
    "    elif name == '2':\n",
    "        order = 12\n",
    "    else:\n",
    "        order = POLYFIT_ORDER[name]\n",
    "    # Data\n",
    "    data_fit = np.polyfit(phase[phase < up_lim], pe[phase < up_lim], order)\n",
    "    y_fit = np.poly1d(data_fit)(x)\n",
    "    FI_data = compute_FI(y_fit, x[1] - x[0])\n",
    "\n",
    "    # Simulation\n",
    "    if not (name in sim_list):\n",
    "        continue\n",
    "    sim = np.load(sim_list[name], 'r')\n",
    "    phase_sim = sim['x']\n",
    "    pe_sim = sim['probability_sim']\n",
    "    if name[0] == 'h':\n",
    "        phase_sim = phase_sim * 1j*1j*1j\n",
    "    x_sim = phase_sim[phase_sim <= max(x)]\n",
    "    y_sim = pe_sim[phase_sim <= max(x)]\n",
    "    FI_sim = compute_FI(y_sim, x_sim[1]-x_sim[0])\n",
    "\n",
    "    mu, sigma = compute_many_FI_error(data, x, order, up_lim, 100)\n",
    "\n",
    "    # Add plots\n",
    "    if colors[name]:\n",
    "        col = colors[name]\n",
    "    else:\n",
    "        col = [None, None]\n",
    "\n",
    "    if name[0] == '2':\n",
    "        lab = 'v ' + name_scs(2)  # + txt_ket(0) + '+' + txt_ket(r\"\\alpha = 2\")\n",
    "    elif name[0] == 'c':\n",
    "        lab = name_scs(COH_MAP['2'])  # 'classical'\n",
    "    elif name[0] == 'h':\n",
    "        lab = 'h ' + name_scs(2)  # + txt_ket(0) + '+' + txt_ket(r\"\\alpha = 2\")\n",
    "    ax0.plot(x_sim, FI_sim, '--', markersize=3, color=col[1])\n",
    "    ax0.plot(x, FI_data, color=col[0], label=lab)\n",
    "    ax0.fill_between(x, mu-sigma, mu+sigma, color=col[0], alpha=0.3)\n",
    "\n",
    "ax0.set_xlim([-1, 1.4])\n",
    "ax0.set_ylim([-0.1, 15])\n",
    "# ax0.set_title(\"Fisher Information for $n = 1$\")\n",
    "ax0.set_xlabel(\"Displacement\")\n",
    "ax0.set_ylabel(\"Fisher Information\")\n",
    "ax0.legend()\n",
    "\n",
    "\n",
    "m, a, b, mx = extract_FI_params(x, y_fit, MEASURED_SQL_v['2'])\n",
    "b"
   ]
  },
  {
   "cell_type": "code",
   "execution_count": null,
   "metadata": {},
   "outputs": [
    {
     "data": {
      "application/vnd.jupyter.widget-view+json": {
       "model_id": "4f5c510f81704f2b849bd1d8075831b4",
       "version_major": 2,
       "version_minor": 0
      },
      "text/plain": [
       "HBox(children=(HTML(value=''), FloatProgress(value=0.0, max=151.0), HTML(value='')))"
      ]
     },
     "metadata": {},
     "output_type": "display_data"
    },
    {
     "name": "stdout",
     "output_type": "stream",
     "text": [
      "\n",
      "  max:  4.709 --> 1.822\n",
      "  average: 3.983 --> 1.541\n",
      "  bandwitdth: 0.766\n",
      "\n"
     ]
    },
    {
     "data": {
      "application/vnd.jupyter.widget-view+json": {
       "model_id": "2d324aab961541dca3c46ace337bbfb2",
       "version_major": 2,
       "version_minor": 0
      },
      "text/plain": [
       "HBox(children=(HTML(value=''), FloatProgress(value=0.0, max=151.0), HTML(value='')))"
      ]
     },
     "metadata": {},
     "output_type": "display_data"
    },
    {
     "name": "stdout",
     "output_type": "stream",
     "text": [
      "\n",
      "  max:  1.676 --> 0.648\n",
      "\n"
     ]
    },
    {
     "data": {
      "application/vnd.jupyter.widget-view+json": {
       "model_id": "d6d691fef500457683b04d71895fd120",
       "version_major": 2,
       "version_minor": 0
      },
      "text/plain": [
       "HBox(children=(HTML(value=''), FloatProgress(value=0.0, max=151.0), HTML(value='')))"
      ]
     },
     "metadata": {},
     "output_type": "display_data"
    },
    {
     "name": "stdout",
     "output_type": "stream",
     "text": [
      "\n",
      "  max:  528.599 --> 204.514\n",
      "  average: 7.166 --> 2.772\n",
      "  bandwitdth: 1.419\n",
      "\n"
     ]
    },
    {
     "data": {
      "application/vnd.jupyter.widget-view+json": {
       "model_id": "dcf9fe0a044e4a5497d7fe0f634e9311",
       "version_major": 2,
       "version_minor": 0
      },
      "text/plain": [
       "HBox(children=(HTML(value=''), FloatProgress(value=0.0, max=151.0), HTML(value='')))"
      ]
     },
     "metadata": {},
     "output_type": "display_data"
    },
    {
     "name": "stdout",
     "output_type": "stream",
     "text": [
      "\n",
      "  max:  2.727 --> 1.055\n",
      "  average: 2.679 --> 1.037\n",
      "  bandwitdth: 0.274\n",
      "\n"
     ]
    },
    {
     "data": {
      "image/png": "[encoded data removed]",
      "text/plain": [
       "<Figure size 226.772x99.2127 with 1 Axes>"
      ]
     },
     "metadata": {
      "needs_background": "light"
     },
     "output_type": "display_data"
    }
   ],
   "source": [
    "n1_cat_data = {\n",
    "    'cat_1216': load_experimental_data('ae/data/2023-12-06_g_alpha1216_v.h5', THRESHOLDS['2023-12-06'], amplitude=True),\n",
    "    'fock_1': load_experimental_data('ae/data/2023-12-06_g_fock1_v.h5', THRESHOLDS['2023-12-06'], amplitude=True),\n",
    "    'sqvac_0659': load_experimental_data('ae/data/2023-12-06_g_sqvac_h.h5', THRESHOLDS['2023-12-06'], amplitude=True),\n",
    "    'c0707': load_experimental_data('ae/data/2023-12-06_g_c0707_v.h5', THRESHOLDS['2023-12-06'], amplitude=True),\n",
    "    }\n",
    "\n",
    "SQL_ideal = 4*compute_photon_number(1.6)\n",
    "SQL_measured = MEASURED_SQL_v['1.6']\n",
    "\n",
    "\n",
    "# fig1 = make_figure()\n",
    "# ax1 = fig1.add_subplot(111)\n",
    "\n",
    "# fig2 = make_figure(width=4, height=4, font_size=8)\n",
    "# ax2 = fig2.add_subplot(111)\n",
    "\n",
    "cm = 0.393701\n",
    "fig, ax2 = plt.subplots(figsize =(8*cm, 3.5*cm))\n",
    "# fig, ax2 = plt.subplots(figsize =(3.5*cm, 3.5*cm))\n",
    "\n",
    "for state in list(n1_cat_data.keys()):\n",
    "    data = n1_cat_data[state]\n",
    "    pe = data.y\n",
    "    phase = data.x\n",
    "\n",
    "    up_lim = np.max(phase) if (np.max(phase) < 3) else 3\n",
    "    x = np.linspace(np.max([np.min(phase), 0.01]), up_lim, 2000)\n",
    "\n",
    "    if state == 'cat_1216':\n",
    "        order = 8\n",
    "    elif state == 'fock_1':\n",
    "        order = 5\n",
    "    elif state == 'sqvac_0659':\n",
    "        order = 13\n",
    "    else:\n",
    "        order = 10\n",
    "\n",
    "    data_fit = np.polyfit(phase[phase < up_lim], pe[phase < up_lim], order)\n",
    "    y_fit = np.poly1d(data_fit)(x)\n",
    "    FI_data = compute_FI(y_fit, x[1] - x[0])\n",
    "    mu, sigma = compute_many_FI_error(data, x, order, up_lim, 100)\n",
    "\n",
    "    # Label state (1-x)|0> + x|alpha>\n",
    "    state_label = state\n",
    "    # Add to plot\n",
    "    # ax1.plot(phase, pe, \".-\", label=state_label)\n",
    "\n",
    "    # label=f'Fit {alphaCoeff}' + r'$|0\\rangle$+' + f'{np.round(1-float(alphaCoeff),1)}' + r'$|\\alpha\\rangle$'\n",
    "    # ax1.plot(x, y_fit)\n",
    "    ax2.plot(x[x<1.2], FI_data[x<1.2], label=state_label)\n",
    "    ax2.fill_between(x[x<1.2], mu[x<1.2]-sigma[x<1.2], mu[x<1.2]+sigma[x<1.2], alpha=0.3)\n",
    "\n",
    "    # print(f'{np.round(1-float(alpha_coeff),1)} |0> + {alpha_coeff} |alpha>')\n",
    "    print_FI(x, FI_data, SQL_measured, ' ')\n",
    "    print('')\n",
    "\n",
    "    \n",
    "\n",
    "    # np.savez(f'processed/phase_unbalanced_{alpha_coeff}.npz',\n",
    "    #     # Data\n",
    "    #     x_data=phase,\n",
    "    #     y_data=data.y,\n",
    "    #     x_fit=x,\n",
    "    #     y_fit=y_fit,\n",
    "    #     FI_data=FI_data\n",
    "    # )\n",
    "\n",
    "# ax1.legend()\n",
    "# ax1.set_xlabel(\"Displacement\")\n",
    "# ax1.set_ylabel(r'$P_{|g0\\rangle}$')\n",
    "# ax1.set_title(r'Phase estimation for $\\alpha = 1.6$')\n",
    "\n",
    "# ax2.axhline(y=SQL_measured, color='orange', label='Measured SQL')\n",
    "# ax2.axhline(y=SQL_ideal, color='red', label='Ideal SQL')\n",
    "# ax2.set_title(r\"Fisher Information for $\\alpha = 1.6$\")\n",
    "# ax2.set_xlabel(\"Displacement\")\n",
    "# ax2.set_ylabel(\"Fisher information\")\n",
    "ax2.legend()\n",
    "tick_start = 0\n",
    "tick_end = 1.5\n",
    "tick_step = 0.3\n",
    "ax2.set_xticks(np.arange(tick_start, tick_end, tick_step))\n",
    "ax2.set_ylim(-1,12)\n",
    "ax2.set_xlim(0, 1.2)\n",
    "plt.savefig('sfig2b.pdf')"
   ]
  },
  {
   "cell_type": "code",
   "execution_count": null,
   "metadata": {},
   "outputs": [
    {
     "name": "stdout",
     "output_type": "stream",
     "text": [
      "[0.001092058796684168, 0.005623556550089184, 0.01270808100036272, 0.020216487686300227, 0.01594309922798177, 0.018207996609708177, 0.012702614467204922, 0.013288142886084424]\n"
     ]
    }
   ],
   "source": [
    "alpha_data_v = {\n",
    "    '0.5': load_experimental_data('ae/data/2023-11-13_alpha05v.h5', THRESHOLDS['2023-11-13'], amplitude=True),\n",
    "    '0.75': load_experimental_data('ae/data/2023-11-14_alpha075v.h5', THRESHOLDS['2023-11-13'], amplitude=True),\n",
    "    '1': load_experimental_data('ae/data/2023-11-13_alpha1v.h5', THRESHOLDS['2023-11-13'], amplitude=True),\n",
    "    '1.25': load_experimental_data('ae/data/2023-11-15_alpha125v.h5', THRESHOLDS['2023-11-15'], amplitude=True),\n",
    "    '1.5': load_experimental_data('ae/data/2023-11-15_alpha15v.h5', THRESHOLDS['2023-11-15'], amplitude=True),\n",
    "    '1.6': load_experimental_data('ae/data/2023-11-14_alpha16.h5', THRESHOLDS['2023-11-14'], amplitude=True),\n",
    "    '1.75': load_experimental_data('ae/data/2023-11-15_alpha175v.h5', THRESHOLDS['2023-11-15'], amplitude=True),\n",
    "    # '2': load_experimental_data('ae/data/2023-11-24_alpha2v.h5', THRESHOLDS['2023-11-13'], amplitude=True),\n",
    "    '2': load_experimental_data('ae/data/2023-11-13_alpha2v.h5', THRESHOLDS['2023-11-13'], amplitude=True),\n",
    "}\n",
    "\n",
    "# cm = 0.393701\n",
    "# fig = plt.subplots(figsize =(8*cm, 5.5*cm))\n",
    "# ax0 = fig.add_subplot(111)\n",
    "n_boot = 100\n",
    "# colors = {\n",
    "#     'SCS': ['tab:blue', 'o'],\n",
    "#     'SQL': ['tab:purple', 'd'],\n",
    "# }\n",
    "difference_SCS=[]\n",
    "for name in alpha_data_v:\n",
    "    data = alpha_data_v[name]\n",
    "    x_len = len(data.x)\n",
    "    mu_boot_g = np.zeros([n_boot, x_len])\n",
    "    mu_boot_g_dp = np.zeros([n_boot, x_len])\n",
    "    mu_boot_gvac = np.zeros([n_boot, x_len])\n",
    "    mu_boot_gvac_dp = np.zeros([n_boot, x_len])\n",
    "    sigma_tot = np.zeros(x_len)\n",
    "\n",
    "    # scs \n",
    "    up_lim = 1.3\n",
    "    x_dense = np.linspace(0, up_lim, 2000)\n",
    "    # data fit\n",
    "    data_fit = np.polyfit(data.x[data.x < up_lim], data.y[data.x < up_lim], POLYFIT_ORDER[name])\n",
    "    y_fit = np.poly1d(data_fit)(x_dense)\n",
    "    FI = compute_FI(y_fit, x_dense[1]-x_dense[0])\n",
    "    # print(len(FI))\n",
    "    # print(max(FI))\n",
    "    # Get the optimal point from fitting data\n",
    "    idx = np.argmax(FI)\n",
    "    # print(idx)\n",
    "    # print(x_dense[idx])\n",
    "    # Index for experimental data\n",
    "    idx_data = np.argmin(np.abs(data.x[data.x < up_lim] - x_dense[idx]))\n",
    "    # print(idx_data)\n",
    "    opt_slope = np.gradient(y_fit, x_dense[1]-x_dense[0])[idx]\n",
    "    \n",
    "    # # Get optimal data\n",
    "    m1 = data.m1\n",
    "    mx_g = data.y_raw\n",
    "    opt_p_g = 1 - m1[:, idx_data]\n",
    "    opt_p_gvac = mx_g[:, idx_data]\n",
    "    var_opt_p = np.var(opt_p_g * opt_p_gvac)\n",
    "\n",
    "    for i in range(x_len):\n",
    "        # First measurement, g\n",
    "        # _, _, mu_boot_g[:,i] = bootstrap(data.m1[:, i], n_boot)\n",
    "        _, _, mu_boot_g[:,i], mu_boot_g_dp[:,i] = bootstrap_dp(data.m1[:, i], n_boot)\n",
    "\n",
    "        # Second measurement, g vac\n",
    "        _, _, mu_boot_gvac[:, i], mu_boot_gvac_dp[:,i] = bootstrap_dp(data.y_raw[:, i], n_boot)\n",
    "        \n",
    "    # mu_g_g_vac_boot = (1-mu_boot_g) * (mu_boot_gvac)\n",
    "    mu_g_g_vac_boot_dp = mu_boot_g_dp * mu_boot_gvac_dp\n",
    "\n",
    "    # opt_p = mu_g_g_vac_boot[idx_data]\n",
    "    # var_p = np.var(opt_p)\n",
    "    # print(var_p)\n",
    "    var_mu_g_g_vac_boot_dp  = np.var( mu_g_g_vac_boot_dp[idx_data] )\n",
    "    \n",
    "   \n",
    "    # # theta difference with and without boostraping \n",
    "\n",
    "    # difference_SCS.append(  np.sqrt(abs(var_p / opt_slope**2 - var_opt_p / opt_slope**2)) )\n",
    "    # difference_SCS.append(  np.sqrt(abs(var_p / opt_slope**2)) )\n",
    "    difference_SCS.append( np.sqrt(var_mu_g_g_vac_boot_dp) )\n",
    " \n",
    "\n",
    "print(difference_SCS)\n",
    "\n",
    "\n",
    "##################################### coherent state ################################\n",
    "\n",
    "coherent_data = {\n",
    "    '0.5': load_experimental_data('ae/data/2023-11-07_c05.h5', THRESHOLDS['2023-11-07'], amplitude=True),\n",
    "    '0.75': load_experimental_data('ae/data/2023-11-14_c075.h5', THRESHOLDS['2023-11-14'], amplitude=True),\n",
    "    '1': load_experimental_data('ae/data/2023-11-13_c1.h5', THRESHOLDS['2023-11-13'], amplitude=True),\n",
    "    '1.25': load_experimental_data('ae/data/2023-11-14_c125.h5', THRESHOLDS['2023-11-14'], amplitude=True),\n",
    "    '1.5': load_experimental_data('ae/data/2023-11-07_c15.h5', THRESHOLDS['2023-11-07'], amplitude=True),\n",
    "    '1.6': load_experimental_data('ae/data/2023-11-15_c16.h5', THRESHOLDS['2023-11-15'], amplitude=True),\n",
    "    '1.75': load_experimental_data('ae/data/2023-11-14_c175.h5', THRESHOLDS['2023-11-14'], amplitude=True),\n",
    "    '2': load_experimental_data('ae/data/2023-11-07_c2.h5', THRESHOLDS['2023-11-07'], amplitude=True),\n",
    "}\n",
    "\n",
    "# cm = 0.393701\n",
    "# fig = plt.subplots(figsize =(8*cm, 5.5*cm))\n",
    "# # ax0 = fig.add_subplot(111)\n",
    "n_boot = 100\n",
    "# colors = {\n",
    "#     'SCS': ['tab:blue', 'o'],\n",
    "#     'SQL': ['tab:purple', 'd'],\n",
    "# }\n",
    "difference_coh=[]\n",
    "for name in coherent_data:\n",
    "    data = coherent_data[name]\n",
    "    x_len = len(data.x)\n",
    "    mu_boot_g = np.zeros([n_boot, x_len])\n",
    "    mu_boot_g_dp = np.zeros([n_boot, x_len])\n",
    "    mu_boot_gvac = np.zeros([n_boot, x_len])\n",
    "    mu_boot_gvac_dp = np.zeros([n_boot, x_len])\n",
    "    sigma_tot = np.zeros(x_len)\n",
    "\n",
    "    # scs \n",
    "    up_lim = 1.6\n",
    "    x_dense = np.linspace(0, up_lim, 2000)\n",
    "    # data fit\n",
    "    data_fit = np.polyfit(data.x[data.x < up_lim], data.y[data.x < up_lim], POLYFIT_ORDER[name])\n",
    "    y_fit = np.poly1d(data_fit)(x_dense)\n",
    "    FI = compute_FI(y_fit, x_dense[1]-x_dense[0])\n",
    "    # print(len(FI))\n",
    "    # Get the optimal point from fitting data\n",
    "    idx = np.argmax(FI)\n",
    "    # Index for experimental data\n",
    "    idx_data = np.argmin(np.abs(data.x - x_dense[idx]))\n",
    "    opt_slope = np.gradient(y_fit, x_dense[1]-x_dense[0])[idx]\n",
    "    \n",
    "    # # Get optimal data\n",
    "    m1 = data.m1\n",
    "    mx_g = data.y_raw\n",
    "    opt_p_g = 1 - m1[:, idx_data]\n",
    "    opt_p_gvac = mx_g[:, idx_data]\n",
    "    var_opt_p = np.var(opt_p_g * opt_p_gvac)\n",
    "\n",
    "    for i in range(x_len):\n",
    "        # First measurement, g\n",
    "        # _, _, mu_boot_g[:,i] = bootstrap(data.m1[:, i], n_boot)\n",
    "        _, _, mu_boot_g[:,i], mu_boot_g_dp[:,i] = bootstrap_dp(data.m1[:, i], n_boot)\n",
    "\n",
    "        # Second measurement, g vac\n",
    "        _, _, mu_boot_gvac[:, i], mu_boot_gvac_dp[:,i] = bootstrap_dp(data.y_raw[:, i], n_boot)\n",
    "        \n",
    "    # mu_g_g_vac_boot = (1-mu_boot_g) * (mu_boot_gvac)\n",
    "    mu_g_g_vac_boot_dp = mu_boot_g_dp * mu_boot_gvac_dp\n",
    "\n",
    "    # opt_p = mu_g_g_vac_boot[idx_data]\n",
    "    # var_p = np.var(opt_p)\n",
    "    # print(var_p)\n",
    "    var_mu_g_g_vac_boot_dp  = np.var( mu_g_g_vac_boot_dp[idx_data] )\n",
    "    \n",
    "   \n",
    "    # # theta difference with and without boostraping \n",
    "\n",
    "    # difference_SCS.append(  np.sqrt(abs(var_p / opt_slope**2 - var_opt_p / opt_slope**2)) )\n",
    "    # difference_SCS.append(  np.sqrt(abs(var_p / opt_slope**2)) )\n",
    "    difference_coh.append( np.sqrt(var_mu_g_g_vac_boot_dp) )\n",
    " \n",
    "\n",
    "print(difference_coh)\n",
    "\n"
   ]
  },
  {
   "cell_type": "code",
   "execution_count": null,
   "metadata": {},
   "outputs": [
    {
     "name": "stdout",
     "output_type": "stream",
     "text": [
      "[0.0035436049562557535, 0.0010510087075410763, 0.002373811432229588, 0.001184424005699749, 0.0020608909176388613, 0.0015216645007758024, 0.0011063943351961754, 0.002007488547282707]\n"
     ]
    }
   ],
   "source": [
    "coherent_data = {\n",
    "    '0.5': load_experimental_data('ae/data/2023-11-07_c05.h5', THRESHOLDS['2023-11-07'], amplitude=True),\n",
    "    '0.75': load_experimental_data('ae/data/2023-11-14_c075.h5', THRESHOLDS['2023-11-14'], amplitude=True),\n",
    "    '1': load_experimental_data('ae/data/2023-11-13_c1.h5', THRESHOLDS['2023-11-13'], amplitude=True),\n",
    "    '1.25': load_experimental_data('ae/data/2023-11-14_c125.h5', THRESHOLDS['2023-11-14'], amplitude=True),\n",
    "    '1.5': load_experimental_data('ae/data/2023-11-07_c15.h5', THRESHOLDS['2023-11-07'], amplitude=True),\n",
    "    '1.6': load_experimental_data('ae/data/2023-11-15_c16.h5', THRESHOLDS['2023-11-15'], amplitude=True),\n",
    "    '1.75': load_experimental_data('ae/data/2023-11-14_c175.h5', THRESHOLDS['2023-11-14'], amplitude=True),\n",
    "    '2': load_experimental_data('ae/data/2023-11-07_c2.h5', THRESHOLDS['2023-11-07'], amplitude=True),\n",
    "}\n",
    "\n",
    "# cm = 0.393701\n",
    "# fig = plt.subplots(figsize =(8*cm, 5.5*cm))\n",
    "# # ax0 = fig.add_subplot(111)\n",
    "n_boot = 100\n",
    "# colors = {\n",
    "#     'SCS': ['tab:blue', 'o'],\n",
    "#     'SQL': ['tab:purple', 'd'],\n",
    "# }\n",
    "difference_coh=[]\n",
    "for name in coherent_data:\n",
    "    data = coherent_data[name]\n",
    "    x_len = len(data.x)\n",
    "    mu_boot_g = np.zeros([n_boot, x_len])\n",
    "    mu_boot_g_dp = np.zeros([n_boot, x_len])\n",
    "    mu_boot_gvac = np.zeros([n_boot, x_len])\n",
    "    mu_boot_gvac_dp = np.zeros([n_boot, x_len])\n",
    "    sigma_tot = np.zeros(x_len)\n",
    "\n",
    "    # scs \n",
    "    up_lim = 1.6\n",
    "    x_dense = np.linspace(0, up_lim, 2000)\n",
    "    # data fit\n",
    "    data_fit = np.polyfit(data.x[data.x < up_lim], data.y[data.x < up_lim], POLYFIT_ORDER[name])\n",
    "    y_fit = np.poly1d(data_fit)(x_dense)\n",
    "    FI = compute_FI(y_fit, x_dense[1]-x_dense[0])\n",
    "    # print(len(FI))\n",
    "    # Get the optimal point from fitting data\n",
    "    idx = np.argmax(FI)\n",
    "    # Index for experimental data\n",
    "    idx_data = np.argmin(np.abs(data.x - x_dense[idx]))\n",
    "    opt_slope = np.gradient(y_fit, x_dense[1]-x_dense[0])[idx]\n",
    "    \n",
    "    # # Get optimal data\n",
    "    m1 = data.m1\n",
    "    mx_g = data.y_raw\n",
    "    opt_p_g = 1 - m1[:, idx_data]\n",
    "    opt_p_gvac = mx_g[:, idx_data]\n",
    "    var_opt_p = np.var(opt_p_g * opt_p_gvac)\n",
    "\n",
    "    for i in range(x_len):\n",
    "        # First measurement, g\n",
    "        # _, _, mu_boot_g[:,i] = bootstrap(data.m1[:, i], n_boot)\n",
    "        _, _, mu_boot_g[:,i], mu_boot_g_dp[:,i] = bootstrap_dp(data.m1[:, i], n_boot)\n",
    "\n",
    "        # Second measurement, g vac\n",
    "        _, _, mu_boot_gvac[:, i], mu_boot_gvac_dp[:,i] = bootstrap_dp(data.y_raw[:, i], n_boot)\n",
    "        \n",
    "    # mu_g_g_vac_boot = (1-mu_boot_g) * (mu_boot_gvac)\n",
    "    mu_g_g_vac_boot_dp = mu_boot_g_dp * mu_boot_gvac_dp\n",
    "\n",
    "    # opt_p = mu_g_g_vac_boot[idx_data]\n",
    "    # var_p = np.var(opt_p)\n",
    "    # print(var_p)\n",
    "    var_mu_g_g_vac_boot_dp  = np.var( mu_g_g_vac_boot_dp[idx_data] )\n",
    "    \n",
    "   \n",
    "    # # theta difference with and without boostraping \n",
    "\n",
    "    # difference_SCS.append(  np.sqrt(abs(var_p / opt_slope**2 - var_opt_p / opt_slope**2)) )\n",
    "    # difference_SCS.append(  np.sqrt(abs(var_p / opt_slope**2)) )\n",
    "    difference_coh.append( np.sqrt(var_mu_g_g_vac_boot_dp) )\n",
    " \n",
    "\n",
    "print(difference_coh)\n"
   ]
  },
  {
   "cell_type": "code",
   "execution_count": null,
   "metadata": {},
   "outputs": [
    {
     "name": "stdout",
     "output_type": "stream",
     "text": [
      "[0.28531615 0.05026906 0.05579063 0.17217627 0.29810328 0.09511148\n",
      " 0.11339077 0.26238142]\n",
      "[0.08140530481111904, 0.002526978080281794, 0.0031125939235239404, 0.02964466862464805, 0.08886556455267808, 0.009046194540612616, 0.01285746776524097, 0.06884401067623283]\n"
     ]
    }
   ],
   "source": [
    "alpha_data_v = {\n",
    "    '0.5': load_experimental_data('ae/data/2023-11-13_alpha05v.h5', THRESHOLDS['2023-11-13'], amplitude=True),\n",
    "    '0.75': load_experimental_data('ae/data/2023-11-14_alpha075v.h5', THRESHOLDS['2023-11-13'], amplitude=True),\n",
    "    '1': load_experimental_data('ae/data/2023-11-13_alpha1v.h5', THRESHOLDS['2023-11-13'], amplitude=True),\n",
    "    '1.25': load_experimental_data('ae/data/2023-11-15_alpha125v.h5', THRESHOLDS['2023-11-15'], amplitude=True),\n",
    "    '1.5': load_experimental_data('ae/data/2023-11-15_alpha15v.h5', THRESHOLDS['2023-11-15'], amplitude=True),\n",
    "    '1.6': load_experimental_data('ae/data/2023-11-14_alpha16.h5', THRESHOLDS['2023-11-14'], amplitude=True),\n",
    "    '1.75': load_experimental_data('ae/data/2023-11-15_alpha175v.h5', THRESHOLDS['2023-11-15'], amplitude=True),\n",
    "    # '2': load_experimental_data('ae/data/2023-11-24_alpha2v.h5', THRESHOLDS['2023-11-13'], amplitude=True),\n",
    "    '2': load_experimental_data('ae/data/2023-11-13_alpha2v.h5', THRESHOLDS['2023-11-13'], amplitude=True),\n",
    "}\n",
    "\n",
    "# cm = 0.393701\n",
    "# fig = plt.subplots(figsize =(8*cm, 5.5*cm))\n",
    "# ax0 = fig.add_subplot(111)\n",
    "n_boot = 100\n",
    "# colors = {\n",
    "#     'SCS': ['tab:blue', 'o'],\n",
    "#     'SQL': ['tab:purple', 'd'],\n",
    "# }\n",
    "F_avg_error_SCS=[]\n",
    "var_F_avg_list = []\n",
    "for name in alpha_data:\n",
    "    F_avg_array = []\n",
    "    F_max_array = []\n",
    "    data = alpha_data[name]\n",
    "    x_len = len(data.x)\n",
    "    mu_boot_g = np.zeros([n_boot, x_len])\n",
    "    mu_boot_g_dp = np.zeros([n_boot, x_len])\n",
    "    mu_boot_gvac = np.zeros([n_boot, x_len])\n",
    "    mu_boot_gvac_dp = np.zeros([n_boot, x_len])\n",
    "    sigma_tot = np.zeros(x_len)\n",
    "    for i in range(x_len):\n",
    "        # First measurement, g\n",
    "        _, _, mu_boot_g[:,i] = bootstrap(data.m1[:, i], n_boot)\n",
    "\n",
    "        # Second measurement, g vac\n",
    "        _, _, mu_boot_gvac[:, i] = bootstrap(data.y_raw[:, i], n_boot)\n",
    "    mu_g_g_vac_boot = (1-mu_boot_g) * (mu_boot_gvac) # shape = (100, 149)\n",
    "\n",
    "    # scs \n",
    "    up_lim = 1.6\n",
    "    x_dense = np.linspace(0, up_lim, 2000)\n",
    "    # data fit\n",
    "    for k in range(shape(mu_g_g_vac_boot)[0]):\n",
    "        data_x = data.x\n",
    "        data_y = mu_g_g_vac_boot[k,:]\n",
    "        # fit\n",
    "        data_fit = np.polyfit(data_x[data_x< up_lim], data_y[data_x < up_lim], POLYFIT_ORDER[name])\n",
    "        y_fit = np.poly1d(data_fit)(x_dense)    \n",
    "        m, a, _, _ = extract_FI_params(x_dense, y_fit, MEASURED_SQL[name])\n",
    "        # print(MEASURED_SQL[name])\n",
    "        # plt.plot(x_dense, y_fit)\n",
    "        F_avg_array.append(a)\n",
    "        F_max_array.append(m)\n",
    "    # print(F_max_array)\n",
    "    # print(F_avg_array)\n",
    "    var_F_avg_list.append(np.var(np.array(F_avg_array)))\n",
    "    # print\n",
    "F_avg_list_error = np.sqrt(np.array(var_F_avg_list))\n",
    "print(F_avg_list_error)\n",
    "print(var_F_avg_list)\n",
    "\n"
   ]
  },
  {
   "cell_type": "code",
   "execution_count": null,
   "metadata": {},
   "outputs": [
    {
     "name": "stdout",
     "output_type": "stream",
     "text": [
      "[0, 2.7818646404063405, 3.1842457863283604, 3.7325371327403927, 5.009590249954178, 5.418998922192822, 6.53152869992398, 7.584604174348943]\n"
     ]
    }
   ],
   "source": [
    "print(result_avg)"
   ]
  },
  {
   "cell_type": "code",
   "execution_count": null,
   "metadata": {},
   "outputs": [],
   "source": []
  }
 ],
 "metadata": {
  "kernelspec": {
   "display_name": "base",
   "language": "python",
   "name": "python3"
  },
  "language_info": {
   "codemirror_mode": {
    "name": "ipython",
    "version": 3
   },
   "file_extension": ".py",
   "mimetype": "text/x-python",
   "name": "python",
   "nbconvert_exporter": "python",
   "pygments_lexer": "ipython3",
   "version": "3.12.4"
  }
 },
 "nbformat": 4,
 "nbformat_minor": 2
}
